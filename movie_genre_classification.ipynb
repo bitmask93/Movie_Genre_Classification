{
 "cells": [
  {
   "cell_type": "markdown",
   "metadata": {
    "colab_type": "text",
    "id": "A9hsH86jiif6"
   },
   "source": [
    "# Movie Genre Classification :\n",
    "\n",
    "  - To classify movies into various genres based on the Story of the Movie\n",
    "  \n",
    "  -  Database used : MovieLens Data. However Movielens Dataset is mainly used for Movie Recomendation, So They do not contain the full Movie plot. So I downloaded the plot from Wikipedia.\n",
    "  \n",
    "  - Used MovieLens 20m Dataset(https://grouplens.org/datasets/movielens/)\n",
    "  \n",
    "  - There is a better Dataset with 58k Movies, but I didn't do it cos of the time it will take to fetch the Plot for all the movies.\n",
    "  \n",
    "  - This is a multilabel Classification Model.\n",
    "  \n",
    "  - Used two different encoding Schemes: Google's Word2Vec and Glove Word embeddings to encode the plot."
   ]
  },
  {
   "cell_type": "markdown",
   "metadata": {
    "colab_type": "text",
    "id": "q-374C00jOtT"
   },
   "source": [
    "**Download The Dataset**"
   ]
  },
  {
   "cell_type": "code",
   "execution_count": 0,
   "metadata": {
    "colab": {},
    "colab_type": "code",
    "id": "L57wZJWjid-V"
   },
   "outputs": [],
   "source": [
    "import pandas as pd\n",
    "import numpy as np\n",
    "import matplotlib.pyplot as plt\n",
    "%matplotlib inline"
   ]
  },
  {
   "cell_type": "code",
   "execution_count": 0,
   "metadata": {
    "colab": {
     "base_uri": "https://localhost:8080/",
     "height": 34
    },
    "colab_type": "code",
    "id": "vOzmO9qGj3D3",
    "outputId": "02845e8f-69b3-432f-8332-473832092335"
   },
   "outputs": [
    {
     "data": {
      "text/plain": [
       "('ml-20m.zip', <http.client.HTTPMessage at 0x7fac5257d4a8>)"
      ]
     },
     "execution_count": 3,
     "metadata": {
      "tags": []
     },
     "output_type": "execute_result"
    }
   ],
   "source": [
    "import urllib.request\n",
    "import sys\n",
    "import time\n",
    "import urllib\n",
    "\n",
    "urllib.request.urlretrieve('http://files.grouplens.org/datasets/movielens/ml-20m.zip', 'ml-20m.zip')"
   ]
  },
  {
   "cell_type": "code",
   "execution_count": 0,
   "metadata": {
    "colab": {
     "base_uri": "https://localhost:8080/",
     "height": 170
    },
    "colab_type": "code",
    "id": "Qcifa7T2kS6O",
    "outputId": "d8fd0d4e-8726-48be-ea9b-d981ddf5c217"
   },
   "outputs": [
    {
     "name": "stdout",
     "output_type": "stream",
     "text": [
      "Archive:  ml-20m.zip\n",
      "   creating: ml-20m/\n",
      "  inflating: ml-20m/genome-scores.csv  \n",
      "  inflating: ml-20m/genome-tags.csv  \n",
      "  inflating: ml-20m/links.csv        \n",
      "  inflating: ml-20m/movies.csv       \n",
      "  inflating: ml-20m/ratings.csv      \n",
      "  inflating: ml-20m/README.txt       \n",
      "  inflating: ml-20m/tags.csv         \n"
     ]
    }
   ],
   "source": [
    "!unzip ml-20m.zip"
   ]
  },
  {
   "cell_type": "code",
   "execution_count": 0,
   "metadata": {
    "colab": {
     "base_uri": "https://localhost:8080/",
     "height": 204
    },
    "colab_type": "code",
    "id": "7edRzqFxkbjb",
    "outputId": "8a0b7c81-68cf-41e4-cfdc-73742a1d835d"
   },
   "outputs": [
    {
     "data": {
      "text/html": [
       "<div>\n",
       "<style scoped>\n",
       "    .dataframe tbody tr th:only-of-type {\n",
       "        vertical-align: middle;\n",
       "    }\n",
       "\n",
       "    .dataframe tbody tr th {\n",
       "        vertical-align: top;\n",
       "    }\n",
       "\n",
       "    .dataframe thead th {\n",
       "        text-align: right;\n",
       "    }\n",
       "</style>\n",
       "<table border=\"1\" class=\"dataframe\">\n",
       "  <thead>\n",
       "    <tr style=\"text-align: right;\">\n",
       "      <th></th>\n",
       "      <th>movieId</th>\n",
       "      <th>title</th>\n",
       "      <th>genres</th>\n",
       "    </tr>\n",
       "  </thead>\n",
       "  <tbody>\n",
       "    <tr>\n",
       "      <th>0</th>\n",
       "      <td>1</td>\n",
       "      <td>Toy Story (1995)</td>\n",
       "      <td>Adventure|Animation|Children|Comedy|Fantasy</td>\n",
       "    </tr>\n",
       "    <tr>\n",
       "      <th>1</th>\n",
       "      <td>2</td>\n",
       "      <td>Jumanji (1995)</td>\n",
       "      <td>Adventure|Children|Fantasy</td>\n",
       "    </tr>\n",
       "    <tr>\n",
       "      <th>2</th>\n",
       "      <td>3</td>\n",
       "      <td>Grumpier Old Men (1995)</td>\n",
       "      <td>Comedy|Romance</td>\n",
       "    </tr>\n",
       "    <tr>\n",
       "      <th>3</th>\n",
       "      <td>4</td>\n",
       "      <td>Waiting to Exhale (1995)</td>\n",
       "      <td>Comedy|Drama|Romance</td>\n",
       "    </tr>\n",
       "    <tr>\n",
       "      <th>4</th>\n",
       "      <td>5</td>\n",
       "      <td>Father of the Bride Part II (1995)</td>\n",
       "      <td>Comedy</td>\n",
       "    </tr>\n",
       "  </tbody>\n",
       "</table>\n",
       "</div>"
      ],
      "text/plain": [
       "   movieId  ...                                       genres\n",
       "0        1  ...  Adventure|Animation|Children|Comedy|Fantasy\n",
       "1        2  ...                   Adventure|Children|Fantasy\n",
       "2        3  ...                               Comedy|Romance\n",
       "3        4  ...                         Comedy|Drama|Romance\n",
       "4        5  ...                                       Comedy\n",
       "\n",
       "[5 rows x 3 columns]"
      ]
     },
     "execution_count": 2,
     "metadata": {
      "tags": []
     },
     "output_type": "execute_result"
    }
   ],
   "source": [
    "movie = pd.read_csv('ml-20m/movies.csv')\n",
    "movie.head()"
   ]
  },
  {
   "cell_type": "code",
   "execution_count": 0,
   "metadata": {
    "colab": {
     "base_uri": "https://localhost:8080/",
     "height": 34
    },
    "colab_type": "code",
    "id": "GEtMQ8Z_TR1A",
    "outputId": "5616034a-c25a-47cd-e1b6-ec7bb4681fdd"
   },
   "outputs": [
    {
     "data": {
      "text/plain": [
       "(27278, 3)"
      ]
     },
     "execution_count": 6,
     "metadata": {
      "tags": []
     },
     "output_type": "execute_result"
    }
   ],
   "source": [
    "movie.shape"
   ]
  },
  {
   "cell_type": "markdown",
   "metadata": {
    "colab_type": "text",
    "id": "hr0lEvFKOCK1"
   },
   "source": [
    "- The Plot of the Story is not available in the dataset, So will use Python's Wikipedia Package to get the Plot for the movies.\n",
    " \n",
    "- Movie Plot is usually present in Plot section of Movies. However all movie plots are not in Plot section. SOme are in Plot summary, Summary, Synopsis etc.\n"
   ]
  },
  {
   "cell_type": "code",
   "execution_count": 0,
   "metadata": {
    "colab": {
     "base_uri": "https://localhost:8080/",
     "height": 156
    },
    "colab_type": "code",
    "id": "jBXPPsS4RfV_",
    "outputId": "ef4f6965-d771-4727-f61e-bc5e9c9c9052"
   },
   "outputs": [
    {
     "name": "stdout",
     "output_type": "stream",
     "text": [
      "Requirement already satisfied: wikipedia in /usr/local/lib/python3.6/dist-packages (1.4.0)\n",
      "Requirement already satisfied: beautifulsoup4 in /usr/local/lib/python3.6/dist-packages (from wikipedia) (4.6.3)\n",
      "Requirement already satisfied: requests<3.0.0,>=2.0.0 in /usr/local/lib/python3.6/dist-packages (from wikipedia) (2.21.0)\n",
      "Requirement already satisfied: idna<2.9,>=2.5 in /usr/local/lib/python3.6/dist-packages (from requests<3.0.0,>=2.0.0->wikipedia) (2.8)\n",
      "Requirement already satisfied: certifi>=2017.4.17 in /usr/local/lib/python3.6/dist-packages (from requests<3.0.0,>=2.0.0->wikipedia) (2019.9.11)\n",
      "Requirement already satisfied: urllib3<1.25,>=1.21.1 in /usr/local/lib/python3.6/dist-packages (from requests<3.0.0,>=2.0.0->wikipedia) (1.24.3)\n",
      "Requirement already satisfied: chardet<3.1.0,>=3.0.2 in /usr/local/lib/python3.6/dist-packages (from requests<3.0.0,>=2.0.0->wikipedia) (3.0.4)\n"
     ]
    }
   ],
   "source": [
    "pip install wikipedia"
   ]
  },
  {
   "cell_type": "code",
   "execution_count": 0,
   "metadata": {
    "colab": {},
    "colab_type": "code",
    "id": "Qs2AcqwEUe_B"
   },
   "outputs": [],
   "source": [
    "import wikipedia"
   ]
  },
  {
   "cell_type": "code",
   "execution_count": 0,
   "metadata": {
    "colab": {},
    "colab_type": "code",
    "id": "IfwmmG6SRW9K"
   },
   "outputs": [],
   "source": [
    "#section = wikipedia.WikipediaPage('Toy Story').section('Plot')\n",
    "section = wikipedia.WikipediaPage('Heat (1995 film)').section('Plot')"
   ]
  },
  {
   "cell_type": "code",
   "execution_count": 0,
   "metadata": {
    "colab": {
     "base_uri": "https://localhost:8080/",
     "height": 54
    },
    "colab_type": "code",
    "id": "4znaAWim010_",
    "outputId": "7716021e-ae18-43a9-adea-fc3550194526"
   },
   "outputs": [
    {
     "data": {
      "text/plain": [
       "\"Professional thief Neil McCauley lives by a personal code: have nothing in your life you cannot leave behind if you need to escape the police. He and his crew – Chris Shiherlis, Michael Cheritto and Trejo – hire Waingro to help rob $1.6 million in bearer bonds from an armored car. During the heist, Waingro impulsively kills a guard. Another guard reaches for his concealed pistol, forcing the crew to kill him as well. McCauley gives the order to kill the third guard so as not to leave an eyewitness, but is incensed with Waingro for the needless escalation. McCauley's crew prepares to kill Waingro, but are distracted by a passing police cruiser, and he escapes.\\nMcCauley begins a relationship with Eady. His fence, Nate, suggests he sell the stolen bonds back to their original owner, money launderer Roger Van Zant, who could profit by claiming the insurance on the bonds. Van Zant agrees, but instructs his men to ambush McCauley at the meeting. McCauley survives the ambush, killing both of Van Zant's men, and vows revenge against Van Zant, threatening him by telephone.\\nLAPD Major Crimes Unit Lieutenant Vincent Hanna investigates the robbery with Sergeant Drucker and Detectives Casals, Bosko, and Schwartz. An informant connects Cheritto to the robbery, and Hanna's team surveils him. Hanna's team stakes out the crew's next target, a precious metals depository; when a careless officer makes a noise, McCauley makes the crew walk off the job. Hanna lets them go so he can continue gathering evidence, rather than arrest them on a minor breaking and entering charge.\\nDespite the increased police surveillance, McCauley's crew agrees to one last bank robbery worth $12.2 million. Hanna pulls over McCauley on the 105 Freeway and invites him to coffee. They talk about their commitment to their fields and limitations of their personal lives. Hanna says that his third marriage, to Justine, is near failure, and McCauley confides that he is similarly isolated. They both acknowledge that they will kill the other if necessary. When Hanna returns to his office, he learns that McCauley's crew have slipped their surveillance.\\nWaingro, having made a deal with Van Zant to help eliminate McCauley's crew, tortures Trejo for information. Acting on a tip from Van Zant's bodyguard Hugh Benny, the LAPD intercept the crew as they are leaving the bank, resulting in a massive shootout in Downtown Los Angeles. Bosko is killed and many police officers are also killed or wounded, while McCauley loses Cheritto and his alternate driver Donald Breeden, and Shiherlis is wounded. McCauley arrives at Trejo's house to find Trejo's wife murdered. A dying Trejo reveals Waingro's involvement, prompting McCauley to kill Van Zant. Eady realizes that McCauley is a criminal but ultimately agrees to flee the country with him. Shiherlis attempts to reconnect with his wife Charlene, who is helping the LAPD in a sting operation to capture him. She changes her mind and helps him escape, albeit without a way to keep their son Dominic in his life.\\nHanna finds his stepdaughter Lauren unresponsive in the bathtub after a suicide attempt and rushes her to the hospital. He and Justine comfort each other after learning that she has survived. Meanwhile, McCauley drives to the airport with Eady to flee to New Zealand, but learns of Waingro's location and abandons his usual caution to seek revenge. The LAPD learns of McCauley's arrival at Waingro's hotel. McCauley kills Waingro, but before he can return to Eady and escape, he is spotted by Hanna and flees alone on foot. Hanna pursues McCauley onto the tarmac at LAX and mortally wounds him. Hanna takes his hand as McCauley succumbs to his injuries.\""
      ]
     },
     "execution_count": 27,
     "metadata": {
      "tags": []
     },
     "output_type": "execute_result"
    }
   ],
   "source": [
    "section"
   ]
  },
  {
   "cell_type": "code",
   "execution_count": 0,
   "metadata": {
    "colab": {},
    "colab_type": "code",
    "id": "NC0SlLgWzxhI"
   },
   "outputs": [],
   "source": [
    "section = wikipedia.WikipediaPage(\"The Good Earth (film)\").section('Plot')"
   ]
  },
  {
   "cell_type": "code",
   "execution_count": 0,
   "metadata": {
    "colab": {
     "base_uri": "https://localhost:8080/",
     "height": 54
    },
    "colab_type": "code",
    "id": "iscWz0G72Cun",
    "outputId": "d4628a9c-f4e6-486b-dd2e-3f6552692ecf"
   },
   "outputs": [
    {
     "data": {
      "text/plain": [
       "'In pre-World War I northern China, young farmer Wang Lung (Paul Muni) marries O-Lan (Luise Rainer), a slave at the Great House, the residence of the most powerful family in their village. O-Lan proves to be an excellent wife, hard working and uncomplaining. Wang Lung prospers. He buys more land, and O-Lan gives birth to two sons and a daughter. Meanwhile, the Great House begins to decline.\\nAll is well until a drought and the resulting famine drive the family to the brink. O-Lan gives birth to a second daughter but kills her shortly after birth to spare her from starvation. Desperate, Wang Lung considers the advice of his pessimistic, worthless uncle (Walter Connolly) to sell his land for food, but O-Lan opposes it. Instead, they travel south to a city in search of work. The family survives by begging and stealing. When a revolutionary gives a speech to try to drum up support for the army approaching despite rain in the north, Wang Lung and O-Lan realize the drought is over. They long to return to their farm, but they have no money for an ox, seed, and food.\\nThe city changes hands, and O-Lan joins a mob looting a mansion. However, she is knocked down and trampled upon. When she comes to, she finds a bag of jewels overlooked in the confusion. This windfall allows the family to go home and prosper once more. O-Lan asks only to keep two pearls for herself.\\nYears pass. Wang Lung\\'s sons grow up into educated young men, and he has grown so wealthy that he purchases the Great House. Then, Wang Lung becomes besotted with Lotus (Tilly Losch), a pretty, young dancer at the local tea house, and makes her his second wife. He begins to find fault with the worn-out O-Lan. Desperate to gain affection from Lotus, he gives O-Lan\\'s pearls to Lotus.\\nWhen Wang Lung discovers that Lotus has seduced Younger Son (Roland Lui), he orders his son to leave. Then a swarm of locusts threatens the entire village. Using a strategy devised by Elder Son (Keye Luke), everyone unites to try to save the crops. Just when all seems lost, the wind shifts direction, taking the danger away. The near-disaster brings Wang Lung back to his senses. He reconciles with Younger Son. On the latter\\'s wedding day, Wang Lung returns the pearls to O-Lan before she dies, completely exhausted by a hard life.  Without disturbing the wedding festivities, Wang Lung quietly exits the house and regards a flowering peach tree planted by O-Lan on their marriage day.  Reverently he murmurs, \"O-Lan, you are the earth.\"'"
      ]
     },
     "execution_count": 2191,
     "metadata": {
      "tags": []
     },
     "output_type": "execute_result"
    }
   ],
   "source": [
    "section"
   ]
  },
  {
   "cell_type": "code",
   "execution_count": 0,
   "metadata": {
    "colab": {
     "base_uri": "https://localhost:8080/",
     "height": 54
    },
    "colab_type": "code",
    "id": "COGKkxB0AfI5",
    "outputId": "569ab44c-8c23-45a6-e10c-ab43678bace1"
   },
   "outputs": [
    {
     "data": {
      "text/plain": [
       "'Obermaier enjoyed sexual freedom at the legendary Kommune 1 in Berlin after being with the krautrock band  Bröselpilze. In the Kommune, she becomes friendly with Rainer Langhans. The young woman from Munich gains employment as a model, and becomes a sex symbol and youth icon. Now a cover girl in Playboy magazine, she meets rock stars such as Mick Jagger and Keith Richards, while Italian film producer, Carlo Ponti, offers her a ten-year contract, but she declines: her freedom is more important than a contract.\\nDuring her intensive relationship with Keith Richards, she begins to recognize the dark side of the shiny glamour world she lives in: the isolation of the stars, and the groupie-populated milieux of anonymous hotel rooms — this is not her idea of life.\\nShe finds new freedom in a relationship with the adventurer Dieter Bockhorn (David Scheller). They fall in love and go on a six-year road trip around the world. Later, Bockhorn dies in a motorcycle accident in Mexico.'"
      ]
     },
     "execution_count": 60,
     "metadata": {
      "tags": []
     },
     "output_type": "execute_result"
    }
   ],
   "source": [
    "section = wikipedia.WikipediaPage(\"Eight Miles High (film)\").section('Film Synopsis')\n",
    "section"
   ]
  },
  {
   "cell_type": "code",
   "execution_count": 0,
   "metadata": {
    "colab": {
     "base_uri": "https://localhost:8080/",
     "height": 54
    },
    "colab_type": "code",
    "id": "hvSUnoqDy-Wb",
    "outputId": "d831797b-ab94-481c-ab84-670ce549575f"
   },
   "outputs": [
    {
     "data": {
      "text/plain": [
       "\"An American woman, Patricia Carroll (Powers), arrives in London to marry her lover Alan Glentower (Kaufmann). Before tying the knot, however, Patricia pays a visit to Mrs. Trefoile (Bankhead), the mother of her deceased fiancé Stephen, who died in an automobile accident several years earlier. Trefoile resides in a secluded house on the edge of an English village. She is fanatically religious, and it soon becomes apparent that she blames Patricia for her son's death. Indeed, when Patricia reveals to her that she never actually intended to marry Stephen, Trefoile enlists the aid of her servants, Harry (Vaughn) and Anna (Joyce), in holding Patricia captive so she can exorcise the young woman's soul. After several attempts to escape the Trefoile house, one of which nearly results in Patricia's being sexually assaulted by Harry, she is rescued by Alan; and in the end, Mrs. Trefoile winds up dead with a knife in her back -- the same knife with which she earlier attempted to murder Patricia.\""
      ]
     },
     "execution_count": 464,
     "metadata": {
      "tags": []
     },
     "output_type": "execute_result"
    }
   ],
   "source": [
    "section = wikipedia.WikipediaPage(\"Fanatic (1965 film)\").section('Plot details')\n",
    "section"
   ]
  },
  {
   "cell_type": "code",
   "execution_count": null,
   "metadata": {},
   "outputs": [],
   "source": [
    "movie_df = pd.read_csv('ml-20m/movies.csv')"
   ]
  },
  {
   "cell_type": "code",
   "execution_count": 0,
   "metadata": {
    "colab": {},
    "colab_type": "code",
    "id": "vw5uJQFuRBm7"
   },
   "outputs": [],
   "source": [
    "import wikipedia\n",
    "def get_plot(ap):\n",
    "  try:\n",
    "    be_be = wikipedia.search(ap)\n",
    "  except:\n",
    "    return np.nan\n",
    "  #plot = []\n",
    "  #import nltk\n",
    "  #dist = []\n",
    "  #for i in be_be:\n",
    "  #  dist.append(nltk.edit_distance(i, ap))\n",
    "  indx = 0\n",
    "  try:\n",
    "    section = wikipedia.WikipediaPage(be_be[indx]).section('Plot')\n",
    "  except:\n",
    "    return np.nan\n",
    "  if(section==None):\n",
    "    try:\n",
    "      section = wikipedia.WikipediaPage(be_be[indx]).section('Synopsis')\n",
    "    except:\n",
    "      return np.nan\n",
    "  if(section==None):\n",
    "    try:\n",
    "      section = wikipedia.WikipediaPage(be_be[indx]).section('Plot synopsis')\n",
    "    except:\n",
    "      return np.nan\n",
    "  if(section==None):\n",
    "    try:\n",
    "      section = wikipedia.WikipediaPage(be_be[indx]).section('Plot summary')\n",
    "    except:\n",
    "      return np.nan\n",
    "  if(section==None):\n",
    "    try:\n",
    "      section = wikipedia.WikipediaPage(be_be[indx]).section('Film Synopsis')\n",
    "    except:\n",
    "      return np.nan\n",
    "  return section"
   ]
  },
  {
   "cell_type": "code",
   "execution_count": 0,
   "metadata": {
    "colab": {
     "base_uri": "https://localhost:8080/",
     "height": 139
    },
    "colab_type": "code",
    "id": "64VMiQTmRBte",
    "outputId": "9794ce37-e197-4eb1-8eb2-144219e6bba2"
   },
   "outputs": [
    {
     "name": "stderr",
     "output_type": "stream",
     "text": [
      "  2%|▏         | 27/1650 [01:34<1:34:41,  3.50s/it]/usr/local/lib/python3.6/dist-packages/wikipedia/wikipedia.py:389: UserWarning: No parser was explicitly specified, so I'm using the best available HTML parser for this system (\"lxml\"). This usually isn't a problem, but if you run this code on another system, or in a different virtual environment, it may use a different parser and behave differently.\n",
      "\n",
      "The code that caused this warning is on line 389 of the file /usr/local/lib/python3.6/dist-packages/wikipedia/wikipedia.py. To get rid of this warning, pass the additional argument 'features=\"lxml\"' to the BeautifulSoup constructor.\n",
      "\n",
      "  lis = BeautifulSoup(html).find_all('li')\n",
      "100%|██████████| 1650/1650 [2:11:12<00:00,  5.19s/it]\n"
     ]
    }
   ],
   "source": [
    "from tqdm import tqdm\n",
    "plt_arr = []\n",
    "for i in tqdm(range(0,1650)):\n",
    "  if(need.loc[indexx[i]]['genres']=='Documentary'):\n",
    "    plot=np.nan\n",
    "  else:\n",
    "    plot = get_plot(need.loc[indexx[i]]['title'])\n",
    "  plt_arr.append(plot)\n",
    "  #movie_df.at[indexx[i],'plot'] = plot"
   ]
  },
  {
   "cell_type": "code",
   "execution_count": 0,
   "metadata": {
    "colab": {},
    "colab_type": "code",
    "id": "AL35xPz30HUX"
   },
   "outputs": [],
   "source": [
    "for i in range(1650):\n",
    "  movie_df.at[indexx[i],'plot'] = plt_arr[i]"
   ]
  },
  {
   "cell_type": "markdown",
   "metadata": {},
   "source": [
    "- The above code for 27k movies takes around 24 hours to run. So I ran the code in batches of 1000 on 2 different machines and from some batches, I was able to observe that Most of the films with Documentary returned 'None', So to avoid searching time, I added np.nan to movies with genre = Documentary."
   ]
  },
  {
   "cell_type": "code",
   "execution_count": 0,
   "metadata": {
    "colab": {},
    "colab_type": "code",
    "id": "2Q3vyv1nfdMb"
   },
   "outputs": [],
   "source": [
    "#Save The Batch of Dataset\n",
    "movie_df.to_csv('movie_plot_final.csv',index=False)"
   ]
  },
  {
   "cell_type": "code",
   "execution_count": 0,
   "metadata": {
    "colab": {
     "base_uri": "https://localhost:8080/",
     "height": 102
    },
    "colab_type": "code",
    "id": "y8FUNyUK_7M_",
    "outputId": "f3a1374b-e0c7-4f24-edda-5bc09371af5b"
   },
   "outputs": [
    {
     "data": {
      "text/plain": [
       "movieId                    92781\n",
       "title      City Dark, The (2011)\n",
       "genres               Documentary\n",
       "plot                         NaN\n",
       "Name: 18642, dtype: object"
      ]
     },
     "execution_count": 75,
     "metadata": {
      "tags": []
     },
     "output_type": "execute_result"
    }
   ],
   "source": [
    "ap = movie_df.loc[indexx[16]]['title']\n",
    "movie_df.loc[indexx[16]]"
   ]
  },
  {
   "cell_type": "markdown",
   "metadata": {},
   "source": [
    "- This is the output from one of the earliest batches and on manual searching, I found that most of the movies with standalone genre = Documentary had no plots or no wikipedia article."
   ]
  },
  {
   "cell_type": "code",
   "execution_count": 0,
   "metadata": {
    "colab": {
     "base_uri": "https://localhost:8080/",
     "height": 102
    },
    "colab_type": "code",
    "id": "GphrVAqZRw1j",
    "outputId": "284ff53b-a8bf-4fcd-c1ea-0f7a7dcb084a"
   },
   "outputs": [
    {
     "data": {
      "text/plain": [
       "movieId                                                92670\n",
       "title      Jodorowsky Constellation, The (La constellatio...\n",
       "genres                                           Documentary\n",
       "plot                                                     NaN\n",
       "Name: 18614, dtype: object"
      ]
     },
     "execution_count": 77,
     "metadata": {
      "tags": []
     },
     "output_type": "execute_result"
    }
   ],
   "source": [
    "movie_df.loc[18614]"
   ]
  },
  {
   "cell_type": "code",
   "execution_count": 0,
   "metadata": {
    "colab": {
     "base_uri": "https://localhost:8080/",
     "height": 34
    },
    "colab_type": "code",
    "id": "yaMtNgtkrtrW",
    "outputId": "d6a2cab7-d0c3-4c93-d91f-4ef28e82e99a"
   },
   "outputs": [
    {
     "data": {
      "text/plain": [
       "(7139, 4)"
      ]
     },
     "execution_count": 365,
     "metadata": {
      "tags": []
     },
     "output_type": "execute_result"
    }
   ],
   "source": [
    "movie_df[movie_df['plot'].isnull()].shape"
   ]
  },
  {
   "cell_type": "markdown",
   "metadata": {},
   "source": [
    "- Even After running the code for hours, it still had 7.1k missing values and So I manually examined as much of the movies as I could and found that most of the movies did not have plot since they are too old and not so famous, Most of the films from foreign laguages also did not have plot, foreign movies that are not so famous.\n",
    "\n",
    "- Also for some movies that I observed, I filled Plots manually also."
   ]
  },
  {
   "cell_type": "markdown",
   "metadata": {
    "colab_type": "text",
    "id": "NQ5s-iB7lBwU"
   },
   "source": [
    "**Load The final Dataset**"
   ]
  },
  {
   "cell_type": "code",
   "execution_count": 0,
   "metadata": {
    "colab": {},
    "colab_type": "code",
    "id": "96gQWC9DyfbE"
   },
   "outputs": [],
   "source": [
    "movie_df = pd.read_csv('movie_plot_final.csv')"
   ]
  },
  {
   "cell_type": "code",
   "execution_count": 0,
   "metadata": {
    "colab": {},
    "colab_type": "code",
    "id": "QUs4Npr_yfX3"
   },
   "outputs": [],
   "source": [
    "#Taking only Those movies whose plot is not null.\n",
    "movie_df = movie_df[movie_df['plot'].notnull()]"
   ]
  },
  {
   "cell_type": "code",
   "execution_count": 0,
   "metadata": {
    "colab": {
     "base_uri": "https://localhost:8080/",
     "height": 204
    },
    "colab_type": "code",
    "id": "pryzjzp4XRQI",
    "outputId": "b801c15e-1c25-4b80-b94f-20029c3faa44"
   },
   "outputs": [
    {
     "data": {
      "text/html": [
       "<div>\n",
       "<style scoped>\n",
       "    .dataframe tbody tr th:only-of-type {\n",
       "        vertical-align: middle;\n",
       "    }\n",
       "\n",
       "    .dataframe tbody tr th {\n",
       "        vertical-align: top;\n",
       "    }\n",
       "\n",
       "    .dataframe thead th {\n",
       "        text-align: right;\n",
       "    }\n",
       "</style>\n",
       "<table border=\"1\" class=\"dataframe\">\n",
       "  <thead>\n",
       "    <tr style=\"text-align: right;\">\n",
       "      <th></th>\n",
       "      <th>movieId</th>\n",
       "      <th>title</th>\n",
       "      <th>genres</th>\n",
       "      <th>plot</th>\n",
       "    </tr>\n",
       "  </thead>\n",
       "  <tbody>\n",
       "    <tr>\n",
       "      <th>0</th>\n",
       "      <td>1</td>\n",
       "      <td>Toy Story (1995)</td>\n",
       "      <td>Adventure|Animation|Children|Comedy|Fantasy</td>\n",
       "      <td>In a world where toys are living things but pr...</td>\n",
       "    </tr>\n",
       "    <tr>\n",
       "      <th>1</th>\n",
       "      <td>2</td>\n",
       "      <td>Jumanji (1995)</td>\n",
       "      <td>Adventure|Children|Fantasy</td>\n",
       "      <td>In 1869, near Brantford, New Hampshire, two bo...</td>\n",
       "    </tr>\n",
       "    <tr>\n",
       "      <th>2</th>\n",
       "      <td>3</td>\n",
       "      <td>Grumpier Old Men (1995)</td>\n",
       "      <td>Comedy|Romance</td>\n",
       "      <td>The feud between Max (Walter Matthau) and John...</td>\n",
       "    </tr>\n",
       "    <tr>\n",
       "      <th>3</th>\n",
       "      <td>4</td>\n",
       "      <td>Waiting to Exhale (1995)</td>\n",
       "      <td>Comedy|Drama|Romance</td>\n",
       "      <td>Waiting to Exhale is a story about four Black ...</td>\n",
       "    </tr>\n",
       "    <tr>\n",
       "      <th>4</th>\n",
       "      <td>5</td>\n",
       "      <td>Father of the Bride Part II (1995)</td>\n",
       "      <td>Comedy</td>\n",
       "      <td>The film begins 4 years after the events of th...</td>\n",
       "    </tr>\n",
       "  </tbody>\n",
       "</table>\n",
       "</div>"
      ],
      "text/plain": [
       "   movieId  ...                                               plot\n",
       "0        1  ...  In a world where toys are living things but pr...\n",
       "1        2  ...  In 1869, near Brantford, New Hampshire, two bo...\n",
       "2        3  ...  The feud between Max (Walter Matthau) and John...\n",
       "3        4  ...  Waiting to Exhale is a story about four Black ...\n",
       "4        5  ...  The film begins 4 years after the events of th...\n",
       "\n",
       "[5 rows x 4 columns]"
      ]
     },
     "execution_count": 244,
     "metadata": {
      "tags": []
     },
     "output_type": "execute_result"
    }
   ],
   "source": [
    "movie_df.head(5)"
   ]
  },
  {
   "cell_type": "markdown",
   "metadata": {
    "colab_type": "text",
    "id": "MOfoCsBGmXhe"
   },
   "source": [
    "**EDA on Genres**"
   ]
  },
  {
   "cell_type": "markdown",
   "metadata": {
    "colab_type": "text",
    "id": "NM5JnOuSnhvJ"
   },
   "source": [
    "Removing No genres listed"
   ]
  },
  {
   "cell_type": "code",
   "execution_count": 0,
   "metadata": {
    "colab": {},
    "colab_type": "code",
    "id": "WudSZOTUnRRh"
   },
   "outputs": [],
   "source": [
    "movie_df = movie_df[movie_df['genres']!='(no genres listed)']"
   ]
  },
  {
   "cell_type": "code",
   "execution_count": 0,
   "metadata": {
    "colab": {},
    "colab_type": "code",
    "id": "yY0CsXQrlwtK"
   },
   "outputs": [],
   "source": [
    "genre_count = {}\n",
    "for i in movie_df['genres']:\n",
    "  arr = i.split('|')\n",
    "  for k in arr:\n",
    "    if(k in genre_count):\n",
    "      genre_count[k]+=1\n",
    "    else:\n",
    "      genre_count[k] = 1"
   ]
  },
  {
   "cell_type": "code",
   "execution_count": 0,
   "metadata": {
    "colab": {},
    "colab_type": "code",
    "id": "ty5ONYbMnyp2"
   },
   "outputs": [],
   "source": [
    "key = []\n",
    "value = []\n",
    "for i in genre_count:\n",
    "  key.append(i)\n",
    "  value.append(genre_count[i])"
   ]
  },
  {
   "cell_type": "code",
   "execution_count": 0,
   "metadata": {
    "colab": {
     "base_uri": "https://localhost:8080/",
     "height": 398
    },
    "colab_type": "code",
    "id": "HgxnXlkZmqpU",
    "outputId": "ddf61dec-a1cc-4471-fed9-83ef270db78b",
    "scrolled": false
   },
   "outputs": [
    {
     "data": {
      "image/png": "[encoded data removed]",
      "text/plain": [
       "<Figure size 720x360 with 1 Axes>"
      ]
     },
     "metadata": {
      "tags": []
     },
     "output_type": "display_data"
    }
   ],
   "source": [
    "import seaborn as sns\n",
    "import matplotlib.pyplot as plt\n",
    "#dir_counts = dff['publication'].value_counts()\n",
    "plt.figure(figsize=(10,5))\n",
    "g = sns.barplot(key, value, alpha=0.8)\n",
    "for item in g.get_xticklabels():\n",
    "    item.set_rotation(90)\n",
    "plt.xlabel('Genre',fontsize=12)\n",
    "plt.ylabel('counts',fontsize=12)\n",
    "plt.show()"
   ]
  },
  {
   "cell_type": "markdown",
   "metadata": {
    "colab_type": "text",
    "id": "bN-kADACoGyA"
   },
   "source": [
    "**Have an Imbalanced Dataset here, Most of the movies considered are Drama, The reason maybe because of the fact the most of the movies in the movie lens data are from years<99.**"
   ]
  },
  {
   "cell_type": "markdown",
   "metadata": {
    "colab_type": "text",
    "id": "fSLOZTdJo_nD"
   },
   "source": [
    "- I will remove IMAX and Documentary from this. Because IMAX is too less and so is Documentary, since I removed the standalone Documentary, it must be from those movies with multiple genres."
   ]
  },
  {
   "cell_type": "code",
   "execution_count": 0,
   "metadata": {
    "colab": {},
    "colab_type": "code",
    "id": "1fkeNKJKo-lt"
   },
   "outputs": [],
   "source": [
    "new_genres = []\n",
    "for i in movie_df['genres']:\n",
    "  arr = i.split('|')\n",
    "  str1 = ''\n",
    "  for k in arr:\n",
    "    if(k!='IMAX'):\n",
    "      str1=str1+'|'+k\n",
    "  str1 = str1.lstrip('|')\n",
    "  new_genres.append(str1)"
   ]
  },
  {
   "cell_type": "code",
   "execution_count": 0,
   "metadata": {
    "colab": {},
    "colab_type": "code",
    "id": "d7KCAI2gpoy6"
   },
   "outputs": [],
   "source": [
    "movie_df['genres'] = new_genres"
   ]
  },
  {
   "cell_type": "code",
   "execution_count": 0,
   "metadata": {
    "colab": {},
    "colab_type": "code",
    "id": "fPCEzTKAVEJz"
   },
   "outputs": [],
   "source": [
    "new_genres = []\n",
    "for i in movie_df['genres']:\n",
    "  arr = i.split('|')\n",
    "  str1 = ''\n",
    "  for k in arr:\n",
    "    if(k!='Documentary'):\n",
    "      str1=str1+'|'+k\n",
    "  str1 = str1.lstrip('|')\n",
    "  new_genres.append(str1)"
   ]
  },
  {
   "cell_type": "code",
   "execution_count": 0,
   "metadata": {
    "colab": {},
    "colab_type": "code",
    "id": "Eof1eyiTVLIb"
   },
   "outputs": [],
   "source": [
    "movie_df['genres'] = new_genres"
   ]
  },
  {
   "cell_type": "code",
   "execution_count": 0,
   "metadata": {
    "colab": {},
    "colab_type": "code",
    "id": "K7V-0ZL-U6vg"
   },
   "outputs": [],
   "source": [
    "movie_df = movie_df[movie_df['genres']!='']"
   ]
  },
  {
   "cell_type": "code",
   "execution_count": 0,
   "metadata": {
    "colab": {
     "base_uri": "https://localhost:8080/",
     "height": 382
    },
    "colab_type": "code",
    "id": "vd1xcqZZp3UU",
    "outputId": "ffbae70b-01ce-4616-b2e5-9fa1f92b2d39"
   },
   "outputs": [
    {
     "data": {
      "image/png": "[encoded data removed]",
      "text/plain": [
       "<Figure size 720x360 with 1 Axes>"
      ]
     },
     "metadata": {
      "tags": []
     },
     "output_type": "display_data"
    }
   ],
   "source": [
    "#Plot The Genres once again\n",
    "genre_count = {}\n",
    "for i in movie_df['genres']:\n",
    "  arr = i.split('|')\n",
    "  for k in arr:\n",
    "    if(k in genre_count):\n",
    "      genre_count[k]+=1\n",
    "    else:\n",
    "      genre_count[k] = 1\n",
    "key = []\n",
    "value = []\n",
    "for i in genre_count:\n",
    "  key.append(i)\n",
    "  value.append(genre_count[i])\n",
    "  \n",
    "import seaborn as sns\n",
    "import matplotlib.pyplot as plt\n",
    "#dir_counts = dff['publication'].value_counts()\n",
    "plt.figure(figsize=(10,5))\n",
    "g = sns.barplot(key, value, alpha=0.8)\n",
    "for item in g.get_xticklabels():\n",
    "    item.set_rotation(90)\n",
    "plt.xlabel('Genre',fontsize=12)\n",
    "plt.ylabel('counts',fontsize=12)\n",
    "plt.show()"
   ]
  },
  {
   "cell_type": "markdown",
   "metadata": {
    "colab_type": "text",
    "id": "p3wr8ZHxs_9y"
   },
   "source": [
    "There is an imbalance in dataset, must make sure model doesn't overfit"
   ]
  },
  {
   "cell_type": "code",
   "execution_count": 0,
   "metadata": {
    "colab": {},
    "colab_type": "code",
    "id": "0-HwkN_3qE2X"
   },
   "outputs": [],
   "source": [
    "gen_len = []\n",
    "for i in movie_df['genres']:\n",
    "  arr = i.split('|')\n",
    "  gen_len.append(len(arr))"
   ]
  },
  {
   "cell_type": "code",
   "execution_count": 0,
   "metadata": {
    "colab": {
     "base_uri": "https://localhost:8080/",
     "height": 51
    },
    "colab_type": "code",
    "id": "2JdFcT4OoD0d",
    "outputId": "c51116e4-3e42-4a1c-ac1b-d6296b946184"
   },
   "outputs": [
    {
     "name": "stdout",
     "output_type": "stream",
     "text": [
      "Minimum Genre for a movie =  1\n",
      "Maximin Genre for a movie =  8\n"
     ]
    }
   ],
   "source": [
    "print('Minimum Genre for a movie = ',min(gen_len))\n",
    "print('Maximin Genre for a movie = ',max(gen_len))"
   ]
  },
  {
   "cell_type": "code",
   "execution_count": 0,
   "metadata": {
    "colab": {
     "base_uri": "https://localhost:8080/",
     "height": 295
    },
    "colab_type": "code",
    "id": "vqpzzy5ermYp",
    "outputId": "4cd6553f-5c61-4fc5-bfb2-7c378fee7962"
   },
   "outputs": [
    {
     "data": {
      "image/png": "[encoded data removed]",
      "text/plain": [
       "<Figure size 432x288 with 1 Axes>"
      ]
     },
     "metadata": {
      "tags": []
     },
     "output_type": "display_data"
    }
   ],
   "source": [
    "sns.countplot(gen_len, palette='gist_rainbow')\n",
    "plt.title(\"Number of Genres for a movie \")\n",
    "plt.xlabel(\"Number of Genres\")\n",
    "plt.ylabel(\"Number of Movies\")\n",
    "plt.show()"
   ]
  },
  {
   "cell_type": "markdown",
   "metadata": {
    "colab_type": "text",
    "id": "QuLzE2a6zNLD"
   },
   "source": [
    "**Observation :**\n",
    "\n",
    "  Most of the movies have only 1,2,3 genres. Very less number of movies have 8 genres"
   ]
  },
  {
   "cell_type": "code",
   "execution_count": 0,
   "metadata": {
    "colab": {},
    "colab_type": "code",
    "id": "EHs2v_QU1xMp"
   },
   "outputs": [],
   "source": [
    "plot_len = []\n",
    "for i in movie_df['plot']:\n",
    "  aa = i.split()\n",
    "  plot_len.append(len(aa))"
   ]
  },
  {
   "cell_type": "code",
   "execution_count": 0,
   "metadata": {
    "colab": {
     "base_uri": "https://localhost:8080/",
     "height": 281
    },
    "colab_type": "code",
    "id": "Dkmkowp-1_13",
    "outputId": "eb7af6dc-9594-40c6-e6ea-6409fa8d91a1"
   },
   "outputs": [
    {
     "data": {
      "image/png": "[encoded data removed]",
      "text/plain": [
       "<Figure size 432x288 with 1 Axes>"
      ]
     },
     "metadata": {
      "tags": []
     },
     "output_type": "display_data"
    }
   ],
   "source": [
    "length_df = pd.DataFrame({'Plot_length':plot_len})\n",
    "length_df.hist(bins = 30)\n",
    "plt.show()"
   ]
  },
  {
   "cell_type": "markdown",
   "metadata": {
    "colab_type": "text",
    "id": "bIhcgMQd2mSR"
   },
   "source": [
    "**Remove movie plots whose length is less than 100** "
   ]
  },
  {
   "cell_type": "code",
   "execution_count": 0,
   "metadata": {
    "colab": {},
    "colab_type": "code",
    "id": "jvfv2XYd2wQy"
   },
   "outputs": [],
   "source": [
    "movie_df['plot_length']=plot_len\n",
    "movie_df = movie_df[movie_df['plot_length']>100]"
   ]
  },
  {
   "cell_type": "markdown",
   "metadata": {
    "colab_type": "text",
    "id": "r1yUVRq40HUq"
   },
   "source": [
    "### **Preprocessing Movie Plot**\n",
    "\n",
    "1 - Converting to Lower case"
   ]
  },
  {
   "cell_type": "code",
   "execution_count": 0,
   "metadata": {
    "colab": {},
    "colab_type": "code",
    "id": "B_w3ZkM31imX"
   },
   "outputs": [],
   "source": [
    "lower_arr = []\n",
    "for i in movie_df['plot']:\n",
    "  lower_string = i.lower()\n",
    "  lower_arr.append(lower_string)"
   ]
  },
  {
   "cell_type": "markdown",
   "metadata": {
    "colab_type": "text",
    "id": "JMEEUFCH4zQd"
   },
   "source": [
    "2 - Expand Contractions"
   ]
  },
  {
   "cell_type": "code",
   "execution_count": 0,
   "metadata": {
    "colab": {},
    "colab_type": "code",
    "id": "q1Zlhgoh8f5g"
   },
   "outputs": [],
   "source": [
    "contractions = {\"ain't\": \"is not\", \"aren't\": \"are not\",\"can't\": \"cannot\", \"'cause\": \"because\", \"could've\": \"could have\", \"couldn't\": \"could not\",\n",
    "                           \"didn't\": \"did not\",  \"doesn't\": \"does not\", \"don't\": \"do not\", \"hadn't\": \"had not\", \"hasn't\": \"has not\", \"haven't\": \"have not\",\n",
    "                           \"he'd\": \"he would\",\"he'll\": \"he will\", \"he's\": \"he is\", \"how'd\": \"how did\", \"how'd'y\": \"how do you\", \"how'll\": \"how will\", \"how's\": \"how is\",\n",
    "                           \"I'd\": \"I would\", \"I'd've\": \"I would have\", \"I'll\": \"I will\", \"I'll've\": \"I will have\",\"I'm\": \"I am\", \"I've\": \"I have\", \"i'd\": \"i would\",\n",
    "                           \"i'd've\": \"i would have\", \"i'll\": \"i will\",  \"i'll've\": \"i will have\",\"i'm\": \"i am\", \"i've\": \"i have\", \"isn't\": \"is not\", \"it'd\": \"it would\",\n",
    "                           \"it'd've\": \"it would have\", \"it'll\": \"it will\", \"it'll've\": \"it will have\",\"it's\": \"it is\", \"let's\": \"let us\", \"ma'am\": \"madam\",\n",
    "                           \"mayn't\": \"may not\", \"might've\": \"might have\",\"mightn't\": \"might not\",\"mightn't've\": \"might not have\", \"must've\": \"must have\",\n",
    "                           \"mustn't\": \"must not\", \"mustn't've\": \"must not have\", \"needn't\": \"need not\", \"needn't've\": \"need not have\",\"o'clock\": \"of the clock\",\n",
    "                           \"oughtn't\": \"ought not\", \"oughtn't've\": \"ought not have\", \"shan't\": \"shall not\", \"sha'n't\": \"shall not\", \"shan't've\": \"shall not have\",\n",
    "                           \"she'd\": \"she would\", \"she'd've\": \"she would have\", \"she'll\": \"she will\", \"she'll've\": \"she will have\", \"she's\": \"she is\",\n",
    "                           \"should've\": \"should have\", \"shouldn't\": \"should not\", \"shouldn't've\": \"should not have\", \"so've\": \"so have\",\"so's\": \"so as\",\n",
    "                           \"this's\": \"this is\",\"that'd\": \"that would\", \"that'd've\": \"that would have\", \"that's\": \"that is\", \"there'd\": \"there would\",\n",
    "                           \"there'd've\": \"there would have\", \"there's\": \"there is\", \"here's\": \"here is\",\"they'd\": \"they would\", \"they'd've\": \"they would have\",\n",
    "                           \"they'll\": \"they will\", \"they'll've\": \"they will have\", \"they're\": \"they are\", \"they've\": \"they have\", \"to've\": \"to have\",\n",
    "                           \"wasn't\": \"was not\", \"we'd\": \"we would\", \"we'd've\": \"we would have\", \"we'll\": \"we will\", \"we'll've\": \"we will have\", \"we're\": \"we are\",\n",
    "                           \"we've\": \"we have\", \"weren't\": \"were not\", \"what'll\": \"what will\", \"what'll've\": \"what will have\", \"what're\": \"what are\",\n",
    "                           \"what's\": \"what is\", \"what've\": \"what have\", \"when's\": \"when is\", \"when've\": \"when have\", \"where'd\": \"where did\", \"where's\": \"where is\",\n",
    "                           \"where've\": \"where have\", \"who'll\": \"who will\", \"who'll've\": \"who will have\", \"who's\": \"who is\", \"who've\": \"who have\",\n",
    "                           \"why's\": \"why is\", \"why've\": \"why have\", \"will've\": \"will have\", \"won't\": \"will not\", \"won't've\": \"will not have\",\n",
    "                           \"would've\": \"would have\", \"wouldn't\": \"would not\", \"wouldn't've\": \"would not have\", \"y'all\": \"you all\",\n",
    "                           \"y'all'd\": \"you all would\",\"y'all'd've\": \"you all would have\",\"y'all're\": \"you all are\",\"y'all've\": \"you all have\",\n",
    "                           \"you'd\": \"you would\", \"you'd've\": \"you would have\", \"you'll\": \"you will\", \"you'll've\": \"you will have\",\n",
    "                           \"you're\": \"you are\", \"you've\": \"you have\"}"
   ]
  },
  {
   "cell_type": "code",
   "execution_count": 0,
   "metadata": {
    "colab": {},
    "colab_type": "code",
    "id": "pEs7Ov699Tsv"
   },
   "outputs": [],
   "source": [
    "#expand Contractions\n",
    "for i in range(len(lower_arr)):\n",
    "  exp_cont = ' '.join([contractions[t] if t in contractions else t for t in lower_arr[i].split()])\n",
    "  lower_arr[i] = exp_cont"
   ]
  },
  {
   "cell_type": "code",
   "execution_count": 0,
   "metadata": {
    "colab": {},
    "colab_type": "code",
    "id": "rLgUbHH8D6YH"
   },
   "outputs": [],
   "source": [
    "movie_df['clean_plot'] = lower_arr"
   ]
  },
  {
   "cell_type": "markdown",
   "metadata": {
    "colab_type": "text",
    "id": "NgwtAKmz_rNX"
   },
   "source": [
    "3 - Remove Punctuations\n",
    "\n",
    "https://www.analyticsvidhya.com/blog/2018/02/the-different-methods-deal-text-data-predictive-python/"
   ]
  },
  {
   "cell_type": "code",
   "execution_count": 0,
   "metadata": {
    "colab": {
     "base_uri": "https://localhost:8080/",
     "height": 119
    },
    "colab_type": "code",
    "id": "UT3LH2bMECBt",
    "outputId": "12ecd976-9c84-43e7-8944-14fe7cb38527"
   },
   "outputs": [
    {
     "data": {
      "text/plain": [
       "0    in a world where toys are living things but pr...\n",
       "1    in 1869 near brantford new hampshire two boys ...\n",
       "2    the feud between max walter matthau and john j...\n",
       "3    waiting to exhale is a story about four black ...\n",
       "4    the film begins 4 years after the events of th...\n",
       "Name: clean_plot, dtype: object"
      ]
     },
     "execution_count": 265,
     "metadata": {
      "tags": []
     },
     "output_type": "execute_result"
    }
   ],
   "source": [
    "movie_df['clean_plot'] = movie_df['clean_plot'].str.replace('[^\\w\\s]','')\n",
    "movie_df['clean_plot'].head()"
   ]
  },
  {
   "cell_type": "markdown",
   "metadata": {
    "colab_type": "text",
    "id": "36UnXk5tBWSi"
   },
   "source": [
    "3 - Remove Stop Words\n",
    "\n",
    "https://www.analyticsvidhya.com/blog/2018/02/the-different-methods-deal-text-data-predictive-python/"
   ]
  },
  {
   "cell_type": "code",
   "execution_count": 0,
   "metadata": {
    "colab": {
     "base_uri": "https://localhost:8080/",
     "height": 68
    },
    "colab_type": "code",
    "id": "PSc9NwbLFD9v",
    "outputId": "4c4502ba-56a0-417f-db67-4dd9db8cdf22"
   },
   "outputs": [
    {
     "name": "stdout",
     "output_type": "stream",
     "text": [
      "[nltk_data] Downloading package stopwords to /root/nltk_data...\n",
      "[nltk_data]   Package stopwords is already up-to-date!\n"
     ]
    },
    {
     "data": {
      "text/plain": [
       "True"
      ]
     },
     "execution_count": 266,
     "metadata": {
      "tags": []
     },
     "output_type": "execute_result"
    }
   ],
   "source": [
    "import nltk\n",
    "nltk.download('stopwords')"
   ]
  },
  {
   "cell_type": "code",
   "execution_count": 0,
   "metadata": {
    "colab": {
     "base_uri": "https://localhost:8080/",
     "height": 119
    },
    "colab_type": "code",
    "id": "gvhUAbzR9TeQ",
    "outputId": "5cf0a413-0dd0-4155-d921-652bab88bcbf"
   },
   "outputs": [
    {
     "data": {
      "text/plain": [
       "0    world toys living things pretend lifeless huma...\n",
       "1    1869 near brantford new hampshire two boys bur...\n",
       "2    feud max walter matthau john jack lemmon coole...\n",
       "3    waiting exhale story four black women good fri...\n",
       "4    film begins 4 years events first one george ba...\n",
       "Name: clean_plot, dtype: object"
      ]
     },
     "execution_count": 267,
     "metadata": {
      "tags": []
     },
     "output_type": "execute_result"
    }
   ],
   "source": [
    "from nltk.corpus import stopwords\n",
    "stop = stopwords.words('english')\n",
    "movie_df['clean_plot'] = movie_df['clean_plot'].apply(lambda x: \" \".join(x for x in x.split() if x not in stop))\n",
    "movie_df['clean_plot'].head()"
   ]
  },
  {
   "cell_type": "markdown",
   "metadata": {
    "colab_type": "text",
    "id": "09HoJrOuF-CB"
   },
   "source": [
    "4 - Lemmatization\n",
    "\n",
    "https://www.analyticsvidhya.com/blog/2018/02/the-different-methods-deal-text-data-predictive-python/"
   ]
  },
  {
   "cell_type": "code",
   "execution_count": 0,
   "metadata": {
    "colab": {
     "base_uri": "https://localhost:8080/",
     "height": 68
    },
    "colab_type": "code",
    "id": "dtYYFucrHem7",
    "outputId": "09955eee-d305-4011-f912-bb91ea4aa51f"
   },
   "outputs": [
    {
     "name": "stdout",
     "output_type": "stream",
     "text": [
      "[nltk_data] Downloading package wordnet to /root/nltk_data...\n",
      "[nltk_data]   Package wordnet is already up-to-date!\n"
     ]
    },
    {
     "data": {
      "text/plain": [
       "True"
      ]
     },
     "execution_count": 268,
     "metadata": {
      "tags": []
     },
     "output_type": "execute_result"
    }
   ],
   "source": [
    "import nltk\n",
    "nltk.download('wordnet')"
   ]
  },
  {
   "cell_type": "code",
   "execution_count": 0,
   "metadata": {
    "colab": {
     "base_uri": "https://localhost:8080/",
     "height": 119
    },
    "colab_type": "code",
    "id": "hmFA7a7iBLyE",
    "outputId": "80d8f7a2-e266-4582-bfd5-31eaf2059e8e"
   },
   "outputs": [
    {
     "data": {
      "text/plain": [
       "0    world toy living thing pretend lifeless human ...\n",
       "1    1869 near brantford new hampshire two boy bury...\n",
       "2    feud max walter matthau john jack lemmon coole...\n",
       "3    waiting exhale story four black woman good fri...\n",
       "4    film begin 4 year event first one george bank ...\n",
       "Name: clean_plot, dtype: object"
      ]
     },
     "execution_count": 269,
     "metadata": {
      "tags": []
     },
     "output_type": "execute_result"
    }
   ],
   "source": [
    "from textblob import Word\n",
    "movie_df['clean_plot'] = movie_df['clean_plot'].apply(lambda x: \" \".join([Word(word).lemmatize() for word in x.split()]))\n",
    "movie_df['clean_plot'].head()"
   ]
  },
  {
   "cell_type": "markdown",
   "metadata": {
    "colab_type": "text",
    "id": "-A9HkBCSM9Zo"
   },
   "source": [
    "5 - Remove numbers\n"
   ]
  },
  {
   "cell_type": "code",
   "execution_count": 0,
   "metadata": {
    "colab": {},
    "colab_type": "code",
    "id": "Jz0VjyqYM8bE"
   },
   "outputs": [],
   "source": [
    "import re\n",
    "def remove_num(x):\n",
    "  result = re.sub(r'\\d+','', x)\n",
    "  ' '.join(result.split())\n",
    "  return result"
   ]
  },
  {
   "cell_type": "code",
   "execution_count": 0,
   "metadata": {
    "colab": {
     "base_uri": "https://localhost:8080/",
     "height": 119
    },
    "colab_type": "code",
    "id": "W4PRo9se7SHZ",
    "outputId": "e134d888-b8ff-42e5-a0ed-3b67ae8731d2"
   },
   "outputs": [
    {
     "data": {
      "text/plain": [
       "0    world toy living thing pretend lifeless human ...\n",
       "1     near brantford new hampshire two boy bury che...\n",
       "2    feud max walter matthau john jack lemmon coole...\n",
       "3    waiting exhale story four black woman good fri...\n",
       "4    film begin  year event first one george bank t...\n",
       "Name: clean_plot, dtype: object"
      ]
     },
     "execution_count": 271,
     "metadata": {
      "tags": []
     },
     "output_type": "execute_result"
    }
   ],
   "source": [
    "movie_df['clean_plot'] = movie_df['clean_plot'].apply(lambda x: remove_num(x))\n",
    "movie_df['clean_plot'].head()"
   ]
  },
  {
   "cell_type": "code",
   "execution_count": 0,
   "metadata": {
    "colab": {},
    "colab_type": "code",
    "id": "uRZi2_irV1RK"
   },
   "outputs": [],
   "source": [
    "movie_df.to_csv('cleaned_data.csv',index=False)"
   ]
  },
  {
   "cell_type": "code",
   "execution_count": 0,
   "metadata": {
    "colab": {},
    "colab_type": "code",
    "id": "ieQCiuB3MPFf"
   },
   "outputs": [],
   "source": [
    "movie_df = pd.read_csv('cleaned_data.csv')"
   ]
  },
  {
   "cell_type": "markdown",
   "metadata": {
    "colab_type": "text",
    "id": "6xOXs_Q1PE-h"
   },
   "source": [
    "# Modelling"
   ]
  },
  {
   "cell_type": "markdown",
   "metadata": {
    "colab_type": "text",
    "id": "h7yjycmXWUmx"
   },
   "source": [
    "Encoding The Labels using a one-hot-encoding\n",
    "\n",
    "  Not using the sklean version. This is custom implementation\n",
    "  \n",
    "  This problem is a Multilabel Classification Problem"
   ]
  },
  {
   "cell_type": "code",
   "execution_count": 0,
   "metadata": {
    "colab": {},
    "colab_type": "code",
    "id": "YAAdZ9dU2pZ4"
   },
   "outputs": [],
   "source": [
    "cols = [i for i in genre_count]"
   ]
  },
  {
   "cell_type": "code",
   "execution_count": 0,
   "metadata": {
    "colab": {
     "base_uri": "https://localhost:8080/",
     "height": 86
    },
    "colab_type": "code",
    "id": "KgR6cvMtGjz5",
    "outputId": "36b4d946-9969-4c16-fbdd-590c4d6b5218"
   },
   "outputs": [
    {
     "data": {
      "text/html": [
       "<div>\n",
       "<style scoped>\n",
       "    .dataframe tbody tr th:only-of-type {\n",
       "        vertical-align: middle;\n",
       "    }\n",
       "\n",
       "    .dataframe tbody tr th {\n",
       "        vertical-align: top;\n",
       "    }\n",
       "\n",
       "    .dataframe thead th {\n",
       "        text-align: right;\n",
       "    }\n",
       "</style>\n",
       "<table border=\"1\" class=\"dataframe\">\n",
       "  <thead>\n",
       "    <tr style=\"text-align: right;\">\n",
       "      <th></th>\n",
       "      <th>Adventure</th>\n",
       "      <th>Animation</th>\n",
       "      <th>Children</th>\n",
       "      <th>Comedy</th>\n",
       "      <th>Fantasy</th>\n",
       "      <th>Romance</th>\n",
       "      <th>Drama</th>\n",
       "      <th>Action</th>\n",
       "      <th>Crime</th>\n",
       "      <th>Thriller</th>\n",
       "      <th>Horror</th>\n",
       "      <th>Mystery</th>\n",
       "      <th>Sci-Fi</th>\n",
       "      <th>War</th>\n",
       "      <th>Musical</th>\n",
       "      <th>Western</th>\n",
       "      <th>Film-Noir</th>\n",
       "    </tr>\n",
       "  </thead>\n",
       "  <tbody>\n",
       "  </tbody>\n",
       "</table>\n",
       "</div>"
      ],
      "text/plain": [
       "Empty DataFrame\n",
       "Columns: [Adventure, Animation, Children, Comedy, Fantasy, Romance, Drama, Action, Crime, Thriller, Horror, Mystery, Sci-Fi, War, Musical, Western, Film-Noir]\n",
       "Index: []"
      ]
     },
     "execution_count": 289,
     "metadata": {
      "tags": []
     },
     "output_type": "execute_result"
    }
   ],
   "source": [
    "y_df = pd.DataFrame(columns=cols)\n",
    "y_df"
   ]
  },
  {
   "cell_type": "code",
   "execution_count": 0,
   "metadata": {
    "colab": {},
    "colab_type": "code",
    "id": "3vcdteKkGjwu"
   },
   "outputs": [],
   "source": [
    "l = 0\n",
    "for i in movie_df['genres']:\n",
    "  need_dict = dict.fromkeys(cols,0)\n",
    "  i = i.split('|')\n",
    "  for k in i:\n",
    "    need_dict[k] = 1\n",
    "  y_df.loc[l] = need_dict\n",
    "  l+=1"
   ]
  },
  {
   "cell_type": "code",
   "execution_count": 0,
   "metadata": {
    "colab": {},
    "colab_type": "code",
    "id": "HKzDgFY9XPXc"
   },
   "outputs": [],
   "source": [
    "#Save The Labels\n",
    "y_df.to_csv('movie_labels.csv',index=False)"
   ]
  },
  {
   "cell_type": "code",
   "execution_count": 0,
   "metadata": {
    "colab": {},
    "colab_type": "code",
    "id": "Dc8eK2DYNH2i"
   },
   "outputs": [],
   "source": [
    "#Load The Labels\n",
    "y_df = pd.read_csv('movie_labels.csv')"
   ]
  },
  {
   "cell_type": "code",
   "execution_count": 0,
   "metadata": {
    "colab": {},
    "colab_type": "code",
    "id": "l8gJ0orhZZID"
   },
   "outputs": [],
   "source": [
    "X = movie_df[['title','clean_plot']]\n",
    "y = y_df.values"
   ]
  },
  {
   "cell_type": "code",
   "execution_count": 0,
   "metadata": {
    "colab": {},
    "colab_type": "code",
    "id": "R7k-xQKPaZYR"
   },
   "outputs": [],
   "source": [
    "from sklearn.model_selection import train_test_split\n",
    "X_train1, X_test1, y_train, y_test = train_test_split(X, y, test_size=0.20, random_state=42)"
   ]
  },
  {
   "cell_type": "code",
   "execution_count": 0,
   "metadata": {
    "colab": {},
    "colab_type": "code",
    "id": "ar5NAeHn9rRc"
   },
   "outputs": [],
   "source": [
    "X_train = X_train1['clean_plot']\n",
    "X_test = X_test1['clean_plot']"
   ]
  },
  {
   "cell_type": "markdown",
   "metadata": {},
   "source": [
    "### Using Word2Vec Word Embedding"
   ]
  },
  {
   "cell_type": "code",
   "execution_count": 0,
   "metadata": {
    "colab": {},
    "colab_type": "code",
    "id": "2Kjh_9IFaZVy"
   },
   "outputs": [],
   "source": [
    "from keras.preprocessing.text import Tokenizer\n",
    "from keras.preprocessing.sequence import pad_sequences\n",
    "\n",
    "MAX_NB_WORDS = 200000\n",
    "\n",
    "tokenizer = Tokenizer(num_words=MAX_NB_WORDS)\n",
    "tokenizer.fit_on_texts(X_train)\n",
    "X_train = tokenizer.texts_to_sequences(X_train)\n",
    "X_test = tokenizer.texts_to_sequences(X_test)\n",
    "vocab_size = len(tokenizer.word_index) + 1\n",
    "\n",
    "maxlen = 300\n",
    "\n",
    "X_train = pad_sequences(X_train, padding='post', maxlen=maxlen)\n",
    "X_test = pad_sequences(X_test, padding='post', maxlen=maxlen)"
   ]
  },
  {
   "cell_type": "code",
   "execution_count": 36,
   "metadata": {
    "colab": {
     "base_uri": "https://localhost:8080/",
     "height": 34
    },
    "colab_type": "code",
    "id": "yPveyzvigKWT",
    "outputId": "49ddd70a-abd8-4412-b9c5-acc157a7b360"
   },
   "outputs": [
    {
     "name": "stdout",
     "output_type": "stream",
     "text": [
      "Found 110777 unique tokens\n"
     ]
    }
   ],
   "source": [
    "word_index = tokenizer.word_index\n",
    "print('Found %s unique tokens' % len(word_index))"
   ]
  },
  {
   "cell_type": "code",
   "execution_count": 37,
   "metadata": {
    "colab": {
     "base_uri": "https://localhost:8080/",
     "height": 88
    },
    "colab_type": "code",
    "id": "fVBmrlvKaZSi",
    "outputId": "31276638-336a-458f-f54b-742e680af3fb"
   },
   "outputs": [
    {
     "name": "stderr",
     "output_type": "stream",
     "text": [
      "/usr/local/lib/python3.6/dist-packages/smart_open/smart_open_lib.py:398: UserWarning: This function is deprecated, use smart_open.open instead. See the migration notes for details: https://github.com/RaRe-Technologies/smart_open/blob/master/README.rst#migrating-to-the-new-open-function\n",
      "  'See the migration notes for details: %s' % _MIGRATION_NOTES_URL\n"
     ]
    },
    {
     "name": "stdout",
     "output_type": "stream",
     "text": [
      "Found 3000000 word vectors of word2vec\n"
     ]
    }
   ],
   "source": [
    "#loading Word2Vec Model\n",
    "from gensim.models import KeyedVectors\n",
    "word2vec = KeyedVectors.load_word2vec_format('GoogleNews-vectors-negative300.bin.gz',binary=True)\n",
    "print('Found %s word vectors of word2vec' % len(word2vec.vocab))\n"
   ]
  },
  {
   "cell_type": "code",
   "execution_count": 0,
   "metadata": {
    "colab": {},
    "colab_type": "code",
    "id": "Y-w8PcC7furI"
   },
   "outputs": [],
   "source": [
    "#Creating Embedding Matrix\n",
    "EMBEDDING_DIM=300\n",
    "nb_words = min(MAX_NB_WORDS, len(word_index))+1\n",
    "embedding_matrix = np.zeros((nb_words, EMBEDDING_DIM))\n",
    "\n",
    "embedding_matrix = np.zeros((nb_words, EMBEDDING_DIM))\n",
    "for word, i in word_index.items():\n",
    "    if word in word2vec.vocab:\n",
    "        embedding_matrix[i] = word2vec.word_vec(word)"
   ]
  },
  {
   "cell_type": "code",
   "execution_count": 0,
   "metadata": {
    "colab": {
     "base_uri": "https://localhost:8080/",
     "height": 34
    },
    "colab_type": "code",
    "id": "h-c_Sgt4gfcq",
    "outputId": "410e1052-2aca-42fd-a257-c2889c5fe27e"
   },
   "outputs": [
    {
     "data": {
      "text/plain": [
       "(110778, 300)"
      ]
     },
     "execution_count": 14,
     "metadata": {
      "tags": []
     },
     "output_type": "execute_result"
    }
   ],
   "source": [
    "embedding_matrix.shape"
   ]
  },
  {
   "cell_type": "code",
   "execution_count": 0,
   "metadata": {
    "colab": {},
    "colab_type": "code",
    "id": "0CMeRRkLg9VP"
   },
   "outputs": [],
   "source": [
    "from keras.models import Model\n",
    "from keras.layers.embeddings import Embedding\n",
    "from keras.models import Sequential\n",
    "from keras.layers.core import Activation, Dropout, Dense\n",
    "from keras.layers import Flatten, LSTM,Bidirectional,Conv1D\n",
    "from keras.layers import Input"
   ]
  },
  {
   "cell_type": "markdown",
   "metadata": {
    "colab_type": "text",
    "id": "Jw1ft-8CuSUG"
   },
   "source": [
    "**One-Directional LSTM**"
   ]
  },
  {
   "cell_type": "code",
   "execution_count": 0,
   "metadata": {
    "colab": {
     "base_uri": "https://localhost:8080/",
     "height": 496
    },
    "colab_type": "code",
    "id": "0rXGx2RihVHc",
    "outputId": "fbc9faae-9486-42a0-ebd9-cad807413751"
   },
   "outputs": [
    {
     "name": "stdout",
     "output_type": "stream",
     "text": [
      "WARNING:tensorflow:From /usr/local/lib/python3.6/dist-packages/keras/backend/tensorflow_backend.py:3733: calling dropout (from tensorflow.python.ops.nn_ops) with keep_prob is deprecated and will be removed in a future version.\n",
      "Instructions for updating:\n",
      "Please use `rate` instead of `keep_prob`. Rate should be set to `rate = 1 - keep_prob`.\n",
      "Model: \"model_13\"\n",
      "_________________________________________________________________\n",
      "Layer (type)                 Output Shape              Param #   \n",
      "=================================================================\n",
      "input_18 (InputLayer)        (None, 300)               0         \n",
      "_________________________________________________________________\n",
      "embedding_18 (Embedding)     (None, 300, 300)          33233400  \n",
      "_________________________________________________________________\n",
      "lstm_25 (LSTM)               (None, 300, 256)          570368    \n",
      "_________________________________________________________________\n",
      "lstm_26 (LSTM)               (None, 300, 128)          197120    \n",
      "_________________________________________________________________\n",
      "dropout_1 (Dropout)          (None, 300, 128)          0         \n",
      "_________________________________________________________________\n",
      "flatten_7 (Flatten)          (None, 38400)             0         \n",
      "_________________________________________________________________\n",
      "dense_21 (Dense)             (None, 64)                2457664   \n",
      "_________________________________________________________________\n",
      "dense_22 (Dense)             (None, 17)                1105      \n",
      "=================================================================\n",
      "Total params: 36,459,657\n",
      "Trainable params: 3,226,257\n",
      "Non-trainable params: 33,233,400\n",
      "_________________________________________________________________\n"
     ]
    }
   ],
   "source": [
    "input_layer = Input(shape=(maxlen,))\n",
    "\n",
    "embedding_layer = Embedding(nb_words, EMBEDDING_DIM,input_length=300, weights=[embedding_matrix], trainable=False)(input_layer)\n",
    "\n",
    "lstm1 = LSTM(256,return_sequences=True)(embedding_layer)\n",
    "\n",
    "\n",
    "lstm2 = LSTM(128,return_sequences=True)(lstm1)\n",
    "\n",
    "drop = Dropout(0.2)(lstm2)\n",
    "\n",
    "flat = Flatten()(drop)\n",
    "\n",
    "\n",
    "dense1 = Dense(64, activation='relu')(flat)\n",
    "\n",
    "\n",
    "\n",
    "out_layer = Dense(17, activation='sigmoid')(dense1)\n",
    "\n",
    "model = Model(inputs=input_layer, outputs=out_layer)\n",
    "\n",
    "model.compile(loss='binary_crossentropy', optimizer='adam', metrics=['acc'])\n",
    "model.summary()"
   ]
  },
  {
   "cell_type": "code",
   "execution_count": 0,
   "metadata": {
    "colab": {},
    "colab_type": "code",
    "id": "4neAcHpNkqN0"
   },
   "outputs": [],
   "source": [
    "from keras.callbacks import EarlyStopping\n",
    "es = EarlyStopping(monitor='val_acc', patience=5, mode='max', baseline=None, restore_best_weights=True)"
   ]
  },
  {
   "cell_type": "code",
   "execution_count": 0,
   "metadata": {
    "colab": {
     "base_uri": "https://localhost:8080/",
     "height": 394
    },
    "colab_type": "code",
    "id": "c4jKrQNMhm1l",
    "outputId": "a193e9d1-c92c-4241-e596-17dde324c2da"
   },
   "outputs": [
    {
     "name": "stdout",
     "output_type": "stream",
     "text": [
      "Train on 14072 samples, validate on 3519 samples\n",
      "Epoch 1/30\n",
      "14072/14072 [==============================] - 144s 10ms/step - loss: 0.2818 - acc: 0.8848 - val_loss: 0.2407 - val_acc: 0.8999\n",
      "Epoch 2/30\n",
      "14072/14072 [==============================] - 142s 10ms/step - loss: 0.2273 - acc: 0.9051 - val_loss: 0.2304 - val_acc: 0.9059\n",
      "Epoch 3/30\n",
      "14072/14072 [==============================] - 140s 10ms/step - loss: 0.2121 - acc: 0.9120 - val_loss: 0.2258 - val_acc: 0.9049\n",
      "Epoch 4/30\n",
      "14072/14072 [==============================] - 141s 10ms/step - loss: 0.1978 - acc: 0.9181 - val_loss: 0.2244 - val_acc: 0.9060\n",
      "Epoch 5/30\n",
      "14072/14072 [==============================] - 143s 10ms/step - loss: 0.1846 - acc: 0.9234 - val_loss: 0.2267 - val_acc: 0.9073\n",
      "Epoch 6/30\n",
      "14072/14072 [==============================] - 141s 10ms/step - loss: 0.1681 - acc: 0.9307 - val_loss: 0.2367 - val_acc: 0.9059\n",
      "Epoch 7/30\n",
      "14072/14072 [==============================] - 140s 10ms/step - loss: 0.1474 - acc: 0.9400 - val_loss: 0.2464 - val_acc: 0.9038\n",
      "Epoch 8/30\n",
      "14072/14072 [==============================] - 139s 10ms/step - loss: 0.1254 - acc: 0.9499 - val_loss: 0.2712 - val_acc: 0.9004\n",
      "Epoch 9/30\n",
      "14072/14072 [==============================] - 140s 10ms/step - loss: 0.1046 - acc: 0.9583 - val_loss: 0.2986 - val_acc: 0.8982\n",
      "Epoch 10/30\n",
      "14072/14072 [==============================] - 142s 10ms/step - loss: 0.0843 - acc: 0.9677 - val_loss: 0.3329 - val_acc: 0.8965\n"
     ]
    }
   ],
   "source": [
    "history = model.fit(X_train, y_train, batch_size=128, epochs=30, verbose=1,validation_data=(X_test,y_test),callbacks=[es])"
   ]
  },
  {
   "cell_type": "code",
   "execution_count": 0,
   "metadata": {
    "colab": {
     "base_uri": "https://localhost:8080/",
     "height": 51
    },
    "colab_type": "code",
    "id": "5ffMjiVLiPLK",
    "outputId": "c6fb415c-09e1-4a1d-e02f-69268e4b3981"
   },
   "outputs": [
    {
     "name": "stdout",
     "output_type": "stream",
     "text": [
      "3519/3519 [==============================] - 52s 15ms/step\n"
     ]
    },
    {
     "data": {
      "text/plain": [
       "[0.22673507922750605, 0.9073433422608685]"
      ]
     },
     "execution_count": 388,
     "metadata": {
      "tags": []
     },
     "output_type": "execute_result"
    }
   ],
   "source": [
    "model.evaluate(X_test, y_test, verbose=1)"
   ]
  },
  {
   "cell_type": "code",
   "execution_count": 0,
   "metadata": {
    "colab": {
     "base_uri": "https://localhost:8080/",
     "height": 88
    },
    "colab_type": "code",
    "id": "Ns93vaPjr607",
    "outputId": "f4a3dc0f-c57e-4564-ae19-24292bfeb076"
   },
   "outputs": [
    {
     "name": "stderr",
     "output_type": "stream",
     "text": [
      "/usr/local/lib/python3.6/dist-packages/sklearn/externals/joblib/__init__.py:15: DeprecationWarning: sklearn.externals.joblib is deprecated in 0.21 and will be removed in 0.23. Please import this functionality directly from joblib, which can be installed with: pip install joblib. If this warning is raised when loading pickled models, you may need to re-serialize those models with scikit-learn 0.21+.\n",
      "  warnings.warn(msg, category=DeprecationWarning)\n"
     ]
    },
    {
     "data": {
      "text/plain": [
       "['/content/drive/My Drive/lstm_90.sav']"
      ]
     },
     "execution_count": 384,
     "metadata": {
      "tags": []
     },
     "output_type": "execute_result"
    }
   ],
   "source": [
    "from sklearn.externals import joblib\n",
    "# save the model to disk\n",
    "filename = '/content/drive/My Drive/lstm_90.sav'\n",
    "joblib.dump(model, filename)"
   ]
  },
  {
   "cell_type": "code",
   "execution_count": 0,
   "metadata": {
    "colab": {},
    "colab_type": "code",
    "id": "7z4CNkklXtrq"
   },
   "outputs": [],
   "source": [
    "model = joblib.load('lstm_90.sav')"
   ]
  },
  {
   "cell_type": "code",
   "execution_count": 0,
   "metadata": {
    "colab": {},
    "colab_type": "code",
    "id": "omJHSXvojYwM"
   },
   "outputs": [],
   "source": [
    "out_arr = model.predict(X_test)"
   ]
  },
  {
   "cell_type": "code",
   "execution_count": 0,
   "metadata": {
    "colab": {},
    "colab_type": "code",
    "id": "lxcHe5LcxwIN"
   },
   "outputs": [],
   "source": [
    "def get_prediction(k):\n",
    "  pred_arr = []\n",
    "  for i in out_arr[k]:\n",
    "    if(i>0.5):\n",
    "      pred_arr.append(1)\n",
    "    else:\n",
    "      pred_arr.append(0)\n",
    "  return pred_arr"
   ]
  },
  {
   "cell_type": "code",
   "execution_count": 0,
   "metadata": {
    "colab": {},
    "colab_type": "code",
    "id": "G6fu5MI_x52a"
   },
   "outputs": [],
   "source": [
    "def retrieve_genre(arr):\n",
    "  plot_str = ''\n",
    "  for i in range(len(arr)):\n",
    "    if(arr[i]==1):\n",
    "      plot_str = plot_str+' | '+y_df.columns[i]\n",
    "  return plot_str.lstrip(' | ')"
   ]
  },
  {
   "cell_type": "code",
   "execution_count": 0,
   "metadata": {
    "colab": {},
    "colab_type": "code",
    "id": "io19KwS_xWqF"
   },
   "outputs": [],
   "source": [
    "df = pd.DataFrame(columns=['Original Genre','Predicted Genre'])"
   ]
  },
  {
   "cell_type": "code",
   "execution_count": 55,
   "metadata": {
    "colab": {
     "base_uri": "https://localhost:8080/",
     "height": 1000
    },
    "colab_type": "code",
    "id": "-KbOgMD0xdAo",
    "outputId": "45660d71-ad15-4d46-c7e9-d0a9f08f444b"
   },
   "outputs": [
    {
     "data": {
      "text/html": [
       "<div>\n",
       "<style scoped>\n",
       "    .dataframe tbody tr th:only-of-type {\n",
       "        vertical-align: middle;\n",
       "    }\n",
       "\n",
       "    .dataframe tbody tr th {\n",
       "        vertical-align: top;\n",
       "    }\n",
       "\n",
       "    .dataframe thead th {\n",
       "        text-align: right;\n",
       "    }\n",
       "</style>\n",
       "<table border=\"1\" class=\"dataframe\">\n",
       "  <thead>\n",
       "    <tr style=\"text-align: right;\">\n",
       "      <th></th>\n",
       "      <th>Original Genre</th>\n",
       "      <th>Predicted Genre</th>\n",
       "      <th>title</th>\n",
       "    </tr>\n",
       "  </thead>\n",
       "  <tbody>\n",
       "    <tr>\n",
       "      <th>0</th>\n",
       "      <td>Comedy</td>\n",
       "      <td>Comedy</td>\n",
       "      <td>First Beautiful Thing, The (La prima cosa bell...</td>\n",
       "    </tr>\n",
       "    <tr>\n",
       "      <th>1</th>\n",
       "      <td>Drama</td>\n",
       "      <td>Drama</td>\n",
       "      <td>Terms of Endearment (1983)</td>\n",
       "    </tr>\n",
       "    <tr>\n",
       "      <th>2</th>\n",
       "      <td>Romance</td>\n",
       "      <td>Drama</td>\n",
       "      <td>Skeleton Crew (2009)</td>\n",
       "    </tr>\n",
       "    <tr>\n",
       "      <th>3</th>\n",
       "      <td>Comedy</td>\n",
       "      <td>Comedy | Romance | Drama</td>\n",
       "      <td>Easy Come, Easy Go (1967)</td>\n",
       "    </tr>\n",
       "    <tr>\n",
       "      <th>4</th>\n",
       "      <td>Drama</td>\n",
       "      <td>Romance | Drama</td>\n",
       "      <td>Head-On (Gegen die Wand) (2004)</td>\n",
       "    </tr>\n",
       "    <tr>\n",
       "      <th>5</th>\n",
       "      <td>Romance | Sci-Fi</td>\n",
       "      <td>Action | Sci-Fi</td>\n",
       "      <td>Day of Wrath (Vredens dag) (1943)</td>\n",
       "    </tr>\n",
       "    <tr>\n",
       "      <th>6</th>\n",
       "      <td>Animation | Sci-Fi</td>\n",
       "      <td>Adventure | Action | Sci-Fi</td>\n",
       "      <td>Fanny and Alexander (Fanny och Alexander) (1982)</td>\n",
       "    </tr>\n",
       "    <tr>\n",
       "      <th>7</th>\n",
       "      <td>Drama</td>\n",
       "      <td></td>\n",
       "      <td>Little Engine That Could, The (1991)</td>\n",
       "    </tr>\n",
       "    <tr>\n",
       "      <th>8</th>\n",
       "      <td>Adventure | Children | Drama</td>\n",
       "      <td>Drama</td>\n",
       "      <td>Slaves of New York (1989)</td>\n",
       "    </tr>\n",
       "    <tr>\n",
       "      <th>9</th>\n",
       "      <td>Children | Comedy</td>\n",
       "      <td>Comedy</td>\n",
       "      <td>Sadist, The (1963)</td>\n",
       "    </tr>\n",
       "    <tr>\n",
       "      <th>10</th>\n",
       "      <td>Action | Thriller | Sci-Fi</td>\n",
       "      <td>Adventure | Action | Sci-Fi</td>\n",
       "      <td>Knight Without Armor (1937)</td>\n",
       "    </tr>\n",
       "    <tr>\n",
       "      <th>11</th>\n",
       "      <td>Drama</td>\n",
       "      <td>Drama</td>\n",
       "      <td>As Good as It Gets (1997)</td>\n",
       "    </tr>\n",
       "    <tr>\n",
       "      <th>12</th>\n",
       "      <td>Comedy | Drama</td>\n",
       "      <td>Comedy</td>\n",
       "      <td>Fiorile (1993)</td>\n",
       "    </tr>\n",
       "    <tr>\n",
       "      <th>13</th>\n",
       "      <td>Crime</td>\n",
       "      <td>Drama</td>\n",
       "      <td>Brassed Off (1996)</td>\n",
       "    </tr>\n",
       "    <tr>\n",
       "      <th>14</th>\n",
       "      <td>Thriller | Horror | Mystery</td>\n",
       "      <td>Horror</td>\n",
       "      <td>Kid Cannabis (2014)</td>\n",
       "    </tr>\n",
       "    <tr>\n",
       "      <th>15</th>\n",
       "      <td>Adventure | Romance | Drama</td>\n",
       "      <td>Drama | War</td>\n",
       "      <td>100 Girls (2000)</td>\n",
       "    </tr>\n",
       "    <tr>\n",
       "      <th>16</th>\n",
       "      <td>Drama | Horror</td>\n",
       "      <td></td>\n",
       "      <td>Art of War III: Retribution, The (2009)</td>\n",
       "    </tr>\n",
       "    <tr>\n",
       "      <th>17</th>\n",
       "      <td>Drama</td>\n",
       "      <td>Drama</td>\n",
       "      <td>Dollman (1991)</td>\n",
       "    </tr>\n",
       "    <tr>\n",
       "      <th>18</th>\n",
       "      <td>Comedy | Drama</td>\n",
       "      <td>Drama</td>\n",
       "      <td>Love &amp; Sex (2000)</td>\n",
       "    </tr>\n",
       "    <tr>\n",
       "      <th>19</th>\n",
       "      <td>Romance | Drama | Action | Thriller</td>\n",
       "      <td>Drama | Action</td>\n",
       "      <td>Eye of the Needle (1981)</td>\n",
       "    </tr>\n",
       "    <tr>\n",
       "      <th>20</th>\n",
       "      <td>Comedy</td>\n",
       "      <td>Comedy | Drama</td>\n",
       "      <td>Marrying Man, The (Too Hot to Handle) (1991)</td>\n",
       "    </tr>\n",
       "    <tr>\n",
       "      <th>21</th>\n",
       "      <td>Drama | War</td>\n",
       "      <td>Drama</td>\n",
       "      <td>The Forbidden Room (2015)</td>\n",
       "    </tr>\n",
       "    <tr>\n",
       "      <th>22</th>\n",
       "      <td>Comedy | Musical</td>\n",
       "      <td>Comedy | Romance</td>\n",
       "      <td>Waiting Women (Kvinnors väntan) (1952)</td>\n",
       "    </tr>\n",
       "    <tr>\n",
       "      <th>23</th>\n",
       "      <td>Adventure | Children | Fantasy | Thriller | Sc...</td>\n",
       "      <td>Action | Sci-Fi</td>\n",
       "      <td>Falling in Love (1984)</td>\n",
       "    </tr>\n",
       "    <tr>\n",
       "      <th>24</th>\n",
       "      <td>Adventure | Drama</td>\n",
       "      <td>Drama</td>\n",
       "      <td>Set-Up, The (1949)</td>\n",
       "    </tr>\n",
       "    <tr>\n",
       "      <th>25</th>\n",
       "      <td>Comedy | Musical</td>\n",
       "      <td>Comedy</td>\n",
       "      <td>Sheena (1984)</td>\n",
       "    </tr>\n",
       "    <tr>\n",
       "      <th>26</th>\n",
       "      <td>Action</td>\n",
       "      <td>Action</td>\n",
       "      <td>Elle: A Modern Cinderella Tale (2011)</td>\n",
       "    </tr>\n",
       "    <tr>\n",
       "      <th>27</th>\n",
       "      <td>Adventure | Children | Comedy | Musical</td>\n",
       "      <td>Comedy</td>\n",
       "      <td>William Shakespeare's Romeo + Juliet (1996)</td>\n",
       "    </tr>\n",
       "    <tr>\n",
       "      <th>28</th>\n",
       "      <td>Comedy | Drama</td>\n",
       "      <td>Comedy | Drama</td>\n",
       "      <td>Not with My Wife, You Don't! (1966)</td>\n",
       "    </tr>\n",
       "    <tr>\n",
       "      <th>29</th>\n",
       "      <td>Action | Thriller</td>\n",
       "      <td></td>\n",
       "      <td>Captain Kidd (1945)</td>\n",
       "    </tr>\n",
       "    <tr>\n",
       "      <th>30</th>\n",
       "      <td>Thriller | Horror</td>\n",
       "      <td>Horror</td>\n",
       "      <td>Dirty Dancing: Havana Nights (2004)</td>\n",
       "    </tr>\n",
       "    <tr>\n",
       "      <th>31</th>\n",
       "      <td>Drama</td>\n",
       "      <td>Drama</td>\n",
       "      <td>Restless (2011)</td>\n",
       "    </tr>\n",
       "    <tr>\n",
       "      <th>32</th>\n",
       "      <td>Drama | Action</td>\n",
       "      <td>Drama</td>\n",
       "      <td>Operation Endgame (2010)</td>\n",
       "    </tr>\n",
       "    <tr>\n",
       "      <th>33</th>\n",
       "      <td>Drama | Crime</td>\n",
       "      <td>Drama</td>\n",
       "      <td>Bran Nue Dae (2009)</td>\n",
       "    </tr>\n",
       "    <tr>\n",
       "      <th>34</th>\n",
       "      <td>Comedy</td>\n",
       "      <td>Comedy</td>\n",
       "      <td>Black Dawn (2005)</td>\n",
       "    </tr>\n",
       "    <tr>\n",
       "      <th>35</th>\n",
       "      <td>Animation | Drama | Action | War</td>\n",
       "      <td>Drama</td>\n",
       "      <td>Paris When It Sizzles (1964)</td>\n",
       "    </tr>\n",
       "    <tr>\n",
       "      <th>36</th>\n",
       "      <td>Adventure | Action | Sci-Fi</td>\n",
       "      <td>Adventure | Action</td>\n",
       "      <td>Seven (a.k.a. Se7en) (1995)</td>\n",
       "    </tr>\n",
       "    <tr>\n",
       "      <th>37</th>\n",
       "      <td>Romance | Drama</td>\n",
       "      <td>Drama</td>\n",
       "      <td>Malaya (1949)</td>\n",
       "    </tr>\n",
       "    <tr>\n",
       "      <th>38</th>\n",
       "      <td>Sci-Fi</td>\n",
       "      <td>Drama</td>\n",
       "      <td>Devil, The (Diabel) (1972)</td>\n",
       "    </tr>\n",
       "    <tr>\n",
       "      <th>39</th>\n",
       "      <td>Adventure | Comedy</td>\n",
       "      <td></td>\n",
       "      <td>Not on the Lips (Pas sur la bouche) (2003)</td>\n",
       "    </tr>\n",
       "    <tr>\n",
       "      <th>40</th>\n",
       "      <td>Crime | Thriller | Mystery | Film-Noir</td>\n",
       "      <td>Thriller</td>\n",
       "      <td>Night of the Lepus (1972)</td>\n",
       "    </tr>\n",
       "    <tr>\n",
       "      <th>41</th>\n",
       "      <td>Adventure | Comedy | Romance | Horror</td>\n",
       "      <td>Horror</td>\n",
       "      <td>Pyaar Ka Punchnama (2011)</td>\n",
       "    </tr>\n",
       "    <tr>\n",
       "      <th>42</th>\n",
       "      <td>Children | Comedy | Musical</td>\n",
       "      <td>Comedy</td>\n",
       "      <td>Shrek 2 (2004)</td>\n",
       "    </tr>\n",
       "    <tr>\n",
       "      <th>43</th>\n",
       "      <td>Comedy</td>\n",
       "      <td>Drama</td>\n",
       "      <td>Legal Eagles (1986)</td>\n",
       "    </tr>\n",
       "    <tr>\n",
       "      <th>44</th>\n",
       "      <td>Adventure | Comedy | Action | Crime</td>\n",
       "      <td>Comedy</td>\n",
       "      <td>Peculiarities of the National Hunt (Osobennost...</td>\n",
       "    </tr>\n",
       "    <tr>\n",
       "      <th>45</th>\n",
       "      <td>Drama</td>\n",
       "      <td>Comedy</td>\n",
       "      <td>Turks &amp; Caicos (2014)</td>\n",
       "    </tr>\n",
       "    <tr>\n",
       "      <th>46</th>\n",
       "      <td>Drama | Action | Crime | Thriller</td>\n",
       "      <td>Drama | Action | Crime</td>\n",
       "      <td>Baxter, The (2005)</td>\n",
       "    </tr>\n",
       "    <tr>\n",
       "      <th>47</th>\n",
       "      <td>Action</td>\n",
       "      <td>Adventure | Action</td>\n",
       "      <td>Pitfall (Otoshiana) (1962)</td>\n",
       "    </tr>\n",
       "    <tr>\n",
       "      <th>48</th>\n",
       "      <td>Drama</td>\n",
       "      <td>Drama</td>\n",
       "      <td>Mr. &amp; Mrs. Smith (1941)</td>\n",
       "    </tr>\n",
       "    <tr>\n",
       "      <th>49</th>\n",
       "      <td>Animation | Children | Comedy</td>\n",
       "      <td>Children | Comedy</td>\n",
       "      <td>5,000 Fingers of Dr. T, The (1953)</td>\n",
       "    </tr>\n",
       "  </tbody>\n",
       "</table>\n",
       "</div>"
      ],
      "text/plain": [
       "                                       Original Genre  ...                                              title\n",
       "0                                              Comedy  ...  First Beautiful Thing, The (La prima cosa bell...\n",
       "1                                               Drama  ...                         Terms of Endearment (1983)\n",
       "2                                             Romance  ...                               Skeleton Crew (2009)\n",
       "3                                              Comedy  ...                          Easy Come, Easy Go (1967)\n",
       "4                                               Drama  ...                    Head-On (Gegen die Wand) (2004)\n",
       "5                                    Romance | Sci-Fi  ...                  Day of Wrath (Vredens dag) (1943)\n",
       "6                                  Animation | Sci-Fi  ...   Fanny and Alexander (Fanny och Alexander) (1982)\n",
       "7                                               Drama  ...               Little Engine That Could, The (1991)\n",
       "8                        Adventure | Children | Drama  ...                          Slaves of New York (1989)\n",
       "9                                   Children | Comedy  ...                                 Sadist, The (1963)\n",
       "10                         Action | Thriller | Sci-Fi  ...                        Knight Without Armor (1937)\n",
       "11                                              Drama  ...                          As Good as It Gets (1997)\n",
       "12                                     Comedy | Drama  ...                                     Fiorile (1993)\n",
       "13                                              Crime  ...                                 Brassed Off (1996)\n",
       "14                        Thriller | Horror | Mystery  ...                                Kid Cannabis (2014)\n",
       "15                        Adventure | Romance | Drama  ...                                   100 Girls (2000)\n",
       "16                                     Drama | Horror  ...            Art of War III: Retribution, The (2009)\n",
       "17                                              Drama  ...                                     Dollman (1991)\n",
       "18                                     Comedy | Drama  ...                                  Love & Sex (2000)\n",
       "19                Romance | Drama | Action | Thriller  ...                           Eye of the Needle (1981)\n",
       "20                                             Comedy  ...       Marrying Man, The (Too Hot to Handle) (1991)\n",
       "21                                        Drama | War  ...                          The Forbidden Room (2015)\n",
       "22                                   Comedy | Musical  ...             Waiting Women (Kvinnors väntan) (1952)\n",
       "23  Adventure | Children | Fantasy | Thriller | Sc...  ...                             Falling in Love (1984)\n",
       "24                                  Adventure | Drama  ...                                 Set-Up, The (1949)\n",
       "25                                   Comedy | Musical  ...                                      Sheena (1984)\n",
       "26                                             Action  ...              Elle: A Modern Cinderella Tale (2011)\n",
       "27            Adventure | Children | Comedy | Musical  ...        William Shakespeare's Romeo + Juliet (1996)\n",
       "28                                     Comedy | Drama  ...                Not with My Wife, You Don't! (1966)\n",
       "29                                  Action | Thriller  ...                                Captain Kidd (1945)\n",
       "30                                  Thriller | Horror  ...                Dirty Dancing: Havana Nights (2004)\n",
       "31                                              Drama  ...                                    Restless (2011)\n",
       "32                                     Drama | Action  ...                           Operation Endgame (2010)\n",
       "33                                      Drama | Crime  ...                                Bran Nue Dae (2009)\n",
       "34                                             Comedy  ...                                  Black Dawn (2005)\n",
       "35                   Animation | Drama | Action | War  ...                       Paris When It Sizzles (1964)\n",
       "36                        Adventure | Action | Sci-Fi  ...                        Seven (a.k.a. Se7en) (1995)\n",
       "37                                    Romance | Drama  ...                                      Malaya (1949)\n",
       "38                                             Sci-Fi  ...                         Devil, The (Diabel) (1972)\n",
       "39                                 Adventure | Comedy  ...         Not on the Lips (Pas sur la bouche) (2003)\n",
       "40             Crime | Thriller | Mystery | Film-Noir  ...                          Night of the Lepus (1972)\n",
       "41              Adventure | Comedy | Romance | Horror  ...                          Pyaar Ka Punchnama (2011)\n",
       "42                        Children | Comedy | Musical  ...                                     Shrek 2 (2004)\n",
       "43                                             Comedy  ...                                Legal Eagles (1986)\n",
       "44                Adventure | Comedy | Action | Crime  ...  Peculiarities of the National Hunt (Osobennost...\n",
       "45                                              Drama  ...                              Turks & Caicos (2014)\n",
       "46                  Drama | Action | Crime | Thriller  ...                                 Baxter, The (2005)\n",
       "47                                             Action  ...                         Pitfall (Otoshiana) (1962)\n",
       "48                                              Drama  ...                            Mr. & Mrs. Smith (1941)\n",
       "49                      Animation | Children | Comedy  ...                 5,000 Fingers of Dr. T, The (1953)\n",
       "\n",
       "[50 rows x 3 columns]"
      ]
     },
     "execution_count": 55,
     "metadata": {
      "tags": []
     },
     "output_type": "execute_result"
    }
   ],
   "source": [
    "for i in range(50):\n",
    "  ori_gen = retrieve_genre(y_test[i])\n",
    "  pred_gen = get_prediction(i)\n",
    "  pred_gen = retrieve_genre(pred_gen)\n",
    "  df.loc[i] = [ori_gen,pred_gen]\n",
    "titl = list(X_train1['title'].head(50).values)\n",
    "df['title'] = list(titl)\n",
    "df"
   ]
  },
  {
   "cell_type": "markdown",
   "metadata": {
    "colab_type": "text",
    "id": "QV6CRuRvzYE3"
   },
   "source": [
    "**Bi-Directional LSTM**"
   ]
  },
  {
   "cell_type": "code",
   "execution_count": 0,
   "metadata": {
    "colab": {
     "base_uri": "https://localhost:8080/",
     "height": 459
    },
    "colab_type": "code",
    "id": "znSMQWHxj5Bs",
    "outputId": "6a88b702-fe7c-4aea-fb3e-6a035b43ae95"
   },
   "outputs": [
    {
     "name": "stdout",
     "output_type": "stream",
     "text": [
      "Model: \"model_17\"\n",
      "_________________________________________________________________\n",
      "Layer (type)                 Output Shape              Param #   \n",
      "=================================================================\n",
      "input_22 (InputLayer)        (None, 300)               0         \n",
      "_________________________________________________________________\n",
      "embedding_22 (Embedding)     (None, 300, 300)          33233400  \n",
      "_________________________________________________________________\n",
      "bidirectional_9 (Bidirection (None, 300, 512)          1140736   \n",
      "_________________________________________________________________\n",
      "bidirectional_10 (Bidirectio (None, 300, 256)          656384    \n",
      "_________________________________________________________________\n",
      "bidirectional_11 (Bidirectio (None, 300, 128)          164352    \n",
      "_________________________________________________________________\n",
      "flatten_11 (Flatten)         (None, 38400)             0         \n",
      "_________________________________________________________________\n",
      "dense_31 (Dense)             (None, 64)                2457664   \n",
      "_________________________________________________________________\n",
      "dense_32 (Dense)             (None, 32)                2080      \n",
      "_________________________________________________________________\n",
      "dense_33 (Dense)             (None, 17)                561       \n",
      "=================================================================\n",
      "Total params: 37,655,177\n",
      "Trainable params: 4,421,777\n",
      "Non-trainable params: 33,233,400\n",
      "_________________________________________________________________\n"
     ]
    }
   ],
   "source": [
    "input_layer = Input(shape=(maxlen,))\n",
    "\n",
    "embedding_layer = Embedding(nb_words, EMBEDDING_DIM,input_length=300, weights=[embedding_matrix], trainable=False)(input_layer)\n",
    "\n",
    "lstm1 = Bidirectional(LSTM(256,return_sequences=True,kernel_initializer='he_normal'))(embedding_layer)\n",
    "\n",
    "\n",
    "lstm2 = Bidirectional(LSTM(128,return_sequences=True,kernel_initializer='he_normal'))(lstm1)\n",
    "\n",
    "\n",
    "lstm3 = Bidirectional(LSTM(64,return_sequences=True,kernel_initializer='he_normal'))(lstm2)\n",
    "\n",
    "\n",
    "flat = Flatten()(lstm3)\n",
    "\n",
    "\n",
    "dense1 = Dense(64, activation='relu',kernel_initializer='he_normal')(flat)\n",
    "\n",
    "dense2 = Dense(32, activation='relu',kernel_initializer='he_normal')(dense1)\n",
    "\n",
    "\n",
    "out_layer = Dense(17, activation='sigmoid')(dense2)\n",
    "\n",
    "model = Model(inputs=input_layer, outputs=out_layer)\n",
    "\n",
    "model.compile(loss='binary_crossentropy', optimizer='adam', metrics=['acc'])\n",
    "model.summary()"
   ]
  },
  {
   "cell_type": "code",
   "execution_count": 0,
   "metadata": {
    "colab": {},
    "colab_type": "code",
    "id": "UfXXEa_Yz2TC"
   },
   "outputs": [],
   "source": [
    "from keras.callbacks import EarlyStopping\n",
    "es = EarlyStopping(monitor='val_acc', patience=5, mode='max', baseline=None, restore_best_weights=True)"
   ]
  },
  {
   "cell_type": "code",
   "execution_count": 0,
   "metadata": {
    "colab": {
     "base_uri": "https://localhost:8080/",
     "height": 326
    },
    "colab_type": "code",
    "id": "YnQYUCeBz7ml",
    "outputId": "00c3b08c-f644-41f0-8be2-c6291aea9386"
   },
   "outputs": [
    {
     "name": "stdout",
     "output_type": "stream",
     "text": [
      "Train on 14072 samples, validate on 3519 samples\n",
      "Epoch 1/30\n",
      "14072/14072 [==============================] - 441s 31ms/step - loss: 0.3349 - acc: 0.8580 - val_loss: 0.2621 - val_acc: 0.8919\n",
      "Epoch 2/30\n",
      "14072/14072 [==============================] - 423s 30ms/step - loss: 0.2434 - acc: 0.8996 - val_loss: 0.2408 - val_acc: 0.8988\n",
      "Epoch 3/30\n",
      "14072/14072 [==============================] - 425s 30ms/step - loss: 0.2254 - acc: 0.9069 - val_loss: 0.2297 - val_acc: 0.9071\n",
      "Epoch 4/30\n",
      "14072/14072 [==============================] - 426s 30ms/step - loss: 0.2131 - acc: 0.9121 - val_loss: 0.2306 - val_acc: 0.9061\n",
      "Epoch 5/30\n",
      "14072/14072 [==============================] - 428s 30ms/step - loss: 0.2011 - acc: 0.9176 - val_loss: 0.2348 - val_acc: 0.9063\n",
      "Epoch 6/30\n",
      "14072/14072 [==============================] - 424s 30ms/step - loss: 0.1877 - acc: 0.9226 - val_loss: 0.2296 - val_acc: 0.9059\n",
      "Epoch 7/30\n",
      "14072/14072 [==============================] - 426s 30ms/step - loss: 0.1702 - acc: 0.9306 - val_loss: 0.2435 - val_acc: 0.9015\n",
      "Epoch 8/30\n",
      "14072/14072 [==============================] - 424s 30ms/step - loss: 0.1538 - acc: 0.9372 - val_loss: 0.2552 - val_acc: 0.9017\n"
     ]
    }
   ],
   "source": [
    "history = model.fit(X_train, y_train, batch_size=128, epochs=30, verbose=1,validation_data=(X_test,y_test),callbacks=[es])"
   ]
  },
  {
   "cell_type": "code",
   "execution_count": 0,
   "metadata": {
    "colab": {
     "base_uri": "https://localhost:8080/",
     "height": 34
    },
    "colab_type": "code",
    "id": "Hh22OdtCz-_W",
    "outputId": "f9a16b12-173d-47c1-ee2d-365e05a9134f"
   },
   "outputs": [
    {
     "data": {
      "text/plain": [
       "['/content/drive/My Drive/bi-lstm_90.sav']"
      ]
     },
     "execution_count": 398,
     "metadata": {
      "tags": []
     },
     "output_type": "execute_result"
    }
   ],
   "source": [
    "from sklearn.externals import joblib\n",
    "# save the model to disk\n",
    "filename = 'bi-lstm_90.sav'\n",
    "joblib.dump(model, filename)"
   ]
  },
  {
   "cell_type": "code",
   "execution_count": 0,
   "metadata": {
    "colab": {
     "base_uri": "https://localhost:8080/",
     "height": 51
    },
    "colab_type": "code",
    "id": "1ziMIk7qMADv",
    "outputId": "0c4ff237-4e6a-426f-d72f-154c1639dcff"
   },
   "outputs": [
    {
     "name": "stdout",
     "output_type": "stream",
     "text": [
      "3519/3519 [==============================] - 155s 44ms/step\n"
     ]
    },
    {
     "data": {
      "text/plain": [
       "[0.22971791142460704, 0.9070758865990061]"
      ]
     },
     "execution_count": 399,
     "metadata": {
      "tags": []
     },
     "output_type": "execute_result"
    }
   ],
   "source": [
    "model.evaluate(X_test, y_test, verbose=1)"
   ]
  },
  {
   "cell_type": "code",
   "execution_count": 56,
   "metadata": {
    "colab": {
     "base_uri": "https://localhost:8080/",
     "height": 71
    },
    "colab_type": "code",
    "id": "ujYOADbMyEwW",
    "outputId": "4ec542fd-c346-472e-9166-26b87c27dcbb"
   },
   "outputs": [
    {
     "name": "stdout",
     "output_type": "stream",
     "text": [
      "WARNING:tensorflow:From /usr/local/lib/python3.6/dist-packages/keras/backend/tensorflow_backend.py:4479: The name tf.truncated_normal is deprecated. Please use tf.random.truncated_normal instead.\n",
      "\n"
     ]
    }
   ],
   "source": [
    "model = joblib.load('bi-lstm_90.sav')"
   ]
  },
  {
   "cell_type": "code",
   "execution_count": 0,
   "metadata": {
    "colab": {},
    "colab_type": "code",
    "id": "jZP1XPB4yNxe"
   },
   "outputs": [],
   "source": [
    "out_arr = model.predict(X_test)"
   ]
  },
  {
   "cell_type": "code",
   "execution_count": 0,
   "metadata": {
    "colab": {},
    "colab_type": "code",
    "id": "Uvi6n57cyNmE"
   },
   "outputs": [],
   "source": [
    "def get_prediction(k):\n",
    "  pred_arr = []\n",
    "  for i in out_arr[k]:\n",
    "    if(i>0.5):\n",
    "      pred_arr.append(1)\n",
    "    else:\n",
    "      pred_arr.append(0)\n",
    "  return pred_arr"
   ]
  },
  {
   "cell_type": "code",
   "execution_count": 0,
   "metadata": {
    "colab": {},
    "colab_type": "code",
    "id": "gfBP08qZyYq3"
   },
   "outputs": [],
   "source": [
    "def retrieve_genre(arr):\n",
    "  plot_str = ''\n",
    "  for i in range(len(arr)):\n",
    "    if(arr[i]==1):\n",
    "      plot_str = plot_str+' | '+y_df.columns[i]\n",
    "  return plot_str.lstrip(' | ')"
   ]
  },
  {
   "cell_type": "code",
   "execution_count": 0,
   "metadata": {
    "colab": {},
    "colab_type": "code",
    "id": "MePc_unlyb_V"
   },
   "outputs": [],
   "source": [
    "df = pd.DataFrame(columns=['Original Genre','Predicted Genre'])"
   ]
  },
  {
   "cell_type": "code",
   "execution_count": 61,
   "metadata": {
    "colab": {
     "base_uri": "https://localhost:8080/",
     "height": 1000
    },
    "colab_type": "code",
    "id": "UCUMYYpvyen-",
    "outputId": "97a09cbd-0bc4-4672-defc-3d943ebaa647"
   },
   "outputs": [
    {
     "data": {
      "text/html": [
       "<div>\n",
       "<style scoped>\n",
       "    .dataframe tbody tr th:only-of-type {\n",
       "        vertical-align: middle;\n",
       "    }\n",
       "\n",
       "    .dataframe tbody tr th {\n",
       "        vertical-align: top;\n",
       "    }\n",
       "\n",
       "    .dataframe thead th {\n",
       "        text-align: right;\n",
       "    }\n",
       "</style>\n",
       "<table border=\"1\" class=\"dataframe\">\n",
       "  <thead>\n",
       "    <tr style=\"text-align: right;\">\n",
       "      <th></th>\n",
       "      <th>Original Genre</th>\n",
       "      <th>Predicted Genre</th>\n",
       "      <th>title</th>\n",
       "    </tr>\n",
       "  </thead>\n",
       "  <tbody>\n",
       "    <tr>\n",
       "      <th>0</th>\n",
       "      <td>Comedy</td>\n",
       "      <td>Comedy</td>\n",
       "      <td>First Beautiful Thing, The (La prima cosa bell...</td>\n",
       "    </tr>\n",
       "    <tr>\n",
       "      <th>1</th>\n",
       "      <td>Drama</td>\n",
       "      <td>Children | Drama</td>\n",
       "      <td>Terms of Endearment (1983)</td>\n",
       "    </tr>\n",
       "    <tr>\n",
       "      <th>2</th>\n",
       "      <td>Romance</td>\n",
       "      <td>Drama</td>\n",
       "      <td>Skeleton Crew (2009)</td>\n",
       "    </tr>\n",
       "    <tr>\n",
       "      <th>3</th>\n",
       "      <td>Comedy</td>\n",
       "      <td>Drama</td>\n",
       "      <td>Easy Come, Easy Go (1967)</td>\n",
       "    </tr>\n",
       "    <tr>\n",
       "      <th>4</th>\n",
       "      <td>Drama</td>\n",
       "      <td>Romance | Drama</td>\n",
       "      <td>Head-On (Gegen die Wand) (2004)</td>\n",
       "    </tr>\n",
       "    <tr>\n",
       "      <th>5</th>\n",
       "      <td>Romance | Sci-Fi</td>\n",
       "      <td>Action | Thriller | Sci-Fi</td>\n",
       "      <td>Day of Wrath (Vredens dag) (1943)</td>\n",
       "    </tr>\n",
       "    <tr>\n",
       "      <th>6</th>\n",
       "      <td>Animation | Sci-Fi</td>\n",
       "      <td>Sci-Fi</td>\n",
       "      <td>Fanny and Alexander (Fanny och Alexander) (1982)</td>\n",
       "    </tr>\n",
       "    <tr>\n",
       "      <th>7</th>\n",
       "      <td>Drama</td>\n",
       "      <td></td>\n",
       "      <td>Little Engine That Could, The (1991)</td>\n",
       "    </tr>\n",
       "    <tr>\n",
       "      <th>8</th>\n",
       "      <td>Adventure | Children | Drama</td>\n",
       "      <td>Drama</td>\n",
       "      <td>Slaves of New York (1989)</td>\n",
       "    </tr>\n",
       "    <tr>\n",
       "      <th>9</th>\n",
       "      <td>Children | Comedy</td>\n",
       "      <td>Comedy</td>\n",
       "      <td>Sadist, The (1963)</td>\n",
       "    </tr>\n",
       "    <tr>\n",
       "      <th>10</th>\n",
       "      <td>Action | Thriller | Sci-Fi</td>\n",
       "      <td>Adventure | Action | Sci-Fi</td>\n",
       "      <td>Knight Without Armor (1937)</td>\n",
       "    </tr>\n",
       "    <tr>\n",
       "      <th>11</th>\n",
       "      <td>Drama</td>\n",
       "      <td>Thriller | Horror</td>\n",
       "      <td>As Good as It Gets (1997)</td>\n",
       "    </tr>\n",
       "    <tr>\n",
       "      <th>12</th>\n",
       "      <td>Comedy | Drama</td>\n",
       "      <td>Drama</td>\n",
       "      <td>Fiorile (1993)</td>\n",
       "    </tr>\n",
       "    <tr>\n",
       "      <th>13</th>\n",
       "      <td>Crime</td>\n",
       "      <td>Drama</td>\n",
       "      <td>Brassed Off (1996)</td>\n",
       "    </tr>\n",
       "    <tr>\n",
       "      <th>14</th>\n",
       "      <td>Thriller | Horror | Mystery</td>\n",
       "      <td>Thriller | Horror</td>\n",
       "      <td>Kid Cannabis (2014)</td>\n",
       "    </tr>\n",
       "    <tr>\n",
       "      <th>15</th>\n",
       "      <td>Adventure | Romance | Drama</td>\n",
       "      <td>Drama | War</td>\n",
       "      <td>100 Girls (2000)</td>\n",
       "    </tr>\n",
       "    <tr>\n",
       "      <th>16</th>\n",
       "      <td>Drama | Horror</td>\n",
       "      <td></td>\n",
       "      <td>Art of War III: Retribution, The (2009)</td>\n",
       "    </tr>\n",
       "    <tr>\n",
       "      <th>17</th>\n",
       "      <td>Drama</td>\n",
       "      <td></td>\n",
       "      <td>Dollman (1991)</td>\n",
       "    </tr>\n",
       "    <tr>\n",
       "      <th>18</th>\n",
       "      <td>Comedy | Drama</td>\n",
       "      <td></td>\n",
       "      <td>Love &amp; Sex (2000)</td>\n",
       "    </tr>\n",
       "    <tr>\n",
       "      <th>19</th>\n",
       "      <td>Romance | Drama | Action | Thriller</td>\n",
       "      <td>Drama | Action</td>\n",
       "      <td>Eye of the Needle (1981)</td>\n",
       "    </tr>\n",
       "    <tr>\n",
       "      <th>20</th>\n",
       "      <td>Comedy</td>\n",
       "      <td>Drama</td>\n",
       "      <td>Marrying Man, The (Too Hot to Handle) (1991)</td>\n",
       "    </tr>\n",
       "    <tr>\n",
       "      <th>21</th>\n",
       "      <td>Drama | War</td>\n",
       "      <td>Drama</td>\n",
       "      <td>The Forbidden Room (2015)</td>\n",
       "    </tr>\n",
       "    <tr>\n",
       "      <th>22</th>\n",
       "      <td>Comedy | Musical</td>\n",
       "      <td>Children | Comedy</td>\n",
       "      <td>Waiting Women (Kvinnors väntan) (1952)</td>\n",
       "    </tr>\n",
       "    <tr>\n",
       "      <th>23</th>\n",
       "      <td>Adventure | Children | Fantasy | Thriller | Sc...</td>\n",
       "      <td>Action | Sci-Fi</td>\n",
       "      <td>Falling in Love (1984)</td>\n",
       "    </tr>\n",
       "    <tr>\n",
       "      <th>24</th>\n",
       "      <td>Adventure | Drama</td>\n",
       "      <td></td>\n",
       "      <td>Set-Up, The (1949)</td>\n",
       "    </tr>\n",
       "    <tr>\n",
       "      <th>25</th>\n",
       "      <td>Comedy | Musical</td>\n",
       "      <td>Comedy</td>\n",
       "      <td>Sheena (1984)</td>\n",
       "    </tr>\n",
       "    <tr>\n",
       "      <th>26</th>\n",
       "      <td>Action</td>\n",
       "      <td>Action</td>\n",
       "      <td>Elle: A Modern Cinderella Tale (2011)</td>\n",
       "    </tr>\n",
       "    <tr>\n",
       "      <th>27</th>\n",
       "      <td>Adventure | Children | Comedy | Musical</td>\n",
       "      <td>Animation | Children | Comedy</td>\n",
       "      <td>William Shakespeare's Romeo + Juliet (1996)</td>\n",
       "    </tr>\n",
       "    <tr>\n",
       "      <th>28</th>\n",
       "      <td>Comedy | Drama</td>\n",
       "      <td>Drama</td>\n",
       "      <td>Not with My Wife, You Don't! (1966)</td>\n",
       "    </tr>\n",
       "    <tr>\n",
       "      <th>29</th>\n",
       "      <td>Action | Thriller</td>\n",
       "      <td></td>\n",
       "      <td>Captain Kidd (1945)</td>\n",
       "    </tr>\n",
       "    <tr>\n",
       "      <th>30</th>\n",
       "      <td>Thriller | Horror</td>\n",
       "      <td>Thriller | Horror</td>\n",
       "      <td>Dirty Dancing: Havana Nights (2004)</td>\n",
       "    </tr>\n",
       "    <tr>\n",
       "      <th>31</th>\n",
       "      <td>Drama</td>\n",
       "      <td>Drama | War</td>\n",
       "      <td>Restless (2011)</td>\n",
       "    </tr>\n",
       "    <tr>\n",
       "      <th>32</th>\n",
       "      <td>Drama | Action</td>\n",
       "      <td>Action</td>\n",
       "      <td>Operation Endgame (2010)</td>\n",
       "    </tr>\n",
       "    <tr>\n",
       "      <th>33</th>\n",
       "      <td>Drama | Crime</td>\n",
       "      <td>Drama</td>\n",
       "      <td>Bran Nue Dae (2009)</td>\n",
       "    </tr>\n",
       "    <tr>\n",
       "      <th>34</th>\n",
       "      <td>Comedy</td>\n",
       "      <td>Comedy</td>\n",
       "      <td>Black Dawn (2005)</td>\n",
       "    </tr>\n",
       "    <tr>\n",
       "      <th>35</th>\n",
       "      <td>Animation | Drama | Action | War</td>\n",
       "      <td>Drama | War</td>\n",
       "      <td>Paris When It Sizzles (1964)</td>\n",
       "    </tr>\n",
       "    <tr>\n",
       "      <th>36</th>\n",
       "      <td>Adventure | Action | Sci-Fi</td>\n",
       "      <td>Adventure | Action | Sci-Fi</td>\n",
       "      <td>Seven (a.k.a. Se7en) (1995)</td>\n",
       "    </tr>\n",
       "    <tr>\n",
       "      <th>37</th>\n",
       "      <td>Romance | Drama</td>\n",
       "      <td>Romance | Drama</td>\n",
       "      <td>Malaya (1949)</td>\n",
       "    </tr>\n",
       "    <tr>\n",
       "      <th>38</th>\n",
       "      <td>Sci-Fi</td>\n",
       "      <td>Drama</td>\n",
       "      <td>Devil, The (Diabel) (1972)</td>\n",
       "    </tr>\n",
       "    <tr>\n",
       "      <th>39</th>\n",
       "      <td>Adventure | Comedy</td>\n",
       "      <td></td>\n",
       "      <td>Not on the Lips (Pas sur la bouche) (2003)</td>\n",
       "    </tr>\n",
       "    <tr>\n",
       "      <th>40</th>\n",
       "      <td>Crime | Thriller | Mystery | Film-Noir</td>\n",
       "      <td>Thriller</td>\n",
       "      <td>Night of the Lepus (1972)</td>\n",
       "    </tr>\n",
       "    <tr>\n",
       "      <th>41</th>\n",
       "      <td>Adventure | Comedy | Romance | Horror</td>\n",
       "      <td>Thriller | Horror</td>\n",
       "      <td>Pyaar Ka Punchnama (2011)</td>\n",
       "    </tr>\n",
       "    <tr>\n",
       "      <th>42</th>\n",
       "      <td>Children | Comedy | Musical</td>\n",
       "      <td>Comedy</td>\n",
       "      <td>Shrek 2 (2004)</td>\n",
       "    </tr>\n",
       "    <tr>\n",
       "      <th>43</th>\n",
       "      <td>Comedy</td>\n",
       "      <td>Drama</td>\n",
       "      <td>Legal Eagles (1986)</td>\n",
       "    </tr>\n",
       "    <tr>\n",
       "      <th>44</th>\n",
       "      <td>Adventure | Comedy | Action | Crime</td>\n",
       "      <td></td>\n",
       "      <td>Peculiarities of the National Hunt (Osobennost...</td>\n",
       "    </tr>\n",
       "    <tr>\n",
       "      <th>45</th>\n",
       "      <td>Drama</td>\n",
       "      <td>Comedy</td>\n",
       "      <td>Turks &amp; Caicos (2014)</td>\n",
       "    </tr>\n",
       "    <tr>\n",
       "      <th>46</th>\n",
       "      <td>Drama | Action | Crime | Thriller</td>\n",
       "      <td>Drama</td>\n",
       "      <td>Baxter, The (2005)</td>\n",
       "    </tr>\n",
       "    <tr>\n",
       "      <th>47</th>\n",
       "      <td>Action</td>\n",
       "      <td>Drama | Action | Thriller</td>\n",
       "      <td>Pitfall (Otoshiana) (1962)</td>\n",
       "    </tr>\n",
       "    <tr>\n",
       "      <th>48</th>\n",
       "      <td>Drama</td>\n",
       "      <td>Drama</td>\n",
       "      <td>Mr. &amp; Mrs. Smith (1941)</td>\n",
       "    </tr>\n",
       "    <tr>\n",
       "      <th>49</th>\n",
       "      <td>Animation | Children | Comedy</td>\n",
       "      <td>Children | Comedy</td>\n",
       "      <td>5,000 Fingers of Dr. T, The (1953)</td>\n",
       "    </tr>\n",
       "  </tbody>\n",
       "</table>\n",
       "</div>"
      ],
      "text/plain": [
       "                                       Original Genre  ...                                              title\n",
       "0                                              Comedy  ...  First Beautiful Thing, The (La prima cosa bell...\n",
       "1                                               Drama  ...                         Terms of Endearment (1983)\n",
       "2                                             Romance  ...                               Skeleton Crew (2009)\n",
       "3                                              Comedy  ...                          Easy Come, Easy Go (1967)\n",
       "4                                               Drama  ...                    Head-On (Gegen die Wand) (2004)\n",
       "5                                    Romance | Sci-Fi  ...                  Day of Wrath (Vredens dag) (1943)\n",
       "6                                  Animation | Sci-Fi  ...   Fanny and Alexander (Fanny och Alexander) (1982)\n",
       "7                                               Drama  ...               Little Engine That Could, The (1991)\n",
       "8                        Adventure | Children | Drama  ...                          Slaves of New York (1989)\n",
       "9                                   Children | Comedy  ...                                 Sadist, The (1963)\n",
       "10                         Action | Thriller | Sci-Fi  ...                        Knight Without Armor (1937)\n",
       "11                                              Drama  ...                          As Good as It Gets (1997)\n",
       "12                                     Comedy | Drama  ...                                     Fiorile (1993)\n",
       "13                                              Crime  ...                                 Brassed Off (1996)\n",
       "14                        Thriller | Horror | Mystery  ...                                Kid Cannabis (2014)\n",
       "15                        Adventure | Romance | Drama  ...                                   100 Girls (2000)\n",
       "16                                     Drama | Horror  ...            Art of War III: Retribution, The (2009)\n",
       "17                                              Drama  ...                                     Dollman (1991)\n",
       "18                                     Comedy | Drama  ...                                  Love & Sex (2000)\n",
       "19                Romance | Drama | Action | Thriller  ...                           Eye of the Needle (1981)\n",
       "20                                             Comedy  ...       Marrying Man, The (Too Hot to Handle) (1991)\n",
       "21                                        Drama | War  ...                          The Forbidden Room (2015)\n",
       "22                                   Comedy | Musical  ...             Waiting Women (Kvinnors väntan) (1952)\n",
       "23  Adventure | Children | Fantasy | Thriller | Sc...  ...                             Falling in Love (1984)\n",
       "24                                  Adventure | Drama  ...                                 Set-Up, The (1949)\n",
       "25                                   Comedy | Musical  ...                                      Sheena (1984)\n",
       "26                                             Action  ...              Elle: A Modern Cinderella Tale (2011)\n",
       "27            Adventure | Children | Comedy | Musical  ...        William Shakespeare's Romeo + Juliet (1996)\n",
       "28                                     Comedy | Drama  ...                Not with My Wife, You Don't! (1966)\n",
       "29                                  Action | Thriller  ...                                Captain Kidd (1945)\n",
       "30                                  Thriller | Horror  ...                Dirty Dancing: Havana Nights (2004)\n",
       "31                                              Drama  ...                                    Restless (2011)\n",
       "32                                     Drama | Action  ...                           Operation Endgame (2010)\n",
       "33                                      Drama | Crime  ...                                Bran Nue Dae (2009)\n",
       "34                                             Comedy  ...                                  Black Dawn (2005)\n",
       "35                   Animation | Drama | Action | War  ...                       Paris When It Sizzles (1964)\n",
       "36                        Adventure | Action | Sci-Fi  ...                        Seven (a.k.a. Se7en) (1995)\n",
       "37                                    Romance | Drama  ...                                      Malaya (1949)\n",
       "38                                             Sci-Fi  ...                         Devil, The (Diabel) (1972)\n",
       "39                                 Adventure | Comedy  ...         Not on the Lips (Pas sur la bouche) (2003)\n",
       "40             Crime | Thriller | Mystery | Film-Noir  ...                          Night of the Lepus (1972)\n",
       "41              Adventure | Comedy | Romance | Horror  ...                          Pyaar Ka Punchnama (2011)\n",
       "42                        Children | Comedy | Musical  ...                                     Shrek 2 (2004)\n",
       "43                                             Comedy  ...                                Legal Eagles (1986)\n",
       "44                Adventure | Comedy | Action | Crime  ...  Peculiarities of the National Hunt (Osobennost...\n",
       "45                                              Drama  ...                              Turks & Caicos (2014)\n",
       "46                  Drama | Action | Crime | Thriller  ...                                 Baxter, The (2005)\n",
       "47                                             Action  ...                         Pitfall (Otoshiana) (1962)\n",
       "48                                              Drama  ...                            Mr. & Mrs. Smith (1941)\n",
       "49                      Animation | Children | Comedy  ...                 5,000 Fingers of Dr. T, The (1953)\n",
       "\n",
       "[50 rows x 3 columns]"
      ]
     },
     "execution_count": 61,
     "metadata": {
      "tags": []
     },
     "output_type": "execute_result"
    }
   ],
   "source": [
    "for i in range(50):\n",
    "  ori_gen = retrieve_genre(y_test[i])\n",
    "  pred_gen = get_prediction(i)\n",
    "  pred_gen = retrieve_genre(pred_gen)\n",
    "  df.loc[i] = [ori_gen,pred_gen]\n",
    "titl = list(X_train1['title'].head(50).values)\n",
    "df['title'] = list(titl)\n",
    "df"
   ]
  },
  {
   "cell_type": "markdown",
   "metadata": {
    "colab_type": "text",
    "id": "0yvXTb5_PcGa"
   },
   "source": [
    "**1D - Convolution Layers along with LSTM Layers**"
   ]
  },
  {
   "cell_type": "code",
   "execution_count": 0,
   "metadata": {
    "colab": {
     "base_uri": "https://localhost:8080/",
     "height": 802
    },
    "colab_type": "code",
    "id": "BrL4KmM2Mpba",
    "outputId": "d2949a68-c79b-4d62-e2f0-9df87d8894b1"
   },
   "outputs": [
    {
     "name": "stdout",
     "output_type": "stream",
     "text": [
      "WARNING:tensorflow:From /usr/local/lib/python3.6/dist-packages/keras/backend/tensorflow_backend.py:3733: calling dropout (from tensorflow.python.ops.nn_ops) with keep_prob is deprecated and will be removed in a future version.\n",
      "Instructions for updating:\n",
      "Please use `rate` instead of `keep_prob`. Rate should be set to `rate = 1 - keep_prob`.\n",
      "Model: \"model_2\"\n",
      "_________________________________________________________________\n",
      "Layer (type)                 Output Shape              Param #   \n",
      "=================================================================\n",
      "input_2 (InputLayer)         (None, 300)               0         \n",
      "_________________________________________________________________\n",
      "embedding_2 (Embedding)      (None, 300, 300)          33233400  \n",
      "_________________________________________________________________\n",
      "lstm_5 (LSTM)                (None, 300, 512)          1665024   \n",
      "_________________________________________________________________\n",
      "conv1d_5 (Conv1D)            (None, 299, 128)          131200    \n",
      "_________________________________________________________________\n",
      "dropout_1 (Dropout)          (None, 299, 128)          0         \n",
      "_________________________________________________________________\n",
      "lstm_6 (LSTM)                (None, 299, 256)          394240    \n",
      "_________________________________________________________________\n",
      "conv1d_6 (Conv1D)            (None, 298, 64)           32832     \n",
      "_________________________________________________________________\n",
      "dropout_2 (Dropout)          (None, 298, 64)           0         \n",
      "_________________________________________________________________\n",
      "lstm_7 (LSTM)                (None, 298, 128)          98816     \n",
      "_________________________________________________________________\n",
      "conv1d_7 (Conv1D)            (None, 297, 32)           8224      \n",
      "_________________________________________________________________\n",
      "lstm_8 (LSTM)                (None, 297, 64)           24832     \n",
      "_________________________________________________________________\n",
      "conv1d_8 (Conv1D)            (None, 296, 16)           2064      \n",
      "_________________________________________________________________\n",
      "flatten_2 (Flatten)          (None, 4736)              0         \n",
      "_________________________________________________________________\n",
      "dense_4 (Dense)              (None, 128)               606336    \n",
      "_________________________________________________________________\n",
      "dropout_3 (Dropout)          (None, 128)               0         \n",
      "_________________________________________________________________\n",
      "dense_5 (Dense)              (None, 64)                8256      \n",
      "_________________________________________________________________\n",
      "dense_6 (Dense)              (None, 17)                1105      \n",
      "=================================================================\n",
      "Total params: 36,206,329\n",
      "Trainable params: 2,972,929\n",
      "Non-trainable params: 33,233,400\n",
      "_________________________________________________________________\n"
     ]
    }
   ],
   "source": [
    "input_layer = Input(shape=(maxlen,))\n",
    "\n",
    "embedding_layer = Embedding(nb_words, EMBEDDING_DIM,input_length=300, weights=[embedding_matrix], trainable=False)(input_layer)\n",
    "\n",
    "lstm1 = LSTM(512,return_sequences=True)(embedding_layer)\n",
    "conv1 = Conv1D(filters=128, kernel_size=2, activation='relu')(lstm1)\n",
    "conv1 = Dropout(0.25)(conv1)\n",
    "\n",
    "lstm2 = LSTM(256,return_sequences=True)(conv1)\n",
    "conv2 = Conv1D(filters=64, kernel_size=2, activation='relu')(lstm2)\n",
    "conv2 = Dropout(0.25)(conv2)\n",
    "\n",
    "lstm3 = LSTM(128,return_sequences=True)(conv2)\n",
    "conv3 = Conv1D(filters=32, kernel_size=2, activation='relu')(lstm3)\n",
    "\n",
    "lstm4 = LSTM(64,return_sequences=True)(conv3)\n",
    "conv4 = Conv1D(filters=16, kernel_size=2, activation='relu')(lstm4)\n",
    "\n",
    "flat = Flatten()(conv4)\n",
    "\n",
    "\n",
    "dense1 = Dense(128, activation='relu')(flat)\n",
    "dense1 = Dropout(0.25)(dense1)\n",
    "\n",
    "dense2 = Dense(64, activation='relu')(dense1)\n",
    "\n",
    "out_layer = Dense(17, activation='sigmoid')(dense2)\n",
    "\n",
    "model = Model(inputs=input_layer, outputs=out_layer)\n",
    "\n",
    "model.compile(loss='binary_crossentropy', optimizer='adam', metrics=['acc'])\n",
    "model.summary()"
   ]
  },
  {
   "cell_type": "code",
   "execution_count": 0,
   "metadata": {
    "colab": {},
    "colab_type": "code",
    "id": "EfohF0gSQ0jt"
   },
   "outputs": [],
   "source": [
    "from keras.callbacks import EarlyStopping\n",
    "es = EarlyStopping(monitor='val_acc', patience=5, mode='max', baseline=None, restore_best_weights=True)"
   ]
  },
  {
   "cell_type": "code",
   "execution_count": 0,
   "metadata": {
    "colab": {
     "base_uri": "https://localhost:8080/",
     "height": 1000
    },
    "colab_type": "code",
    "id": "q1uPJh44Q5HI",
    "outputId": "cca2f158-0859-413d-d74c-c1ec1e14c2b6"
   },
   "outputs": [
    {
     "name": "stdout",
     "output_type": "stream",
     "text": [
      "Train on 14072 samples, validate on 3519 samples\n",
      "Epoch 1/30\n",
      "14072/14072 [==============================] - 318s 23ms/step - loss: 0.3520 - acc: 0.8643 - val_loss: 0.3138 - val_acc: 0.8791\n",
      "Epoch 2/30\n",
      "14072/14072 [==============================] - 315s 22ms/step - loss: 0.3056 - acc: 0.8818 - val_loss: 0.2972 - val_acc: 0.8835\n",
      "Epoch 3/30\n",
      "14072/14072 [==============================] - 315s 22ms/step - loss: 0.3147 - acc: 0.8795 - val_loss: 0.3341 - val_acc: 0.8779\n",
      "Epoch 4/30\n",
      "14072/14072 [==============================] - 315s 22ms/step - loss: 0.3276 - acc: 0.8763 - val_loss: 0.3148 - val_acc: 0.8817\n",
      "Epoch 5/30\n",
      "14072/14072 [==============================] - 313s 22ms/step - loss: 0.3131 - acc: 0.8813 - val_loss: 0.2973 - val_acc: 0.8829\n",
      "Epoch 6/30\n",
      "14072/14072 [==============================] - 315s 22ms/step - loss: 0.3000 - acc: 0.8824 - val_loss: 0.2937 - val_acc: 0.8835\n",
      "Epoch 7/30\n",
      "14072/14072 [==============================] - 315s 22ms/step - loss: 0.2973 - acc: 0.8828 - val_loss: 0.2908 - val_acc: 0.8834\n",
      "Epoch 8/30\n",
      "14072/14072 [==============================] - 316s 22ms/step - loss: 0.2943 - acc: 0.8827 - val_loss: 0.2863 - val_acc: 0.8838\n",
      "Epoch 9/30\n",
      "14072/14072 [==============================] - 315s 22ms/step - loss: 0.2911 - acc: 0.8829 - val_loss: 0.2858 - val_acc: 0.8837\n",
      "Epoch 10/30\n",
      "14072/14072 [==============================] - 316s 22ms/step - loss: 0.2850 - acc: 0.8835 - val_loss: 0.2743 - val_acc: 0.8853\n",
      "Epoch 11/30\n",
      "14072/14072 [==============================] - 312s 22ms/step - loss: 0.2795 - acc: 0.8841 - val_loss: 0.2737 - val_acc: 0.8851\n",
      "Epoch 12/30\n",
      "14072/14072 [==============================] - 314s 22ms/step - loss: 0.2763 - acc: 0.8851 - val_loss: 0.2769 - val_acc: 0.8846\n",
      "Epoch 13/30\n",
      "14072/14072 [==============================] - 314s 22ms/step - loss: 0.2711 - acc: 0.8861 - val_loss: 0.2652 - val_acc: 0.8885\n",
      "Epoch 14/30\n",
      "14072/14072 [==============================] - 314s 22ms/step - loss: 0.2660 - acc: 0.8882 - val_loss: 0.2622 - val_acc: 0.8899\n",
      "Epoch 15/30\n",
      "14072/14072 [==============================] - 313s 22ms/step - loss: 0.2620 - acc: 0.8902 - val_loss: 0.2560 - val_acc: 0.8908\n",
      "Epoch 16/30\n",
      "14072/14072 [==============================] - 313s 22ms/step - loss: 0.2590 - acc: 0.8915 - val_loss: 0.2552 - val_acc: 0.8921\n",
      "Epoch 17/30\n",
      "14072/14072 [==============================] - 313s 22ms/step - loss: 0.2564 - acc: 0.8924 - val_loss: 0.2514 - val_acc: 0.8936\n",
      "Epoch 18/30\n",
      "14072/14072 [==============================] - 312s 22ms/step - loss: 0.2514 - acc: 0.8948 - val_loss: 0.2506 - val_acc: 0.8950\n",
      "Epoch 19/30\n",
      "14072/14072 [==============================] - 313s 22ms/step - loss: 0.2471 - acc: 0.8963 - val_loss: 0.2471 - val_acc: 0.8963\n",
      "Epoch 20/30\n",
      "14072/14072 [==============================] - 312s 22ms/step - loss: 0.2434 - acc: 0.8975 - val_loss: 0.2462 - val_acc: 0.8969\n",
      "Epoch 21/30\n",
      "14072/14072 [==============================] - 311s 22ms/step - loss: 0.2425 - acc: 0.8987 - val_loss: 0.2486 - val_acc: 0.8948\n",
      "Epoch 22/30\n",
      "14072/14072 [==============================] - 314s 22ms/step - loss: 0.2391 - acc: 0.8997 - val_loss: 0.2458 - val_acc: 0.8985\n",
      "Epoch 23/30\n",
      "14072/14072 [==============================] - 313s 22ms/step - loss: 0.2360 - acc: 0.9008 - val_loss: 0.2408 - val_acc: 0.8991\n",
      "Epoch 24/30\n",
      "14072/14072 [==============================] - 313s 22ms/step - loss: 0.2328 - acc: 0.9023 - val_loss: 0.2373 - val_acc: 0.9016\n",
      "Epoch 25/30\n",
      "14072/14072 [==============================] - 314s 22ms/step - loss: 0.2322 - acc: 0.9026 - val_loss: 0.2401 - val_acc: 0.9006\n",
      "Epoch 26/30\n",
      "14072/14072 [==============================] - 312s 22ms/step - loss: 0.2291 - acc: 0.9039 - val_loss: 0.2408 - val_acc: 0.9002\n",
      "Epoch 27/30\n",
      "14072/14072 [==============================] - 313s 22ms/step - loss: 0.2259 - acc: 0.9058 - val_loss: 0.2350 - val_acc: 0.9027\n",
      "Epoch 28/30\n",
      "14072/14072 [==============================] - 313s 22ms/step - loss: 0.2254 - acc: 0.9054 - val_loss: 0.2349 - val_acc: 0.9020\n",
      "Epoch 29/30\n",
      "14072/14072 [==============================] - 314s 22ms/step - loss: 0.2215 - acc: 0.9065 - val_loss: 0.2391 - val_acc: 0.9010\n",
      "Epoch 30/30\n",
      "14072/14072 [==============================] - 313s 22ms/step - loss: 0.2185 - acc: 0.9081 - val_loss: 0.2365 - val_acc: 0.9016\n"
     ]
    }
   ],
   "source": [
    "history = model.fit(X_train, y_train, batch_size=128, epochs=30, verbose=1,validation_data=(X_test,y_test),callbacks=[es])"
   ]
  },
  {
   "cell_type": "code",
   "execution_count": 0,
   "metadata": {
    "colab": {
     "base_uri": "https://localhost:8080/",
     "height": 51
    },
    "colab_type": "code",
    "id": "IPLNrdoRRESk",
    "outputId": "bf42d0a2-74fc-48e3-c208-eebc2de0f33a"
   },
   "outputs": [
    {
     "name": "stdout",
     "output_type": "stream",
     "text": [
      "3519/3519 [==============================] - 104s 30ms/step\n"
     ]
    },
    {
     "data": {
      "text/plain": [
       "[0.236531732696537, 0.9016097620083006]"
      ]
     },
     "execution_count": 22,
     "metadata": {
      "tags": []
     },
     "output_type": "execute_result"
    }
   ],
   "source": [
    "model.evaluate(X_test, y_test, verbose=1)"
   ]
  },
  {
   "cell_type": "code",
   "execution_count": 0,
   "metadata": {
    "colab": {
     "base_uri": "https://localhost:8080/",
     "height": 34
    },
    "colab_type": "code",
    "id": "8ftS_xAmVBDD",
    "outputId": "5933916b-f3db-4afe-8154-6ac3cb9f00b0"
   },
   "outputs": [
    {
     "data": {
      "text/plain": [
       "['/content/drive/My Drive/conv-lstm.sav']"
      ]
     },
     "execution_count": 61,
     "metadata": {
      "tags": []
     },
     "output_type": "execute_result"
    }
   ],
   "source": [
    "from sklearn.externals import joblib\n",
    "# save the model to disk\n",
    "filename = 'conv-lstm.sav'\n",
    "joblib.dump(model, filename)"
   ]
  },
  {
   "cell_type": "code",
   "execution_count": 0,
   "metadata": {
    "colab": {},
    "colab_type": "code",
    "id": "gNmKC1j7zOgN"
   },
   "outputs": [],
   "source": [
    "model = joblib.load('conv-lstm.sav')"
   ]
  },
  {
   "cell_type": "code",
   "execution_count": 0,
   "metadata": {
    "colab": {},
    "colab_type": "code",
    "id": "LXCnKx1SJTQq"
   },
   "outputs": [],
   "source": [
    "out_arr = model.predict(X_test)"
   ]
  },
  {
   "cell_type": "code",
   "execution_count": 0,
   "metadata": {
    "colab": {},
    "colab_type": "code",
    "id": "-EYjDBUuVPry"
   },
   "outputs": [],
   "source": [
    "def retrieve_genre(arr):\n",
    "  plot_str = ''\n",
    "  for i in range(len(arr)):\n",
    "    if(arr[i]==1):\n",
    "      plot_str = plot_str+' | '+y_df.columns[i]\n",
    "  return plot_str.lstrip(' | ')"
   ]
  },
  {
   "cell_type": "code",
   "execution_count": 0,
   "metadata": {
    "colab": {},
    "colab_type": "code",
    "id": "895XavcIJzwb"
   },
   "outputs": [],
   "source": [
    "def get_prediction(k):\n",
    "  pred_arr = []\n",
    "  for i in out_arr[k]:\n",
    "    if(i>0.5):\n",
    "      pred_arr.append(1)\n",
    "    else:\n",
    "      pred_arr.append(0)\n",
    "  return pred_arr"
   ]
  },
  {
   "cell_type": "code",
   "execution_count": 0,
   "metadata": {
    "colab": {},
    "colab_type": "code",
    "id": "y9gfl3qjWCNO"
   },
   "outputs": [],
   "source": [
    "df = pd.DataFrame(columns=['Original Genre','Predicted Genre'])"
   ]
  },
  {
   "cell_type": "code",
   "execution_count": 0,
   "metadata": {
    "colab": {},
    "colab_type": "code",
    "id": "vXq-xJQbWYH9"
   },
   "outputs": [],
   "source": [
    "## Predicted Genres"
   ]
  },
  {
   "cell_type": "code",
   "execution_count": 68,
   "metadata": {
    "colab": {
     "base_uri": "https://localhost:8080/",
     "height": 1000
    },
    "colab_type": "code",
    "id": "hqceHSRJJ4ZL",
    "outputId": "3dc8c77e-03ef-4545-c0d1-4644267c6e42"
   },
   "outputs": [
    {
     "data": {
      "text/html": [
       "<div>\n",
       "<style scoped>\n",
       "    .dataframe tbody tr th:only-of-type {\n",
       "        vertical-align: middle;\n",
       "    }\n",
       "\n",
       "    .dataframe tbody tr th {\n",
       "        vertical-align: top;\n",
       "    }\n",
       "\n",
       "    .dataframe thead th {\n",
       "        text-align: right;\n",
       "    }\n",
       "</style>\n",
       "<table border=\"1\" class=\"dataframe\">\n",
       "  <thead>\n",
       "    <tr style=\"text-align: right;\">\n",
       "      <th></th>\n",
       "      <th>Original Genre</th>\n",
       "      <th>Predicted Genre</th>\n",
       "      <th>title</th>\n",
       "    </tr>\n",
       "  </thead>\n",
       "  <tbody>\n",
       "    <tr>\n",
       "      <th>0</th>\n",
       "      <td>Comedy</td>\n",
       "      <td>Comedy</td>\n",
       "      <td>First Beautiful Thing, The (La prima cosa bell...</td>\n",
       "    </tr>\n",
       "    <tr>\n",
       "      <th>1</th>\n",
       "      <td>Drama</td>\n",
       "      <td>Comedy | Drama</td>\n",
       "      <td>Terms of Endearment (1983)</td>\n",
       "    </tr>\n",
       "    <tr>\n",
       "      <th>2</th>\n",
       "      <td>Romance</td>\n",
       "      <td>Comedy | Drama</td>\n",
       "      <td>Skeleton Crew (2009)</td>\n",
       "    </tr>\n",
       "    <tr>\n",
       "      <th>3</th>\n",
       "      <td>Comedy</td>\n",
       "      <td>Comedy | Romance | Drama</td>\n",
       "      <td>Easy Come, Easy Go (1967)</td>\n",
       "    </tr>\n",
       "    <tr>\n",
       "      <th>4</th>\n",
       "      <td>Drama</td>\n",
       "      <td>Drama</td>\n",
       "      <td>Head-On (Gegen die Wand) (2004)</td>\n",
       "    </tr>\n",
       "    <tr>\n",
       "      <th>5</th>\n",
       "      <td>Romance | Sci-Fi</td>\n",
       "      <td>Comedy | Action</td>\n",
       "      <td>Day of Wrath (Vredens dag) (1943)</td>\n",
       "    </tr>\n",
       "    <tr>\n",
       "      <th>6</th>\n",
       "      <td>Animation | Sci-Fi</td>\n",
       "      <td>Sci-Fi</td>\n",
       "      <td>Fanny and Alexander (Fanny och Alexander) (1982)</td>\n",
       "    </tr>\n",
       "    <tr>\n",
       "      <th>7</th>\n",
       "      <td>Drama</td>\n",
       "      <td>Drama</td>\n",
       "      <td>Little Engine That Could, The (1991)</td>\n",
       "    </tr>\n",
       "    <tr>\n",
       "      <th>8</th>\n",
       "      <td>Adventure | Children | Drama</td>\n",
       "      <td>Comedy | Drama</td>\n",
       "      <td>Slaves of New York (1989)</td>\n",
       "    </tr>\n",
       "    <tr>\n",
       "      <th>9</th>\n",
       "      <td>Children | Comedy</td>\n",
       "      <td>Comedy</td>\n",
       "      <td>Sadist, The (1963)</td>\n",
       "    </tr>\n",
       "    <tr>\n",
       "      <th>10</th>\n",
       "      <td>Action | Thriller | Sci-Fi</td>\n",
       "      <td>Adventure | Action | Sci-Fi</td>\n",
       "      <td>Knight Without Armor (1937)</td>\n",
       "    </tr>\n",
       "    <tr>\n",
       "      <th>11</th>\n",
       "      <td>Drama</td>\n",
       "      <td>Drama | Crime | Thriller</td>\n",
       "      <td>As Good as It Gets (1997)</td>\n",
       "    </tr>\n",
       "    <tr>\n",
       "      <th>12</th>\n",
       "      <td>Comedy | Drama</td>\n",
       "      <td>Comedy</td>\n",
       "      <td>Fiorile (1993)</td>\n",
       "    </tr>\n",
       "    <tr>\n",
       "      <th>13</th>\n",
       "      <td>Crime</td>\n",
       "      <td>Drama</td>\n",
       "      <td>Brassed Off (1996)</td>\n",
       "    </tr>\n",
       "    <tr>\n",
       "      <th>14</th>\n",
       "      <td>Thriller | Horror | Mystery</td>\n",
       "      <td>Thriller | Horror</td>\n",
       "      <td>Kid Cannabis (2014)</td>\n",
       "    </tr>\n",
       "    <tr>\n",
       "      <th>15</th>\n",
       "      <td>Adventure | Romance | Drama</td>\n",
       "      <td>Drama</td>\n",
       "      <td>100 Girls (2000)</td>\n",
       "    </tr>\n",
       "    <tr>\n",
       "      <th>16</th>\n",
       "      <td>Drama | Horror</td>\n",
       "      <td>Drama</td>\n",
       "      <td>Art of War III: Retribution, The (2009)</td>\n",
       "    </tr>\n",
       "    <tr>\n",
       "      <th>17</th>\n",
       "      <td>Drama</td>\n",
       "      <td>Drama</td>\n",
       "      <td>Dollman (1991)</td>\n",
       "    </tr>\n",
       "    <tr>\n",
       "      <th>18</th>\n",
       "      <td>Comedy | Drama</td>\n",
       "      <td>Comedy | Drama</td>\n",
       "      <td>Love &amp; Sex (2000)</td>\n",
       "    </tr>\n",
       "    <tr>\n",
       "      <th>19</th>\n",
       "      <td>Romance | Drama | Action | Thriller</td>\n",
       "      <td>Drama</td>\n",
       "      <td>Eye of the Needle (1981)</td>\n",
       "    </tr>\n",
       "    <tr>\n",
       "      <th>20</th>\n",
       "      <td>Comedy</td>\n",
       "      <td>Drama</td>\n",
       "      <td>Marrying Man, The (Too Hot to Handle) (1991)</td>\n",
       "    </tr>\n",
       "    <tr>\n",
       "      <th>21</th>\n",
       "      <td>Drama | War</td>\n",
       "      <td>Drama</td>\n",
       "      <td>The Forbidden Room (2015)</td>\n",
       "    </tr>\n",
       "    <tr>\n",
       "      <th>22</th>\n",
       "      <td>Comedy | Musical</td>\n",
       "      <td>Comedy</td>\n",
       "      <td>Waiting Women (Kvinnors väntan) (1952)</td>\n",
       "    </tr>\n",
       "    <tr>\n",
       "      <th>23</th>\n",
       "      <td>Adventure | Children | Fantasy | Thriller | Sc...</td>\n",
       "      <td></td>\n",
       "      <td>Falling in Love (1984)</td>\n",
       "    </tr>\n",
       "    <tr>\n",
       "      <th>24</th>\n",
       "      <td>Adventure | Drama</td>\n",
       "      <td>Crime</td>\n",
       "      <td>Set-Up, The (1949)</td>\n",
       "    </tr>\n",
       "    <tr>\n",
       "      <th>25</th>\n",
       "      <td>Comedy | Musical</td>\n",
       "      <td>Comedy</td>\n",
       "      <td>Sheena (1984)</td>\n",
       "    </tr>\n",
       "    <tr>\n",
       "      <th>26</th>\n",
       "      <td>Action</td>\n",
       "      <td>Action | Thriller</td>\n",
       "      <td>Elle: A Modern Cinderella Tale (2011)</td>\n",
       "    </tr>\n",
       "    <tr>\n",
       "      <th>27</th>\n",
       "      <td>Adventure | Children | Comedy | Musical</td>\n",
       "      <td>Children | Comedy</td>\n",
       "      <td>William Shakespeare's Romeo + Juliet (1996)</td>\n",
       "    </tr>\n",
       "    <tr>\n",
       "      <th>28</th>\n",
       "      <td>Comedy | Drama</td>\n",
       "      <td>Comedy | Drama</td>\n",
       "      <td>Not with My Wife, You Don't! (1966)</td>\n",
       "    </tr>\n",
       "    <tr>\n",
       "      <th>29</th>\n",
       "      <td>Action | Thriller</td>\n",
       "      <td>Crime</td>\n",
       "      <td>Captain Kidd (1945)</td>\n",
       "    </tr>\n",
       "    <tr>\n",
       "      <th>30</th>\n",
       "      <td>Thriller | Horror</td>\n",
       "      <td>Horror</td>\n",
       "      <td>Dirty Dancing: Havana Nights (2004)</td>\n",
       "    </tr>\n",
       "    <tr>\n",
       "      <th>31</th>\n",
       "      <td>Drama</td>\n",
       "      <td>Drama</td>\n",
       "      <td>Restless (2011)</td>\n",
       "    </tr>\n",
       "    <tr>\n",
       "      <th>32</th>\n",
       "      <td>Drama | Action</td>\n",
       "      <td></td>\n",
       "      <td>Operation Endgame (2010)</td>\n",
       "    </tr>\n",
       "    <tr>\n",
       "      <th>33</th>\n",
       "      <td>Drama | Crime</td>\n",
       "      <td>Drama</td>\n",
       "      <td>Bran Nue Dae (2009)</td>\n",
       "    </tr>\n",
       "    <tr>\n",
       "      <th>34</th>\n",
       "      <td>Comedy</td>\n",
       "      <td>Comedy</td>\n",
       "      <td>Black Dawn (2005)</td>\n",
       "    </tr>\n",
       "    <tr>\n",
       "      <th>35</th>\n",
       "      <td>Animation | Drama | Action | War</td>\n",
       "      <td></td>\n",
       "      <td>Paris When It Sizzles (1964)</td>\n",
       "    </tr>\n",
       "    <tr>\n",
       "      <th>36</th>\n",
       "      <td>Adventure | Action | Sci-Fi</td>\n",
       "      <td>Adventure | Action</td>\n",
       "      <td>Seven (a.k.a. Se7en) (1995)</td>\n",
       "    </tr>\n",
       "    <tr>\n",
       "      <th>37</th>\n",
       "      <td>Romance | Drama</td>\n",
       "      <td>Drama</td>\n",
       "      <td>Malaya (1949)</td>\n",
       "    </tr>\n",
       "    <tr>\n",
       "      <th>38</th>\n",
       "      <td>Sci-Fi</td>\n",
       "      <td>Comedy</td>\n",
       "      <td>Devil, The (Diabel) (1972)</td>\n",
       "    </tr>\n",
       "    <tr>\n",
       "      <th>39</th>\n",
       "      <td>Adventure | Comedy</td>\n",
       "      <td>Comedy</td>\n",
       "      <td>Not on the Lips (Pas sur la bouche) (2003)</td>\n",
       "    </tr>\n",
       "    <tr>\n",
       "      <th>40</th>\n",
       "      <td>Crime | Thriller | Mystery | Film-Noir</td>\n",
       "      <td>Drama | Crime | Thriller</td>\n",
       "      <td>Night of the Lepus (1972)</td>\n",
       "    </tr>\n",
       "    <tr>\n",
       "      <th>41</th>\n",
       "      <td>Adventure | Comedy | Romance | Horror</td>\n",
       "      <td>Horror</td>\n",
       "      <td>Pyaar Ka Punchnama (2011)</td>\n",
       "    </tr>\n",
       "    <tr>\n",
       "      <th>42</th>\n",
       "      <td>Children | Comedy | Musical</td>\n",
       "      <td>Comedy</td>\n",
       "      <td>Shrek 2 (2004)</td>\n",
       "    </tr>\n",
       "    <tr>\n",
       "      <th>43</th>\n",
       "      <td>Comedy</td>\n",
       "      <td>Drama</td>\n",
       "      <td>Legal Eagles (1986)</td>\n",
       "    </tr>\n",
       "    <tr>\n",
       "      <th>44</th>\n",
       "      <td>Adventure | Comedy | Action | Crime</td>\n",
       "      <td></td>\n",
       "      <td>Peculiarities of the National Hunt (Osobennost...</td>\n",
       "    </tr>\n",
       "    <tr>\n",
       "      <th>45</th>\n",
       "      <td>Drama</td>\n",
       "      <td>Comedy</td>\n",
       "      <td>Turks &amp; Caicos (2014)</td>\n",
       "    </tr>\n",
       "    <tr>\n",
       "      <th>46</th>\n",
       "      <td>Drama | Action | Crime | Thriller</td>\n",
       "      <td>Drama | Crime</td>\n",
       "      <td>Baxter, The (2005)</td>\n",
       "    </tr>\n",
       "    <tr>\n",
       "      <th>47</th>\n",
       "      <td>Action</td>\n",
       "      <td>Action | Thriller</td>\n",
       "      <td>Pitfall (Otoshiana) (1962)</td>\n",
       "    </tr>\n",
       "    <tr>\n",
       "      <th>48</th>\n",
       "      <td>Drama</td>\n",
       "      <td>Drama</td>\n",
       "      <td>Mr. &amp; Mrs. Smith (1941)</td>\n",
       "    </tr>\n",
       "    <tr>\n",
       "      <th>49</th>\n",
       "      <td>Animation | Children | Comedy</td>\n",
       "      <td>Children | Comedy</td>\n",
       "      <td>5,000 Fingers of Dr. T, The (1953)</td>\n",
       "    </tr>\n",
       "  </tbody>\n",
       "</table>\n",
       "</div>"
      ],
      "text/plain": [
       "                                       Original Genre  ...                                              title\n",
       "0                                              Comedy  ...  First Beautiful Thing, The (La prima cosa bell...\n",
       "1                                               Drama  ...                         Terms of Endearment (1983)\n",
       "2                                             Romance  ...                               Skeleton Crew (2009)\n",
       "3                                              Comedy  ...                          Easy Come, Easy Go (1967)\n",
       "4                                               Drama  ...                    Head-On (Gegen die Wand) (2004)\n",
       "5                                    Romance | Sci-Fi  ...                  Day of Wrath (Vredens dag) (1943)\n",
       "6                                  Animation | Sci-Fi  ...   Fanny and Alexander (Fanny och Alexander) (1982)\n",
       "7                                               Drama  ...               Little Engine That Could, The (1991)\n",
       "8                        Adventure | Children | Drama  ...                          Slaves of New York (1989)\n",
       "9                                   Children | Comedy  ...                                 Sadist, The (1963)\n",
       "10                         Action | Thriller | Sci-Fi  ...                        Knight Without Armor (1937)\n",
       "11                                              Drama  ...                          As Good as It Gets (1997)\n",
       "12                                     Comedy | Drama  ...                                     Fiorile (1993)\n",
       "13                                              Crime  ...                                 Brassed Off (1996)\n",
       "14                        Thriller | Horror | Mystery  ...                                Kid Cannabis (2014)\n",
       "15                        Adventure | Romance | Drama  ...                                   100 Girls (2000)\n",
       "16                                     Drama | Horror  ...            Art of War III: Retribution, The (2009)\n",
       "17                                              Drama  ...                                     Dollman (1991)\n",
       "18                                     Comedy | Drama  ...                                  Love & Sex (2000)\n",
       "19                Romance | Drama | Action | Thriller  ...                           Eye of the Needle (1981)\n",
       "20                                             Comedy  ...       Marrying Man, The (Too Hot to Handle) (1991)\n",
       "21                                        Drama | War  ...                          The Forbidden Room (2015)\n",
       "22                                   Comedy | Musical  ...             Waiting Women (Kvinnors väntan) (1952)\n",
       "23  Adventure | Children | Fantasy | Thriller | Sc...  ...                             Falling in Love (1984)\n",
       "24                                  Adventure | Drama  ...                                 Set-Up, The (1949)\n",
       "25                                   Comedy | Musical  ...                                      Sheena (1984)\n",
       "26                                             Action  ...              Elle: A Modern Cinderella Tale (2011)\n",
       "27            Adventure | Children | Comedy | Musical  ...        William Shakespeare's Romeo + Juliet (1996)\n",
       "28                                     Comedy | Drama  ...                Not with My Wife, You Don't! (1966)\n",
       "29                                  Action | Thriller  ...                                Captain Kidd (1945)\n",
       "30                                  Thriller | Horror  ...                Dirty Dancing: Havana Nights (2004)\n",
       "31                                              Drama  ...                                    Restless (2011)\n",
       "32                                     Drama | Action  ...                           Operation Endgame (2010)\n",
       "33                                      Drama | Crime  ...                                Bran Nue Dae (2009)\n",
       "34                                             Comedy  ...                                  Black Dawn (2005)\n",
       "35                   Animation | Drama | Action | War  ...                       Paris When It Sizzles (1964)\n",
       "36                        Adventure | Action | Sci-Fi  ...                        Seven (a.k.a. Se7en) (1995)\n",
       "37                                    Romance | Drama  ...                                      Malaya (1949)\n",
       "38                                             Sci-Fi  ...                         Devil, The (Diabel) (1972)\n",
       "39                                 Adventure | Comedy  ...         Not on the Lips (Pas sur la bouche) (2003)\n",
       "40             Crime | Thriller | Mystery | Film-Noir  ...                          Night of the Lepus (1972)\n",
       "41              Adventure | Comedy | Romance | Horror  ...                          Pyaar Ka Punchnama (2011)\n",
       "42                        Children | Comedy | Musical  ...                                     Shrek 2 (2004)\n",
       "43                                             Comedy  ...                                Legal Eagles (1986)\n",
       "44                Adventure | Comedy | Action | Crime  ...  Peculiarities of the National Hunt (Osobennost...\n",
       "45                                              Drama  ...                              Turks & Caicos (2014)\n",
       "46                  Drama | Action | Crime | Thriller  ...                                 Baxter, The (2005)\n",
       "47                                             Action  ...                         Pitfall (Otoshiana) (1962)\n",
       "48                                              Drama  ...                            Mr. & Mrs. Smith (1941)\n",
       "49                      Animation | Children | Comedy  ...                 5,000 Fingers of Dr. T, The (1953)\n",
       "\n",
       "[50 rows x 3 columns]"
      ]
     },
     "execution_count": 68,
     "metadata": {
      "tags": []
     },
     "output_type": "execute_result"
    }
   ],
   "source": [
    "for i in range(50):\n",
    "  ori_gen = retrieve_genre(y_test[i])\n",
    "  pred_gen = get_prediction(i)\n",
    "  pred_gen = retrieve_genre(pred_gen)\n",
    "  df.loc[i] = [ori_gen,pred_gen]\n",
    "titl = list(X_train1['title'].head(50).values)\n",
    "df['title'] = list(titl)\n",
    "df"
   ]
  },
  {
   "cell_type": "markdown",
   "metadata": {
    "colab_type": "text",
    "id": "hwaCGo3tXjzY"
   },
   "source": [
    "**These Are not too bad results**"
   ]
  },
  {
   "cell_type": "markdown",
   "metadata": {
    "colab_type": "text",
    "id": "Ug0lXZiszu3w"
   },
   "source": [
    "### **Using Glove Vectors**\n",
    "\n",
    "Glove Used : Common Crawl (840B tokens, 2.2M vocab, cased, 300d vectors, 2.03 GB) "
   ]
  },
  {
   "cell_type": "code",
   "execution_count": 7,
   "metadata": {
    "colab": {
     "base_uri": "https://localhost:8080/",
     "height": 357
    },
    "colab_type": "code",
    "id": "2PnRJNr_S0Oh",
    "outputId": "608497ca-ba2a-4c27-816a-b4cb0163eaa0"
   },
   "outputs": [
    {
     "name": "stdout",
     "output_type": "stream",
     "text": [
      "--2019-10-09 17:32:13--  http://nlp.stanford.edu/data/wordvecs/glove.840B.300d.zip\n",
      "Resolving nlp.stanford.edu (nlp.stanford.edu)... 171.64.67.140\n",
      "Connecting to nlp.stanford.edu (nlp.stanford.edu)|171.64.67.140|:80... connected.\n",
      "HTTP request sent, awaiting response... 302 Found\n",
      "Location: https://nlp.stanford.edu/data/wordvecs/glove.840B.300d.zip [following]\n",
      "--2019-10-09 17:32:13--  https://nlp.stanford.edu/data/wordvecs/glove.840B.300d.zip\n",
      "Connecting to nlp.stanford.edu (nlp.stanford.edu)|171.64.67.140|:443... connected.\n",
      "HTTP request sent, awaiting response... 301 Moved Permanently\n",
      "Location: http://downloads.cs.stanford.edu/nlp/data/wordvecs/glove.840B.300d.zip [following]\n",
      "--2019-10-09 17:32:13--  http://downloads.cs.stanford.edu/nlp/data/wordvecs/glove.840B.300d.zip\n",
      "Resolving downloads.cs.stanford.edu (downloads.cs.stanford.edu)... 171.64.64.22\n",
      "Connecting to downloads.cs.stanford.edu (downloads.cs.stanford.edu)|171.64.64.22|:80... connected.\n",
      "HTTP request sent, awaiting response... 200 OK\n",
      "Length: 2176768976 (2.0G) [application/zip]\n",
      "Saving to: ‘glove.840B.300d.zip’\n",
      "\n",
      "glove.840B.300d.zip 100%[===================>]   2.03G  45.3MB/s    in 40s     \n",
      "\n",
      "2019-10-09 17:32:53 (52.2 MB/s) - ‘glove.840B.300d.zip’ saved [2176768976/2176768976]\n",
      "\n"
     ]
    }
   ],
   "source": [
    "!wget --no-check-certificate http://nlp.stanford.edu/data/wordvecs/glove.840B.300d.zip"
   ]
  },
  {
   "cell_type": "code",
   "execution_count": 8,
   "metadata": {
    "colab": {
     "base_uri": "https://localhost:8080/",
     "height": 51
    },
    "colab_type": "code",
    "id": "Ie8AsA6FUuo5",
    "outputId": "2cf2715b-af60-4bb9-8e9c-62a48f322378"
   },
   "outputs": [
    {
     "name": "stdout",
     "output_type": "stream",
     "text": [
      "Archive:  glove.840B.300d.zip\n",
      "  inflating: glove.840B.300d.txt     \n"
     ]
    }
   ],
   "source": [
    "!unzip glove.840B.300d.zip\n"
   ]
  },
  {
   "cell_type": "code",
   "execution_count": 0,
   "metadata": {
    "colab": {},
    "colab_type": "code",
    "id": "hHY50Yqh1rbm"
   },
   "outputs": [],
   "source": [
    "from sklearn.model_selection import train_test_split\n",
    "X_train1, X_test1, y_train, y_test = train_test_split(X, y, test_size=0.20, random_state=42)"
   ]
  },
  {
   "cell_type": "code",
   "execution_count": 0,
   "metadata": {
    "colab": {},
    "colab_type": "code",
    "id": "igHo9VX1E1pJ"
   },
   "outputs": [],
   "source": [
    "X_train = X_train1['clean_plot']\n",
    "X_test = X_test1['clean_plot']"
   ]
  },
  {
   "cell_type": "code",
   "execution_count": 0,
   "metadata": {
    "colab": {},
    "colab_type": "code",
    "id": "sJP8oEA11uxM"
   },
   "outputs": [],
   "source": [
    "from keras.preprocessing.text import Tokenizer\n",
    "from keras.preprocessing.sequence import pad_sequences\n",
    "\n",
    "MAX_NB_WORDS = 200000\n",
    "\n",
    "tokenizer = Tokenizer(num_words=MAX_NB_WORDS)\n",
    "tokenizer.fit_on_texts(X_train)\n",
    "X_train = tokenizer.texts_to_sequences(X_train)\n",
    "X_test = tokenizer.texts_to_sequences(X_test)\n",
    "vocab_size = len(tokenizer.word_index) + 1\n",
    "\n",
    "maxlen = 300\n",
    "\n",
    "X_train = pad_sequences(X_train, padding='post', maxlen=maxlen)\n",
    "X_test = pad_sequences(X_test, padding='post', maxlen=maxlen)"
   ]
  },
  {
   "cell_type": "code",
   "execution_count": 73,
   "metadata": {
    "colab": {
     "base_uri": "https://localhost:8080/",
     "height": 34
    },
    "colab_type": "code",
    "id": "WePMiSci4SWT",
    "outputId": "7029dbdb-a641-423c-c01f-0e151a41a003"
   },
   "outputs": [
    {
     "name": "stdout",
     "output_type": "stream",
     "text": [
      "Found 110777 unique tokens\n"
     ]
    }
   ],
   "source": [
    "word_index = tokenizer.word_index\n",
    "print('Found %s unique tokens' % len(word_index))"
   ]
  },
  {
   "cell_type": "code",
   "execution_count": 0,
   "metadata": {
    "colab": {},
    "colab_type": "code",
    "id": "FkTPCJ0V4XdF"
   },
   "outputs": [],
   "source": [
    "from numpy import array\n",
    "from numpy import asarray\n",
    "from numpy import zeros\n",
    "\n",
    "embeddings_dictionary = dict()\n",
    "\n",
    "glove_file = open('glove.840B.300d.txt', encoding=\"utf8\")\n",
    "\n",
    "for line in glove_file:\n",
    "    records = line.split()\n",
    "    word = records[0]\n",
    "    try:\n",
    "      vector_dimensions = asarray(records[1:], dtype='float32')\n",
    "      embeddings_dictionary[word] = vector_dimensions\n",
    "    except:\n",
    "      pass\n",
    "glove_file.close()\n",
    "\n",
    "EMBEDDING_DIM=300\n",
    "nb_words = min(MAX_NB_WORDS, len(word_index))+1\n",
    "\n",
    "\n",
    "embedding_matrix = np.zeros((nb_words, EMBEDDING_DIM))\n",
    "for word, index in tokenizer.word_index.items():\n",
    "    embedding_vector = embeddings_dictionary.get(word)\n",
    "    if embedding_vector is not None:\n",
    "        embedding_matrix[index] = embedding_vector"
   ]
  },
  {
   "cell_type": "code",
   "execution_count": 75,
   "metadata": {
    "colab": {
     "base_uri": "https://localhost:8080/",
     "height": 34
    },
    "colab_type": "code",
    "id": "BU5CJ7hQ7gmE",
    "outputId": "c4204068-d323-488f-d191-e852a3b29b8e"
   },
   "outputs": [
    {
     "data": {
      "text/plain": [
       "(110778, 300)"
      ]
     },
     "execution_count": 75,
     "metadata": {
      "tags": []
     },
     "output_type": "execute_result"
    }
   ],
   "source": [
    "embedding_matrix.shape"
   ]
  },
  {
   "cell_type": "code",
   "execution_count": 0,
   "metadata": {
    "colab": {},
    "colab_type": "code",
    "id": "f_IpS63E7iHD"
   },
   "outputs": [],
   "source": [
    "from keras.models import Model\n",
    "from keras.layers.embeddings import Embedding\n",
    "from keras.models import Sequential\n",
    "from keras.layers.core import Activation, Dropout, Dense\n",
    "from keras.layers import Flatten, LSTM,Bidirectional,Conv1D\n",
    "from keras.layers import Input"
   ]
  },
  {
   "cell_type": "markdown",
   "metadata": {
    "colab_type": "text",
    "id": "NzaVWcqrCrpG"
   },
   "source": [
    "**One-Directional LSTM**"
   ]
  },
  {
   "cell_type": "code",
   "execution_count": 0,
   "metadata": {
    "colab": {
     "base_uri": "https://localhost:8080/",
     "height": 615
    },
    "colab_type": "code",
    "id": "Go2shjfX9pWW",
    "outputId": "e6426473-bf0a-43c8-e9ec-2cc328303008"
   },
   "outputs": [
    {
     "name": "stdout",
     "output_type": "stream",
     "text": [
      "WARNING:tensorflow:From /usr/local/lib/python3.6/dist-packages/keras/backend/tensorflow_backend.py:66: The name tf.get_default_graph is deprecated. Please use tf.compat.v1.get_default_graph instead.\n",
      "\n",
      "WARNING:tensorflow:From /usr/local/lib/python3.6/dist-packages/keras/backend/tensorflow_backend.py:3733: calling dropout (from tensorflow.python.ops.nn_ops) with keep_prob is deprecated and will be removed in a future version.\n",
      "Instructions for updating:\n",
      "Please use `rate` instead of `keep_prob`. Rate should be set to `rate = 1 - keep_prob`.\n",
      "WARNING:tensorflow:From /usr/local/lib/python3.6/dist-packages/keras/optimizers.py:793: The name tf.train.Optimizer is deprecated. Please use tf.compat.v1.train.Optimizer instead.\n",
      "\n",
      "WARNING:tensorflow:From /usr/local/lib/python3.6/dist-packages/tensorflow_core/python/ops/nn_impl.py:183: where (from tensorflow.python.ops.array_ops) is deprecated and will be removed in a future version.\n",
      "Instructions for updating:\n",
      "Use tf.where in 2.0, which has the same broadcast rule as np.where\n",
      "Model: \"model_1\"\n",
      "_________________________________________________________________\n",
      "Layer (type)                 Output Shape              Param #   \n",
      "=================================================================\n",
      "input_1 (InputLayer)         (None, 300)               0         \n",
      "_________________________________________________________________\n",
      "embedding_1 (Embedding)      (None, 300, 300)          33233400  \n",
      "_________________________________________________________________\n",
      "lstm_1 (LSTM)                (None, 300, 256)          570368    \n",
      "_________________________________________________________________\n",
      "lstm_2 (LSTM)                (None, 300, 128)          197120    \n",
      "_________________________________________________________________\n",
      "dropout_1 (Dropout)          (None, 300, 128)          0         \n",
      "_________________________________________________________________\n",
      "flatten_1 (Flatten)          (None, 38400)             0         \n",
      "_________________________________________________________________\n",
      "dense_1 (Dense)              (None, 64)                2457664   \n",
      "_________________________________________________________________\n",
      "dense_2 (Dense)              (None, 17)                1105      \n",
      "=================================================================\n",
      "Total params: 36,459,657\n",
      "Trainable params: 3,226,257\n",
      "Non-trainable params: 33,233,400\n",
      "_________________________________________________________________\n"
     ]
    }
   ],
   "source": [
    "input_layer = Input(shape=(maxlen,))\n",
    "\n",
    "embedding_layer = Embedding(nb_words, EMBEDDING_DIM,input_length=300, weights=[embedding_matrix], trainable=False)(input_layer)\n",
    "\n",
    "lstm1 = LSTM(256,return_sequences=True)(embedding_layer)\n",
    "\n",
    "\n",
    "lstm2 = LSTM(128,return_sequences=True)(lstm1)\n",
    "\n",
    "drop = Dropout(0.2)(lstm2)\n",
    "\n",
    "flat = Flatten()(drop)\n",
    "\n",
    "\n",
    "dense1 = Dense(64, activation='relu')(flat)\n",
    "\n",
    "\n",
    "\n",
    "out_layer = Dense(17, activation='sigmoid')(dense1)\n",
    "\n",
    "model = Model(inputs=input_layer, outputs=out_layer)\n",
    "\n",
    "model.compile(loss='binary_crossentropy', optimizer='adam', metrics=['acc'])\n",
    "model.summary()"
   ]
  },
  {
   "cell_type": "code",
   "execution_count": 0,
   "metadata": {
    "colab": {},
    "colab_type": "code",
    "id": "5FxbL_z19tG2"
   },
   "outputs": [],
   "source": [
    "from keras.callbacks import EarlyStopping\n",
    "es = EarlyStopping(monitor='val_acc', patience=5, mode='max', baseline=None, restore_best_weights=True)"
   ]
  },
  {
   "cell_type": "code",
   "execution_count": 0,
   "metadata": {
    "colab": {
     "base_uri": "https://localhost:8080/",
     "height": 326
    },
    "colab_type": "code",
    "id": "JaRuhUfL9wc2",
    "outputId": "042cdc74-dbf6-4ffd-b421-2027c5f7a4ca"
   },
   "outputs": [
    {
     "name": "stdout",
     "output_type": "stream",
     "text": [
      "Train on 14072 samples, validate on 3519 samples\n",
      "Epoch 1/30\n",
      "14072/14072 [==============================] - 160s 11ms/step - loss: 0.2769 - acc: 0.8884 - val_loss: 0.2275 - val_acc: 0.9057\n",
      "Epoch 2/30\n",
      "14072/14072 [==============================] - 160s 11ms/step - loss: 0.2145 - acc: 0.9112 - val_loss: 0.2180 - val_acc: 0.9086\n",
      "Epoch 3/30\n",
      "14072/14072 [==============================] - 157s 11ms/step - loss: 0.1948 - acc: 0.9195 - val_loss: 0.2129 - val_acc: 0.9115\n",
      "Epoch 4/30\n",
      "14072/14072 [==============================] - 158s 11ms/step - loss: 0.1746 - acc: 0.9280 - val_loss: 0.2185 - val_acc: 0.9104\n",
      "Epoch 5/30\n",
      "14072/14072 [==============================] - 156s 11ms/step - loss: 0.1522 - acc: 0.9377 - val_loss: 0.2347 - val_acc: 0.9062\n",
      "Epoch 6/30\n",
      "14072/14072 [==============================] - 157s 11ms/step - loss: 0.1257 - acc: 0.9490 - val_loss: 0.2512 - val_acc: 0.9049\n",
      "Epoch 7/30\n",
      "14072/14072 [==============================] - 161s 11ms/step - loss: 0.0992 - acc: 0.9614 - val_loss: 0.2790 - val_acc: 0.9040\n",
      "Epoch 8/30\n",
      "14072/14072 [==============================] - 157s 11ms/step - loss: 0.0751 - acc: 0.9719 - val_loss: 0.3128 - val_acc: 0.9016\n"
     ]
    }
   ],
   "source": [
    "history = model.fit(X_train, y_train, batch_size=128, epochs=30, verbose=1,validation_data=(X_test,y_test),callbacks=[es])"
   ]
  },
  {
   "cell_type": "code",
   "execution_count": 0,
   "metadata": {
    "colab": {
     "base_uri": "https://localhost:8080/",
     "height": 51
    },
    "colab_type": "code",
    "id": "e2pOwZYS9zpt",
    "outputId": "bcc3c65e-a552-41a9-a13a-d94260cc7acb"
   },
   "outputs": [
    {
     "name": "stdout",
     "output_type": "stream",
     "text": [
      "3519/3519 [==============================] - 60s 17ms/step\n"
     ]
    },
    {
     "data": {
      "text/plain": [
       "[0.2129051465012872, 0.9115056239362805]"
      ]
     },
     "execution_count": 23,
     "metadata": {
      "tags": []
     },
     "output_type": "execute_result"
    }
   ],
   "source": [
    "model.evaluate(X_test, y_test, verbose=1)"
   ]
  },
  {
   "cell_type": "code",
   "execution_count": 0,
   "metadata": {
    "colab": {
     "base_uri": "https://localhost:8080/",
     "height": 88
    },
    "colab_type": "code",
    "id": "Nh64RlptC2uP",
    "outputId": "aca03302-d498-4d5f-dd8a-60aca75f4325"
   },
   "outputs": [
    {
     "name": "stderr",
     "output_type": "stream",
     "text": [
      "/usr/local/lib/python3.6/dist-packages/sklearn/externals/joblib/__init__.py:15: DeprecationWarning: sklearn.externals.joblib is deprecated in 0.21 and will be removed in 0.23. Please import this functionality directly from joblib, which can be installed with: pip install joblib. If this warning is raised when loading pickled models, you may need to re-serialize those models with scikit-learn 0.21+.\n",
      "  warnings.warn(msg, category=DeprecationWarning)\n"
     ]
    },
    {
     "data": {
      "text/plain": [
       "['/content/drive/My Drive/lstm_glove.sav']"
      ]
     },
     "execution_count": 24,
     "metadata": {
      "tags": []
     },
     "output_type": "execute_result"
    }
   ],
   "source": [
    "from sklearn.externals import joblib\n",
    "# save the model to disk\n",
    "filename = 'lstm_glove.sav'\n",
    "joblib.dump(model, filename)"
   ]
  },
  {
   "cell_type": "code",
   "execution_count": 0,
   "metadata": {
    "colab": {},
    "colab_type": "code",
    "id": "0r_Ck9TyGbIQ"
   },
   "outputs": [],
   "source": [
    "model = joblib.load('lstm_glove.sav')"
   ]
  },
  {
   "cell_type": "code",
   "execution_count": 0,
   "metadata": {
    "colab": {},
    "colab_type": "code",
    "id": "5-9lCoNgC6O1"
   },
   "outputs": [],
   "source": [
    "out_arr = model.predict(X_test)\n",
    "def get_prediction(k):\n",
    "  pred_arr = []\n",
    "  for i in out_arr[k]:\n",
    "    if(i>0.5):\n",
    "      pred_arr.append(1)\n",
    "    else:\n",
    "      pred_arr.append(0)\n",
    "  return pred_arr"
   ]
  },
  {
   "cell_type": "code",
   "execution_count": 0,
   "metadata": {
    "colab": {},
    "colab_type": "code",
    "id": "UvuuKNYyDCEJ"
   },
   "outputs": [],
   "source": [
    "def retrieve_genre(arr):\n",
    "  plot_str = ''\n",
    "  for i in range(len(arr)):\n",
    "    if(arr[i]==1):\n",
    "      plot_str = plot_str+' | '+y_df.columns[i]\n",
    "  return plot_str.lstrip(' | ')"
   ]
  },
  {
   "cell_type": "code",
   "execution_count": 80,
   "metadata": {
    "colab": {
     "base_uri": "https://localhost:8080/",
     "height": 1000
    },
    "colab_type": "code",
    "id": "IXlFtrSaDFom",
    "outputId": "21ab1c52-a776-4582-a86c-8d25b1212417"
   },
   "outputs": [
    {
     "data": {
      "text/html": [
       "<div>\n",
       "<style scoped>\n",
       "    .dataframe tbody tr th:only-of-type {\n",
       "        vertical-align: middle;\n",
       "    }\n",
       "\n",
       "    .dataframe tbody tr th {\n",
       "        vertical-align: top;\n",
       "    }\n",
       "\n",
       "    .dataframe thead th {\n",
       "        text-align: right;\n",
       "    }\n",
       "</style>\n",
       "<table border=\"1\" class=\"dataframe\">\n",
       "  <thead>\n",
       "    <tr style=\"text-align: right;\">\n",
       "      <th></th>\n",
       "      <th>Original Genre</th>\n",
       "      <th>Predicted Genre</th>\n",
       "      <th>title</th>\n",
       "    </tr>\n",
       "  </thead>\n",
       "  <tbody>\n",
       "    <tr>\n",
       "      <th>0</th>\n",
       "      <td>Comedy</td>\n",
       "      <td>Children</td>\n",
       "      <td>First Beautiful Thing, The (La prima cosa bell...</td>\n",
       "    </tr>\n",
       "    <tr>\n",
       "      <th>1</th>\n",
       "      <td>Drama</td>\n",
       "      <td>Drama</td>\n",
       "      <td>Terms of Endearment (1983)</td>\n",
       "    </tr>\n",
       "    <tr>\n",
       "      <th>2</th>\n",
       "      <td>Romance</td>\n",
       "      <td>Drama</td>\n",
       "      <td>Skeleton Crew (2009)</td>\n",
       "    </tr>\n",
       "    <tr>\n",
       "      <th>3</th>\n",
       "      <td>Comedy</td>\n",
       "      <td>Comedy | Romance | Drama</td>\n",
       "      <td>Easy Come, Easy Go (1967)</td>\n",
       "    </tr>\n",
       "    <tr>\n",
       "      <th>4</th>\n",
       "      <td>Drama</td>\n",
       "      <td>Comedy | Romance | Drama</td>\n",
       "      <td>Head-On (Gegen die Wand) (2004)</td>\n",
       "    </tr>\n",
       "    <tr>\n",
       "      <th>5</th>\n",
       "      <td>Romance | Sci-Fi</td>\n",
       "      <td>Action | Sci-Fi</td>\n",
       "      <td>Day of Wrath (Vredens dag) (1943)</td>\n",
       "    </tr>\n",
       "    <tr>\n",
       "      <th>6</th>\n",
       "      <td>Animation | Sci-Fi</td>\n",
       "      <td>Adventure | Sci-Fi</td>\n",
       "      <td>Fanny and Alexander (Fanny och Alexander) (1982)</td>\n",
       "    </tr>\n",
       "    <tr>\n",
       "      <th>7</th>\n",
       "      <td>Drama</td>\n",
       "      <td></td>\n",
       "      <td>Little Engine That Could, The (1991)</td>\n",
       "    </tr>\n",
       "    <tr>\n",
       "      <th>8</th>\n",
       "      <td>Adventure | Children | Drama</td>\n",
       "      <td>Romance | Drama</td>\n",
       "      <td>Slaves of New York (1989)</td>\n",
       "    </tr>\n",
       "    <tr>\n",
       "      <th>9</th>\n",
       "      <td>Children | Comedy</td>\n",
       "      <td>Comedy | Romance</td>\n",
       "      <td>Sadist, The (1963)</td>\n",
       "    </tr>\n",
       "    <tr>\n",
       "      <th>10</th>\n",
       "      <td>Action | Thriller | Sci-Fi</td>\n",
       "      <td>Adventure | Action | Sci-Fi</td>\n",
       "      <td>Knight Without Armor (1937)</td>\n",
       "    </tr>\n",
       "    <tr>\n",
       "      <th>11</th>\n",
       "      <td>Drama</td>\n",
       "      <td>Drama | Thriller</td>\n",
       "      <td>As Good as It Gets (1997)</td>\n",
       "    </tr>\n",
       "    <tr>\n",
       "      <th>12</th>\n",
       "      <td>Comedy | Drama</td>\n",
       "      <td>Comedy | Drama</td>\n",
       "      <td>Fiorile (1993)</td>\n",
       "    </tr>\n",
       "    <tr>\n",
       "      <th>13</th>\n",
       "      <td>Crime</td>\n",
       "      <td>Drama</td>\n",
       "      <td>Brassed Off (1996)</td>\n",
       "    </tr>\n",
       "    <tr>\n",
       "      <th>14</th>\n",
       "      <td>Thriller | Horror | Mystery</td>\n",
       "      <td>Thriller</td>\n",
       "      <td>Kid Cannabis (2014)</td>\n",
       "    </tr>\n",
       "    <tr>\n",
       "      <th>15</th>\n",
       "      <td>Adventure | Romance | Drama</td>\n",
       "      <td>Drama</td>\n",
       "      <td>100 Girls (2000)</td>\n",
       "    </tr>\n",
       "    <tr>\n",
       "      <th>16</th>\n",
       "      <td>Drama | Horror</td>\n",
       "      <td>Drama</td>\n",
       "      <td>Art of War III: Retribution, The (2009)</td>\n",
       "    </tr>\n",
       "    <tr>\n",
       "      <th>17</th>\n",
       "      <td>Drama</td>\n",
       "      <td>Comedy | Drama</td>\n",
       "      <td>Dollman (1991)</td>\n",
       "    </tr>\n",
       "    <tr>\n",
       "      <th>18</th>\n",
       "      <td>Comedy | Drama</td>\n",
       "      <td>Drama</td>\n",
       "      <td>Love &amp; Sex (2000)</td>\n",
       "    </tr>\n",
       "    <tr>\n",
       "      <th>19</th>\n",
       "      <td>Romance | Drama | Action | Thriller</td>\n",
       "      <td>Action</td>\n",
       "      <td>Eye of the Needle (1981)</td>\n",
       "    </tr>\n",
       "    <tr>\n",
       "      <th>20</th>\n",
       "      <td>Comedy</td>\n",
       "      <td>Comedy</td>\n",
       "      <td>Marrying Man, The (Too Hot to Handle) (1991)</td>\n",
       "    </tr>\n",
       "    <tr>\n",
       "      <th>21</th>\n",
       "      <td>Drama | War</td>\n",
       "      <td>Drama | War</td>\n",
       "      <td>The Forbidden Room (2015)</td>\n",
       "    </tr>\n",
       "    <tr>\n",
       "      <th>22</th>\n",
       "      <td>Comedy | Musical</td>\n",
       "      <td>Comedy | Romance | Musical</td>\n",
       "      <td>Waiting Women (Kvinnors väntan) (1952)</td>\n",
       "    </tr>\n",
       "    <tr>\n",
       "      <th>23</th>\n",
       "      <td>Adventure | Children | Fantasy | Thriller | Sc...</td>\n",
       "      <td>Adventure | Action | Sci-Fi</td>\n",
       "      <td>Falling in Love (1984)</td>\n",
       "    </tr>\n",
       "    <tr>\n",
       "      <th>24</th>\n",
       "      <td>Adventure | Drama</td>\n",
       "      <td>Drama</td>\n",
       "      <td>Set-Up, The (1949)</td>\n",
       "    </tr>\n",
       "    <tr>\n",
       "      <th>25</th>\n",
       "      <td>Comedy | Musical</td>\n",
       "      <td>Comedy</td>\n",
       "      <td>Sheena (1984)</td>\n",
       "    </tr>\n",
       "    <tr>\n",
       "      <th>26</th>\n",
       "      <td>Action</td>\n",
       "      <td>Action | Thriller</td>\n",
       "      <td>Elle: A Modern Cinderella Tale (2011)</td>\n",
       "    </tr>\n",
       "    <tr>\n",
       "      <th>27</th>\n",
       "      <td>Adventure | Children | Comedy | Musical</td>\n",
       "      <td>Children | Comedy</td>\n",
       "      <td>William Shakespeare's Romeo + Juliet (1996)</td>\n",
       "    </tr>\n",
       "    <tr>\n",
       "      <th>28</th>\n",
       "      <td>Comedy | Drama</td>\n",
       "      <td>Drama</td>\n",
       "      <td>Not with My Wife, You Don't! (1966)</td>\n",
       "    </tr>\n",
       "    <tr>\n",
       "      <th>29</th>\n",
       "      <td>Action | Thriller</td>\n",
       "      <td>Action</td>\n",
       "      <td>Captain Kidd (1945)</td>\n",
       "    </tr>\n",
       "    <tr>\n",
       "      <th>30</th>\n",
       "      <td>Thriller | Horror</td>\n",
       "      <td>Thriller | Horror</td>\n",
       "      <td>Dirty Dancing: Havana Nights (2004)</td>\n",
       "    </tr>\n",
       "    <tr>\n",
       "      <th>31</th>\n",
       "      <td>Drama</td>\n",
       "      <td>Drama | War</td>\n",
       "      <td>Restless (2011)</td>\n",
       "    </tr>\n",
       "    <tr>\n",
       "      <th>32</th>\n",
       "      <td>Drama | Action</td>\n",
       "      <td>Drama</td>\n",
       "      <td>Operation Endgame (2010)</td>\n",
       "    </tr>\n",
       "    <tr>\n",
       "      <th>33</th>\n",
       "      <td>Drama | Crime</td>\n",
       "      <td>Drama</td>\n",
       "      <td>Bran Nue Dae (2009)</td>\n",
       "    </tr>\n",
       "    <tr>\n",
       "      <th>34</th>\n",
       "      <td>Comedy</td>\n",
       "      <td>Comedy | Musical</td>\n",
       "      <td>Black Dawn (2005)</td>\n",
       "    </tr>\n",
       "    <tr>\n",
       "      <th>35</th>\n",
       "      <td>Animation | Drama | Action | War</td>\n",
       "      <td>Drama | War</td>\n",
       "      <td>Paris When It Sizzles (1964)</td>\n",
       "    </tr>\n",
       "    <tr>\n",
       "      <th>36</th>\n",
       "      <td>Adventure | Action | Sci-Fi</td>\n",
       "      <td>Adventure | Action</td>\n",
       "      <td>Seven (a.k.a. Se7en) (1995)</td>\n",
       "    </tr>\n",
       "    <tr>\n",
       "      <th>37</th>\n",
       "      <td>Romance | Drama</td>\n",
       "      <td>Romance | Drama</td>\n",
       "      <td>Malaya (1949)</td>\n",
       "    </tr>\n",
       "    <tr>\n",
       "      <th>38</th>\n",
       "      <td>Sci-Fi</td>\n",
       "      <td>Drama</td>\n",
       "      <td>Devil, The (Diabel) (1972)</td>\n",
       "    </tr>\n",
       "    <tr>\n",
       "      <th>39</th>\n",
       "      <td>Adventure | Comedy</td>\n",
       "      <td>Drama</td>\n",
       "      <td>Not on the Lips (Pas sur la bouche) (2003)</td>\n",
       "    </tr>\n",
       "    <tr>\n",
       "      <th>40</th>\n",
       "      <td>Crime | Thriller | Mystery | Film-Noir</td>\n",
       "      <td>Crime | Thriller</td>\n",
       "      <td>Night of the Lepus (1972)</td>\n",
       "    </tr>\n",
       "    <tr>\n",
       "      <th>41</th>\n",
       "      <td>Adventure | Comedy | Romance | Horror</td>\n",
       "      <td>Drama</td>\n",
       "      <td>Pyaar Ka Punchnama (2011)</td>\n",
       "    </tr>\n",
       "    <tr>\n",
       "      <th>42</th>\n",
       "      <td>Children | Comedy | Musical</td>\n",
       "      <td>Comedy</td>\n",
       "      <td>Shrek 2 (2004)</td>\n",
       "    </tr>\n",
       "    <tr>\n",
       "      <th>43</th>\n",
       "      <td>Comedy</td>\n",
       "      <td>Drama</td>\n",
       "      <td>Legal Eagles (1986)</td>\n",
       "    </tr>\n",
       "    <tr>\n",
       "      <th>44</th>\n",
       "      <td>Adventure | Comedy | Action | Crime</td>\n",
       "      <td></td>\n",
       "      <td>Peculiarities of the National Hunt (Osobennost...</td>\n",
       "    </tr>\n",
       "    <tr>\n",
       "      <th>45</th>\n",
       "      <td>Drama</td>\n",
       "      <td>Comedy</td>\n",
       "      <td>Turks &amp; Caicos (2014)</td>\n",
       "    </tr>\n",
       "    <tr>\n",
       "      <th>46</th>\n",
       "      <td>Drama | Action | Crime | Thriller</td>\n",
       "      <td>Drama | Action</td>\n",
       "      <td>Baxter, The (2005)</td>\n",
       "    </tr>\n",
       "    <tr>\n",
       "      <th>47</th>\n",
       "      <td>Action</td>\n",
       "      <td>Drama | Action | Thriller</td>\n",
       "      <td>Pitfall (Otoshiana) (1962)</td>\n",
       "    </tr>\n",
       "    <tr>\n",
       "      <th>48</th>\n",
       "      <td>Drama</td>\n",
       "      <td>Drama</td>\n",
       "      <td>Mr. &amp; Mrs. Smith (1941)</td>\n",
       "    </tr>\n",
       "    <tr>\n",
       "      <th>49</th>\n",
       "      <td>Animation | Children | Comedy</td>\n",
       "      <td>Comedy</td>\n",
       "      <td>5,000 Fingers of Dr. T, The (1953)</td>\n",
       "    </tr>\n",
       "  </tbody>\n",
       "</table>\n",
       "</div>"
      ],
      "text/plain": [
       "                                       Original Genre  ...                                              title\n",
       "0                                              Comedy  ...  First Beautiful Thing, The (La prima cosa bell...\n",
       "1                                               Drama  ...                         Terms of Endearment (1983)\n",
       "2                                             Romance  ...                               Skeleton Crew (2009)\n",
       "3                                              Comedy  ...                          Easy Come, Easy Go (1967)\n",
       "4                                               Drama  ...                    Head-On (Gegen die Wand) (2004)\n",
       "5                                    Romance | Sci-Fi  ...                  Day of Wrath (Vredens dag) (1943)\n",
       "6                                  Animation | Sci-Fi  ...   Fanny and Alexander (Fanny och Alexander) (1982)\n",
       "7                                               Drama  ...               Little Engine That Could, The (1991)\n",
       "8                        Adventure | Children | Drama  ...                          Slaves of New York (1989)\n",
       "9                                   Children | Comedy  ...                                 Sadist, The (1963)\n",
       "10                         Action | Thriller | Sci-Fi  ...                        Knight Without Armor (1937)\n",
       "11                                              Drama  ...                          As Good as It Gets (1997)\n",
       "12                                     Comedy | Drama  ...                                     Fiorile (1993)\n",
       "13                                              Crime  ...                                 Brassed Off (1996)\n",
       "14                        Thriller | Horror | Mystery  ...                                Kid Cannabis (2014)\n",
       "15                        Adventure | Romance | Drama  ...                                   100 Girls (2000)\n",
       "16                                     Drama | Horror  ...            Art of War III: Retribution, The (2009)\n",
       "17                                              Drama  ...                                     Dollman (1991)\n",
       "18                                     Comedy | Drama  ...                                  Love & Sex (2000)\n",
       "19                Romance | Drama | Action | Thriller  ...                           Eye of the Needle (1981)\n",
       "20                                             Comedy  ...       Marrying Man, The (Too Hot to Handle) (1991)\n",
       "21                                        Drama | War  ...                          The Forbidden Room (2015)\n",
       "22                                   Comedy | Musical  ...             Waiting Women (Kvinnors väntan) (1952)\n",
       "23  Adventure | Children | Fantasy | Thriller | Sc...  ...                             Falling in Love (1984)\n",
       "24                                  Adventure | Drama  ...                                 Set-Up, The (1949)\n",
       "25                                   Comedy | Musical  ...                                      Sheena (1984)\n",
       "26                                             Action  ...              Elle: A Modern Cinderella Tale (2011)\n",
       "27            Adventure | Children | Comedy | Musical  ...        William Shakespeare's Romeo + Juliet (1996)\n",
       "28                                     Comedy | Drama  ...                Not with My Wife, You Don't! (1966)\n",
       "29                                  Action | Thriller  ...                                Captain Kidd (1945)\n",
       "30                                  Thriller | Horror  ...                Dirty Dancing: Havana Nights (2004)\n",
       "31                                              Drama  ...                                    Restless (2011)\n",
       "32                                     Drama | Action  ...                           Operation Endgame (2010)\n",
       "33                                      Drama | Crime  ...                                Bran Nue Dae (2009)\n",
       "34                                             Comedy  ...                                  Black Dawn (2005)\n",
       "35                   Animation | Drama | Action | War  ...                       Paris When It Sizzles (1964)\n",
       "36                        Adventure | Action | Sci-Fi  ...                        Seven (a.k.a. Se7en) (1995)\n",
       "37                                    Romance | Drama  ...                                      Malaya (1949)\n",
       "38                                             Sci-Fi  ...                         Devil, The (Diabel) (1972)\n",
       "39                                 Adventure | Comedy  ...         Not on the Lips (Pas sur la bouche) (2003)\n",
       "40             Crime | Thriller | Mystery | Film-Noir  ...                          Night of the Lepus (1972)\n",
       "41              Adventure | Comedy | Romance | Horror  ...                          Pyaar Ka Punchnama (2011)\n",
       "42                        Children | Comedy | Musical  ...                                     Shrek 2 (2004)\n",
       "43                                             Comedy  ...                                Legal Eagles (1986)\n",
       "44                Adventure | Comedy | Action | Crime  ...  Peculiarities of the National Hunt (Osobennost...\n",
       "45                                              Drama  ...                              Turks & Caicos (2014)\n",
       "46                  Drama | Action | Crime | Thriller  ...                                 Baxter, The (2005)\n",
       "47                                             Action  ...                         Pitfall (Otoshiana) (1962)\n",
       "48                                              Drama  ...                            Mr. & Mrs. Smith (1941)\n",
       "49                      Animation | Children | Comedy  ...                 5,000 Fingers of Dr. T, The (1953)\n",
       "\n",
       "[50 rows x 3 columns]"
      ]
     },
     "execution_count": 80,
     "metadata": {
      "tags": []
     },
     "output_type": "execute_result"
    }
   ],
   "source": [
    "df = pd.DataFrame(columns=['Original Genre','Predicted Genre'])\n",
    "\n",
    "for i in range(50):\n",
    "  ori_gen = retrieve_genre(y_test[i])\n",
    "  pred_gen = get_prediction(i)\n",
    "  pred_gen = retrieve_genre(pred_gen)\n",
    "  df.loc[i] = [ori_gen,pred_gen]\n",
    "titl = list(X_train1['title'].head(50).values)\n",
    "df['title'] = list(titl)\n",
    "df"
   ]
  },
  {
   "cell_type": "markdown",
   "metadata": {
    "colab_type": "text",
    "id": "KwCbtVczD4Am"
   },
   "source": [
    "**Bi-Directional LSTM**"
   ]
  },
  {
   "cell_type": "code",
   "execution_count": 0,
   "metadata": {
    "colab": {
     "base_uri": "https://localhost:8080/",
     "height": 459
    },
    "colab_type": "code",
    "id": "acFp3W6iDNrC",
    "outputId": "5d4d8997-b16f-4bed-cfd9-272b93ec0b24"
   },
   "outputs": [
    {
     "name": "stdout",
     "output_type": "stream",
     "text": [
      "Model: \"model_2\"\n",
      "_________________________________________________________________\n",
      "Layer (type)                 Output Shape              Param #   \n",
      "=================================================================\n",
      "input_2 (InputLayer)         (None, 300)               0         \n",
      "_________________________________________________________________\n",
      "embedding_2 (Embedding)      (None, 300, 300)          33233400  \n",
      "_________________________________________________________________\n",
      "bidirectional_1 (Bidirection (None, 300, 512)          1140736   \n",
      "_________________________________________________________________\n",
      "bidirectional_2 (Bidirection (None, 300, 256)          656384    \n",
      "_________________________________________________________________\n",
      "bidirectional_3 (Bidirection (None, 300, 128)          164352    \n",
      "_________________________________________________________________\n",
      "flatten_2 (Flatten)          (None, 38400)             0         \n",
      "_________________________________________________________________\n",
      "dense_3 (Dense)              (None, 64)                2457664   \n",
      "_________________________________________________________________\n",
      "dense_4 (Dense)              (None, 32)                2080      \n",
      "_________________________________________________________________\n",
      "dense_5 (Dense)              (None, 17)                561       \n",
      "=================================================================\n",
      "Total params: 37,655,177\n",
      "Trainable params: 4,421,777\n",
      "Non-trainable params: 33,233,400\n",
      "_________________________________________________________________\n"
     ]
    }
   ],
   "source": [
    "input_layer = Input(shape=(maxlen,))\n",
    "\n",
    "embedding_layer = Embedding(nb_words, EMBEDDING_DIM,input_length=300, weights=[embedding_matrix], trainable=False)(input_layer)\n",
    "\n",
    "lstm1 = Bidirectional(LSTM(256,return_sequences=True,kernel_initializer='he_normal'))(embedding_layer)\n",
    "\n",
    "\n",
    "lstm2 = Bidirectional(LSTM(128,return_sequences=True,kernel_initializer='he_normal'))(lstm1)\n",
    "\n",
    "\n",
    "lstm3 = Bidirectional(LSTM(64,return_sequences=True,kernel_initializer='he_normal'))(lstm2)\n",
    "\n",
    "\n",
    "flat = Flatten()(lstm3)\n",
    "\n",
    "\n",
    "dense1 = Dense(64, activation='relu',kernel_initializer='he_normal')(flat)\n",
    "\n",
    "dense2 = Dense(32, activation='relu',kernel_initializer='he_normal')(dense1)\n",
    "\n",
    "\n",
    "out_layer = Dense(17, activation='sigmoid')(dense2)\n",
    "\n",
    "model = Model(inputs=input_layer, outputs=out_layer)\n",
    "\n",
    "model.compile(loss='binary_crossentropy', optimizer='adam', metrics=['acc'])\n",
    "model.summary()"
   ]
  },
  {
   "cell_type": "code",
   "execution_count": 0,
   "metadata": {
    "colab": {},
    "colab_type": "code",
    "id": "hOv7jyqBD60V"
   },
   "outputs": [],
   "source": [
    "from keras.callbacks import EarlyStopping\n",
    "es = EarlyStopping(monitor='val_acc', patience=5, mode='max', baseline=None, restore_best_weights=True)"
   ]
  },
  {
   "cell_type": "code",
   "execution_count": 0,
   "metadata": {
    "colab": {
     "base_uri": "https://localhost:8080/",
     "height": 428
    },
    "colab_type": "code",
    "id": "czKnIwP4EBn1",
    "outputId": "055b2dfb-9cfe-40a9-c72d-32ed0a0c3b5a"
   },
   "outputs": [
    {
     "name": "stdout",
     "output_type": "stream",
     "text": [
      "Train on 14072 samples, validate on 3519 samples\n",
      "Epoch 1/30\n",
      "14072/14072 [==============================] - 500s 36ms/step - loss: 0.4157 - acc: 0.8340 - val_loss: 0.2931 - val_acc: 0.8839\n",
      "Epoch 2/30\n",
      "14072/14072 [==============================] - 492s 35ms/step - loss: 0.2713 - acc: 0.8921 - val_loss: 0.2501 - val_acc: 0.8982\n",
      "Epoch 3/30\n",
      "14072/14072 [==============================] - 489s 35ms/step - loss: 0.2400 - acc: 0.9027 - val_loss: 0.2334 - val_acc: 0.9045\n",
      "Epoch 4/30\n",
      "14072/14072 [==============================] - 492s 35ms/step - loss: 0.2210 - acc: 0.9094 - val_loss: 0.2254 - val_acc: 0.9060\n",
      "Epoch 5/30\n",
      "14072/14072 [==============================] - 493s 35ms/step - loss: 0.2094 - acc: 0.9137 - val_loss: 0.2259 - val_acc: 0.9081\n",
      "Epoch 6/30\n",
      "14072/14072 [==============================] - 490s 35ms/step - loss: 0.1947 - acc: 0.9204 - val_loss: 0.2186 - val_acc: 0.9102\n",
      "Epoch 7/30\n",
      "14072/14072 [==============================] - 495s 35ms/step - loss: 0.1804 - acc: 0.9260 - val_loss: 0.2235 - val_acc: 0.9085\n",
      "Epoch 8/30\n",
      "14072/14072 [==============================] - 486s 35ms/step - loss: 0.1635 - acc: 0.9337 - val_loss: 0.2270 - val_acc: 0.9086\n",
      "Epoch 9/30\n",
      "14072/14072 [==============================] - 483s 34ms/step - loss: 0.1433 - acc: 0.9427 - val_loss: 0.2449 - val_acc: 0.9081\n",
      "Epoch 10/30\n",
      "14072/14072 [==============================] - 489s 35ms/step - loss: 0.1251 - acc: 0.9500 - val_loss: 0.2594 - val_acc: 0.9037\n",
      "Epoch 11/30\n",
      "14072/14072 [==============================] - 486s 35ms/step - loss: 0.1103 - acc: 0.9564 - val_loss: 0.2789 - val_acc: 0.9047\n"
     ]
    }
   ],
   "source": [
    "history = model.fit(X_train, y_train, batch_size=128, epochs=30, verbose=1,validation_data=(X_test,y_test),callbacks=[es])"
   ]
  },
  {
   "cell_type": "code",
   "execution_count": 0,
   "metadata": {
    "colab": {
     "base_uri": "https://localhost:8080/",
     "height": 34
    },
    "colab_type": "code",
    "id": "LTRu35LxEFPL",
    "outputId": "4c870fbd-dcae-4e8a-9f61-f7b7781c75c8"
   },
   "outputs": [
    {
     "data": {
      "text/plain": [
       "['/content/drive/My Drive/bi-lstm_glove.sav']"
      ]
     },
     "execution_count": 31,
     "metadata": {
      "tags": []
     },
     "output_type": "execute_result"
    }
   ],
   "source": [
    "from sklearn.externals import joblib\n",
    "# save the model to disk\n",
    "filename = 'bi-lstm_glove.sav'\n",
    "joblib.dump(model, filename)"
   ]
  },
  {
   "cell_type": "code",
   "execution_count": 0,
   "metadata": {
    "colab": {},
    "colab_type": "code",
    "id": "jjGGWv87HQFm"
   },
   "outputs": [],
   "source": [
    "model = joblib.load('bi-lstm_glove.sav')"
   ]
  },
  {
   "cell_type": "code",
   "execution_count": 0,
   "metadata": {
    "colab": {
     "base_uri": "https://localhost:8080/",
     "height": 51
    },
    "colab_type": "code",
    "id": "egDJB1LcEbrW",
    "outputId": "dafbd2e9-7238-40b7-8168-4e2f154926ad"
   },
   "outputs": [
    {
     "name": "stdout",
     "output_type": "stream",
     "text": [
      "3519/3519 [==============================] - 185s 53ms/step\n"
     ]
    },
    {
     "data": {
      "text/plain": [
       "[0.21855819569575105, 0.9101683435774758]"
      ]
     },
     "execution_count": 32,
     "metadata": {
      "tags": []
     },
     "output_type": "execute_result"
    }
   ],
   "source": [
    "model.evaluate(X_test, y_test, verbose=1)"
   ]
  },
  {
   "cell_type": "code",
   "execution_count": 0,
   "metadata": {
    "colab": {},
    "colab_type": "code",
    "id": "xv7Ai0OfEkI6"
   },
   "outputs": [],
   "source": [
    "out_arr = model.predict(X_test)"
   ]
  },
  {
   "cell_type": "code",
   "execution_count": 0,
   "metadata": {
    "colab": {},
    "colab_type": "code",
    "id": "l4YOv7ObEj9l"
   },
   "outputs": [],
   "source": [
    "def get_prediction(k):\n",
    "  pred_arr = []\n",
    "  for i in out_arr[k]:\n",
    "    if(i>0.5):\n",
    "      pred_arr.append(1)\n",
    "    else:\n",
    "      pred_arr.append(0)\n",
    "  return pred_arr"
   ]
  },
  {
   "cell_type": "code",
   "execution_count": 0,
   "metadata": {
    "colab": {},
    "colab_type": "code",
    "id": "rbR68RSUErvO"
   },
   "outputs": [],
   "source": [
    "def retrieve_genre(arr):\n",
    "  plot_str = ''\n",
    "  for i in range(len(arr)):\n",
    "    if(arr[i]==1):\n",
    "      plot_str = plot_str+' | '+y_df.columns[i]\n",
    "  return plot_str.lstrip(' | ')"
   ]
  },
  {
   "cell_type": "code",
   "execution_count": 85,
   "metadata": {
    "colab": {
     "base_uri": "https://localhost:8080/",
     "height": 1000
    },
    "colab_type": "code",
    "id": "u58u7dkiHNxM",
    "outputId": "7368f25c-4906-4b27-aba8-1f3d98276564"
   },
   "outputs": [
    {
     "data": {
      "text/html": [
       "<div>\n",
       "<style scoped>\n",
       "    .dataframe tbody tr th:only-of-type {\n",
       "        vertical-align: middle;\n",
       "    }\n",
       "\n",
       "    .dataframe tbody tr th {\n",
       "        vertical-align: top;\n",
       "    }\n",
       "\n",
       "    .dataframe thead th {\n",
       "        text-align: right;\n",
       "    }\n",
       "</style>\n",
       "<table border=\"1\" class=\"dataframe\">\n",
       "  <thead>\n",
       "    <tr style=\"text-align: right;\">\n",
       "      <th></th>\n",
       "      <th>Original Genre</th>\n",
       "      <th>Predicted Genre</th>\n",
       "      <th>title</th>\n",
       "    </tr>\n",
       "  </thead>\n",
       "  <tbody>\n",
       "    <tr>\n",
       "      <th>0</th>\n",
       "      <td>Comedy</td>\n",
       "      <td>Adventure | Comedy</td>\n",
       "      <td>First Beautiful Thing, The (La prima cosa bell...</td>\n",
       "    </tr>\n",
       "    <tr>\n",
       "      <th>1</th>\n",
       "      <td>Drama</td>\n",
       "      <td>Animation | Children | Fantasy | Drama</td>\n",
       "      <td>Terms of Endearment (1983)</td>\n",
       "    </tr>\n",
       "    <tr>\n",
       "      <th>2</th>\n",
       "      <td>Romance</td>\n",
       "      <td>Drama</td>\n",
       "      <td>Skeleton Crew (2009)</td>\n",
       "    </tr>\n",
       "    <tr>\n",
       "      <th>3</th>\n",
       "      <td>Comedy</td>\n",
       "      <td>Romance | Drama</td>\n",
       "      <td>Easy Come, Easy Go (1967)</td>\n",
       "    </tr>\n",
       "    <tr>\n",
       "      <th>4</th>\n",
       "      <td>Drama</td>\n",
       "      <td>Romance | Drama</td>\n",
       "      <td>Head-On (Gegen die Wand) (2004)</td>\n",
       "    </tr>\n",
       "    <tr>\n",
       "      <th>5</th>\n",
       "      <td>Romance | Sci-Fi</td>\n",
       "      <td>Sci-Fi</td>\n",
       "      <td>Day of Wrath (Vredens dag) (1943)</td>\n",
       "    </tr>\n",
       "    <tr>\n",
       "      <th>6</th>\n",
       "      <td>Animation | Sci-Fi</td>\n",
       "      <td>Adventure | Sci-Fi</td>\n",
       "      <td>Fanny and Alexander (Fanny och Alexander) (1982)</td>\n",
       "    </tr>\n",
       "    <tr>\n",
       "      <th>7</th>\n",
       "      <td>Drama</td>\n",
       "      <td>Drama</td>\n",
       "      <td>Little Engine That Could, The (1991)</td>\n",
       "    </tr>\n",
       "    <tr>\n",
       "      <th>8</th>\n",
       "      <td>Adventure | Children | Drama</td>\n",
       "      <td>Drama</td>\n",
       "      <td>Slaves of New York (1989)</td>\n",
       "    </tr>\n",
       "    <tr>\n",
       "      <th>9</th>\n",
       "      <td>Children | Comedy</td>\n",
       "      <td>Comedy</td>\n",
       "      <td>Sadist, The (1963)</td>\n",
       "    </tr>\n",
       "    <tr>\n",
       "      <th>10</th>\n",
       "      <td>Action | Thriller | Sci-Fi</td>\n",
       "      <td>Sci-Fi</td>\n",
       "      <td>Knight Without Armor (1937)</td>\n",
       "    </tr>\n",
       "    <tr>\n",
       "      <th>11</th>\n",
       "      <td>Drama</td>\n",
       "      <td>Drama</td>\n",
       "      <td>As Good as It Gets (1997)</td>\n",
       "    </tr>\n",
       "    <tr>\n",
       "      <th>12</th>\n",
       "      <td>Comedy | Drama</td>\n",
       "      <td>Comedy | Drama</td>\n",
       "      <td>Fiorile (1993)</td>\n",
       "    </tr>\n",
       "    <tr>\n",
       "      <th>13</th>\n",
       "      <td>Crime</td>\n",
       "      <td>Drama</td>\n",
       "      <td>Brassed Off (1996)</td>\n",
       "    </tr>\n",
       "    <tr>\n",
       "      <th>14</th>\n",
       "      <td>Thriller | Horror | Mystery</td>\n",
       "      <td></td>\n",
       "      <td>Kid Cannabis (2014)</td>\n",
       "    </tr>\n",
       "    <tr>\n",
       "      <th>15</th>\n",
       "      <td>Adventure | Romance | Drama</td>\n",
       "      <td>Drama | Action</td>\n",
       "      <td>100 Girls (2000)</td>\n",
       "    </tr>\n",
       "    <tr>\n",
       "      <th>16</th>\n",
       "      <td>Drama | Horror</td>\n",
       "      <td>Drama</td>\n",
       "      <td>Art of War III: Retribution, The (2009)</td>\n",
       "    </tr>\n",
       "    <tr>\n",
       "      <th>17</th>\n",
       "      <td>Drama</td>\n",
       "      <td>Drama</td>\n",
       "      <td>Dollman (1991)</td>\n",
       "    </tr>\n",
       "    <tr>\n",
       "      <th>18</th>\n",
       "      <td>Comedy | Drama</td>\n",
       "      <td>Drama</td>\n",
       "      <td>Love &amp; Sex (2000)</td>\n",
       "    </tr>\n",
       "    <tr>\n",
       "      <th>19</th>\n",
       "      <td>Romance | Drama | Action | Thriller</td>\n",
       "      <td>Action</td>\n",
       "      <td>Eye of the Needle (1981)</td>\n",
       "    </tr>\n",
       "    <tr>\n",
       "      <th>20</th>\n",
       "      <td>Comedy</td>\n",
       "      <td>Drama</td>\n",
       "      <td>Marrying Man, The (Too Hot to Handle) (1991)</td>\n",
       "    </tr>\n",
       "    <tr>\n",
       "      <th>21</th>\n",
       "      <td>Drama | War</td>\n",
       "      <td>Drama</td>\n",
       "      <td>The Forbidden Room (2015)</td>\n",
       "    </tr>\n",
       "    <tr>\n",
       "      <th>22</th>\n",
       "      <td>Comedy | Musical</td>\n",
       "      <td>Comedy</td>\n",
       "      <td>Waiting Women (Kvinnors väntan) (1952)</td>\n",
       "    </tr>\n",
       "    <tr>\n",
       "      <th>23</th>\n",
       "      <td>Adventure | Children | Fantasy | Thriller | Sc...</td>\n",
       "      <td>Adventure | Sci-Fi</td>\n",
       "      <td>Falling in Love (1984)</td>\n",
       "    </tr>\n",
       "    <tr>\n",
       "      <th>24</th>\n",
       "      <td>Adventure | Drama</td>\n",
       "      <td>Drama</td>\n",
       "      <td>Set-Up, The (1949)</td>\n",
       "    </tr>\n",
       "    <tr>\n",
       "      <th>25</th>\n",
       "      <td>Comedy | Musical</td>\n",
       "      <td>Comedy</td>\n",
       "      <td>Sheena (1984)</td>\n",
       "    </tr>\n",
       "    <tr>\n",
       "      <th>26</th>\n",
       "      <td>Action</td>\n",
       "      <td>Action | Thriller</td>\n",
       "      <td>Elle: A Modern Cinderella Tale (2011)</td>\n",
       "    </tr>\n",
       "    <tr>\n",
       "      <th>27</th>\n",
       "      <td>Adventure | Children | Comedy | Musical</td>\n",
       "      <td>Children | Comedy</td>\n",
       "      <td>William Shakespeare's Romeo + Juliet (1996)</td>\n",
       "    </tr>\n",
       "    <tr>\n",
       "      <th>28</th>\n",
       "      <td>Comedy | Drama</td>\n",
       "      <td>Drama</td>\n",
       "      <td>Not with My Wife, You Don't! (1966)</td>\n",
       "    </tr>\n",
       "    <tr>\n",
       "      <th>29</th>\n",
       "      <td>Action | Thriller</td>\n",
       "      <td>Adventure</td>\n",
       "      <td>Captain Kidd (1945)</td>\n",
       "    </tr>\n",
       "    <tr>\n",
       "      <th>30</th>\n",
       "      <td>Thriller | Horror</td>\n",
       "      <td>Thriller | Horror</td>\n",
       "      <td>Dirty Dancing: Havana Nights (2004)</td>\n",
       "    </tr>\n",
       "    <tr>\n",
       "      <th>31</th>\n",
       "      <td>Drama</td>\n",
       "      <td>Drama</td>\n",
       "      <td>Restless (2011)</td>\n",
       "    </tr>\n",
       "    <tr>\n",
       "      <th>32</th>\n",
       "      <td>Drama | Action</td>\n",
       "      <td>Drama</td>\n",
       "      <td>Operation Endgame (2010)</td>\n",
       "    </tr>\n",
       "    <tr>\n",
       "      <th>33</th>\n",
       "      <td>Drama | Crime</td>\n",
       "      <td>Drama</td>\n",
       "      <td>Bran Nue Dae (2009)</td>\n",
       "    </tr>\n",
       "    <tr>\n",
       "      <th>34</th>\n",
       "      <td>Comedy</td>\n",
       "      <td>Comedy</td>\n",
       "      <td>Black Dawn (2005)</td>\n",
       "    </tr>\n",
       "    <tr>\n",
       "      <th>35</th>\n",
       "      <td>Animation | Drama | Action | War</td>\n",
       "      <td></td>\n",
       "      <td>Paris When It Sizzles (1964)</td>\n",
       "    </tr>\n",
       "    <tr>\n",
       "      <th>36</th>\n",
       "      <td>Adventure | Action | Sci-Fi</td>\n",
       "      <td>Adventure | Sci-Fi</td>\n",
       "      <td>Seven (a.k.a. Se7en) (1995)</td>\n",
       "    </tr>\n",
       "    <tr>\n",
       "      <th>37</th>\n",
       "      <td>Romance | Drama</td>\n",
       "      <td>Drama</td>\n",
       "      <td>Malaya (1949)</td>\n",
       "    </tr>\n",
       "    <tr>\n",
       "      <th>38</th>\n",
       "      <td>Sci-Fi</td>\n",
       "      <td>Drama</td>\n",
       "      <td>Devil, The (Diabel) (1972)</td>\n",
       "    </tr>\n",
       "    <tr>\n",
       "      <th>39</th>\n",
       "      <td>Adventure | Comedy</td>\n",
       "      <td></td>\n",
       "      <td>Not on the Lips (Pas sur la bouche) (2003)</td>\n",
       "    </tr>\n",
       "    <tr>\n",
       "      <th>40</th>\n",
       "      <td>Crime | Thriller | Mystery | Film-Noir</td>\n",
       "      <td>Thriller | Mystery</td>\n",
       "      <td>Night of the Lepus (1972)</td>\n",
       "    </tr>\n",
       "    <tr>\n",
       "      <th>41</th>\n",
       "      <td>Adventure | Comedy | Romance | Horror</td>\n",
       "      <td>Drama | Horror</td>\n",
       "      <td>Pyaar Ka Punchnama (2011)</td>\n",
       "    </tr>\n",
       "    <tr>\n",
       "      <th>42</th>\n",
       "      <td>Children | Comedy | Musical</td>\n",
       "      <td>Comedy</td>\n",
       "      <td>Shrek 2 (2004)</td>\n",
       "    </tr>\n",
       "    <tr>\n",
       "      <th>43</th>\n",
       "      <td>Comedy</td>\n",
       "      <td>Drama</td>\n",
       "      <td>Legal Eagles (1986)</td>\n",
       "    </tr>\n",
       "    <tr>\n",
       "      <th>44</th>\n",
       "      <td>Adventure | Comedy | Action | Crime</td>\n",
       "      <td>Crime</td>\n",
       "      <td>Peculiarities of the National Hunt (Osobennost...</td>\n",
       "    </tr>\n",
       "    <tr>\n",
       "      <th>45</th>\n",
       "      <td>Drama</td>\n",
       "      <td>Comedy | Drama</td>\n",
       "      <td>Turks &amp; Caicos (2014)</td>\n",
       "    </tr>\n",
       "    <tr>\n",
       "      <th>46</th>\n",
       "      <td>Drama | Action | Crime | Thriller</td>\n",
       "      <td>Drama | Action | Crime | Thriller</td>\n",
       "      <td>Baxter, The (2005)</td>\n",
       "    </tr>\n",
       "    <tr>\n",
       "      <th>47</th>\n",
       "      <td>Action</td>\n",
       "      <td>Adventure | Action</td>\n",
       "      <td>Pitfall (Otoshiana) (1962)</td>\n",
       "    </tr>\n",
       "    <tr>\n",
       "      <th>48</th>\n",
       "      <td>Drama</td>\n",
       "      <td>Drama</td>\n",
       "      <td>Mr. &amp; Mrs. Smith (1941)</td>\n",
       "    </tr>\n",
       "    <tr>\n",
       "      <th>49</th>\n",
       "      <td>Animation | Children | Comedy</td>\n",
       "      <td>Animation | Children | Comedy</td>\n",
       "      <td>5,000 Fingers of Dr. T, The (1953)</td>\n",
       "    </tr>\n",
       "  </tbody>\n",
       "</table>\n",
       "</div>"
      ],
      "text/plain": [
       "                                       Original Genre  ...                                              title\n",
       "0                                              Comedy  ...  First Beautiful Thing, The (La prima cosa bell...\n",
       "1                                               Drama  ...                         Terms of Endearment (1983)\n",
       "2                                             Romance  ...                               Skeleton Crew (2009)\n",
       "3                                              Comedy  ...                          Easy Come, Easy Go (1967)\n",
       "4                                               Drama  ...                    Head-On (Gegen die Wand) (2004)\n",
       "5                                    Romance | Sci-Fi  ...                  Day of Wrath (Vredens dag) (1943)\n",
       "6                                  Animation | Sci-Fi  ...   Fanny and Alexander (Fanny och Alexander) (1982)\n",
       "7                                               Drama  ...               Little Engine That Could, The (1991)\n",
       "8                        Adventure | Children | Drama  ...                          Slaves of New York (1989)\n",
       "9                                   Children | Comedy  ...                                 Sadist, The (1963)\n",
       "10                         Action | Thriller | Sci-Fi  ...                        Knight Without Armor (1937)\n",
       "11                                              Drama  ...                          As Good as It Gets (1997)\n",
       "12                                     Comedy | Drama  ...                                     Fiorile (1993)\n",
       "13                                              Crime  ...                                 Brassed Off (1996)\n",
       "14                        Thriller | Horror | Mystery  ...                                Kid Cannabis (2014)\n",
       "15                        Adventure | Romance | Drama  ...                                   100 Girls (2000)\n",
       "16                                     Drama | Horror  ...            Art of War III: Retribution, The (2009)\n",
       "17                                              Drama  ...                                     Dollman (1991)\n",
       "18                                     Comedy | Drama  ...                                  Love & Sex (2000)\n",
       "19                Romance | Drama | Action | Thriller  ...                           Eye of the Needle (1981)\n",
       "20                                             Comedy  ...       Marrying Man, The (Too Hot to Handle) (1991)\n",
       "21                                        Drama | War  ...                          The Forbidden Room (2015)\n",
       "22                                   Comedy | Musical  ...             Waiting Women (Kvinnors väntan) (1952)\n",
       "23  Adventure | Children | Fantasy | Thriller | Sc...  ...                             Falling in Love (1984)\n",
       "24                                  Adventure | Drama  ...                                 Set-Up, The (1949)\n",
       "25                                   Comedy | Musical  ...                                      Sheena (1984)\n",
       "26                                             Action  ...              Elle: A Modern Cinderella Tale (2011)\n",
       "27            Adventure | Children | Comedy | Musical  ...        William Shakespeare's Romeo + Juliet (1996)\n",
       "28                                     Comedy | Drama  ...                Not with My Wife, You Don't! (1966)\n",
       "29                                  Action | Thriller  ...                                Captain Kidd (1945)\n",
       "30                                  Thriller | Horror  ...                Dirty Dancing: Havana Nights (2004)\n",
       "31                                              Drama  ...                                    Restless (2011)\n",
       "32                                     Drama | Action  ...                           Operation Endgame (2010)\n",
       "33                                      Drama | Crime  ...                                Bran Nue Dae (2009)\n",
       "34                                             Comedy  ...                                  Black Dawn (2005)\n",
       "35                   Animation | Drama | Action | War  ...                       Paris When It Sizzles (1964)\n",
       "36                        Adventure | Action | Sci-Fi  ...                        Seven (a.k.a. Se7en) (1995)\n",
       "37                                    Romance | Drama  ...                                      Malaya (1949)\n",
       "38                                             Sci-Fi  ...                         Devil, The (Diabel) (1972)\n",
       "39                                 Adventure | Comedy  ...         Not on the Lips (Pas sur la bouche) (2003)\n",
       "40             Crime | Thriller | Mystery | Film-Noir  ...                          Night of the Lepus (1972)\n",
       "41              Adventure | Comedy | Romance | Horror  ...                          Pyaar Ka Punchnama (2011)\n",
       "42                        Children | Comedy | Musical  ...                                     Shrek 2 (2004)\n",
       "43                                             Comedy  ...                                Legal Eagles (1986)\n",
       "44                Adventure | Comedy | Action | Crime  ...  Peculiarities of the National Hunt (Osobennost...\n",
       "45                                              Drama  ...                              Turks & Caicos (2014)\n",
       "46                  Drama | Action | Crime | Thriller  ...                                 Baxter, The (2005)\n",
       "47                                             Action  ...                         Pitfall (Otoshiana) (1962)\n",
       "48                                              Drama  ...                            Mr. & Mrs. Smith (1941)\n",
       "49                      Animation | Children | Comedy  ...                 5,000 Fingers of Dr. T, The (1953)\n",
       "\n",
       "[50 rows x 3 columns]"
      ]
     },
     "execution_count": 85,
     "metadata": {
      "tags": []
     },
     "output_type": "execute_result"
    }
   ],
   "source": [
    "df = pd.DataFrame(columns=['Original Genre','Predicted Genre'])\n",
    "\n",
    "for i in range(50):\n",
    "  ori_gen = retrieve_genre(y_test[i])\n",
    "  pred_gen = get_prediction(i)\n",
    "  pred_gen = retrieve_genre(pred_gen)\n",
    "  df.loc[i] = [ori_gen,pred_gen]\n",
    "titl = list(X_train1['title'].head(50).values)\n",
    "df['title'] = list(titl)\n",
    "df"
   ]
  },
  {
   "cell_type": "markdown",
   "metadata": {
    "colab_type": "text",
    "id": "4YNDyYM7IZp1"
   },
   "source": [
    "**Convolutional Layer along with LSTM**"
   ]
  },
  {
   "cell_type": "code",
   "execution_count": 15,
   "metadata": {
    "colab": {
     "base_uri": "https://localhost:8080/",
     "height": 1000
    },
    "colab_type": "code",
    "id": "3_XC1x9paKhb",
    "outputId": "1fa4f9aa-b884-48fa-ad1f-0d54ff559bb2"
   },
   "outputs": [
    {
     "name": "stdout",
     "output_type": "stream",
     "text": [
      "WARNING:tensorflow:From /usr/local/lib/python3.6/dist-packages/keras/backend/tensorflow_backend.py:66: The name tf.get_default_graph is deprecated. Please use tf.compat.v1.get_default_graph instead.\n",
      "\n",
      "WARNING:tensorflow:From /usr/local/lib/python3.6/dist-packages/keras/backend/tensorflow_backend.py:541: The name tf.placeholder is deprecated. Please use tf.compat.v1.placeholder instead.\n",
      "\n",
      "WARNING:tensorflow:From /usr/local/lib/python3.6/dist-packages/keras/backend/tensorflow_backend.py:4432: The name tf.random_uniform is deprecated. Please use tf.random.uniform instead.\n",
      "\n",
      "WARNING:tensorflow:From /usr/local/lib/python3.6/dist-packages/keras/backend/tensorflow_backend.py:190: The name tf.get_default_session is deprecated. Please use tf.compat.v1.get_default_session instead.\n",
      "\n",
      "WARNING:tensorflow:From /usr/local/lib/python3.6/dist-packages/keras/backend/tensorflow_backend.py:197: The name tf.ConfigProto is deprecated. Please use tf.compat.v1.ConfigProto instead.\n",
      "\n",
      "WARNING:tensorflow:From /usr/local/lib/python3.6/dist-packages/keras/backend/tensorflow_backend.py:203: The name tf.Session is deprecated. Please use tf.compat.v1.Session instead.\n",
      "\n",
      "WARNING:tensorflow:From /usr/local/lib/python3.6/dist-packages/keras/backend/tensorflow_backend.py:207: The name tf.global_variables is deprecated. Please use tf.compat.v1.global_variables instead.\n",
      "\n",
      "WARNING:tensorflow:From /usr/local/lib/python3.6/dist-packages/keras/backend/tensorflow_backend.py:216: The name tf.is_variable_initialized is deprecated. Please use tf.compat.v1.is_variable_initialized instead.\n",
      "\n",
      "WARNING:tensorflow:From /usr/local/lib/python3.6/dist-packages/keras/backend/tensorflow_backend.py:223: The name tf.variables_initializer is deprecated. Please use tf.compat.v1.variables_initializer instead.\n",
      "\n",
      "WARNING:tensorflow:From /usr/local/lib/python3.6/dist-packages/keras/backend/tensorflow_backend.py:148: The name tf.placeholder_with_default is deprecated. Please use tf.compat.v1.placeholder_with_default instead.\n",
      "\n",
      "WARNING:tensorflow:From /usr/local/lib/python3.6/dist-packages/keras/backend/tensorflow_backend.py:3733: calling dropout (from tensorflow.python.ops.nn_ops) with keep_prob is deprecated and will be removed in a future version.\n",
      "Instructions for updating:\n",
      "Please use `rate` instead of `keep_prob`. Rate should be set to `rate = 1 - keep_prob`.\n",
      "WARNING:tensorflow:From /usr/local/lib/python3.6/dist-packages/keras/optimizers.py:793: The name tf.train.Optimizer is deprecated. Please use tf.compat.v1.train.Optimizer instead.\n",
      "\n",
      "WARNING:tensorflow:From /usr/local/lib/python3.6/dist-packages/keras/backend/tensorflow_backend.py:3657: The name tf.log is deprecated. Please use tf.math.log instead.\n",
      "\n",
      "WARNING:tensorflow:From /usr/local/lib/python3.6/dist-packages/tensorflow_core/python/ops/nn_impl.py:183: where (from tensorflow.python.ops.array_ops) is deprecated and will be removed in a future version.\n",
      "Instructions for updating:\n",
      "Use tf.where in 2.0, which has the same broadcast rule as np.where\n",
      "Model: \"model_1\"\n",
      "_________________________________________________________________\n",
      "Layer (type)                 Output Shape              Param #   \n",
      "=================================================================\n",
      "input_1 (InputLayer)         (None, 300)               0         \n",
      "_________________________________________________________________\n",
      "embedding_1 (Embedding)      (None, 300, 300)          33233400  \n",
      "_________________________________________________________________\n",
      "lstm_1 (LSTM)                (None, 300, 512)          1665024   \n",
      "_________________________________________________________________\n",
      "conv1d_1 (Conv1D)            (None, 299, 128)          131200    \n",
      "_________________________________________________________________\n",
      "dropout_1 (Dropout)          (None, 299, 128)          0         \n",
      "_________________________________________________________________\n",
      "lstm_2 (LSTM)                (None, 299, 256)          394240    \n",
      "_________________________________________________________________\n",
      "conv1d_2 (Conv1D)            (None, 298, 64)           32832     \n",
      "_________________________________________________________________\n",
      "dropout_2 (Dropout)          (None, 298, 64)           0         \n",
      "_________________________________________________________________\n",
      "lstm_3 (LSTM)                (None, 298, 128)          98816     \n",
      "_________________________________________________________________\n",
      "conv1d_3 (Conv1D)            (None, 297, 32)           8224      \n",
      "_________________________________________________________________\n",
      "lstm_4 (LSTM)                (None, 297, 64)           24832     \n",
      "_________________________________________________________________\n",
      "conv1d_4 (Conv1D)            (None, 296, 16)           2064      \n",
      "_________________________________________________________________\n",
      "flatten_1 (Flatten)          (None, 4736)              0         \n",
      "_________________________________________________________________\n",
      "dense_1 (Dense)              (None, 128)               606336    \n",
      "_________________________________________________________________\n",
      "dropout_3 (Dropout)          (None, 128)               0         \n",
      "_________________________________________________________________\n",
      "dense_2 (Dense)              (None, 64)                8256      \n",
      "_________________________________________________________________\n",
      "dense_3 (Dense)              (None, 17)                1105      \n",
      "=================================================================\n",
      "Total params: 36,206,329\n",
      "Trainable params: 2,972,929\n",
      "Non-trainable params: 33,233,400\n",
      "_________________________________________________________________\n"
     ]
    }
   ],
   "source": [
    "input_layer = Input(shape=(maxlen,))\n",
    "\n",
    "embedding_layer = Embedding(nb_words, EMBEDDING_DIM,input_length=300, weights=[embedding_matrix], trainable=False)(input_layer)\n",
    "\n",
    "lstm1 = LSTM(512,return_sequences=True)(embedding_layer)\n",
    "conv1 = Conv1D(filters=128, kernel_size=2, activation='relu')(lstm1)\n",
    "conv1 = Dropout(0.25)(conv1)\n",
    "\n",
    "lstm2 = LSTM(256,return_sequences=True)(conv1)\n",
    "conv2 = Conv1D(filters=64, kernel_size=2, activation='relu')(lstm2)\n",
    "conv2 = Dropout(0.25)(conv2)\n",
    "\n",
    "lstm3 = LSTM(128,return_sequences=True)(conv2)\n",
    "conv3 = Conv1D(filters=32, kernel_size=2, activation='relu')(lstm3)\n",
    "\n",
    "lstm4 = LSTM(64,return_sequences=True)(conv3)\n",
    "conv4 = Conv1D(filters=16, kernel_size=2, activation='relu')(lstm4)\n",
    "\n",
    "flat = Flatten()(conv4)\n",
    "\n",
    "\n",
    "dense1 = Dense(128, activation='relu')(flat)\n",
    "dense1 = Dropout(0.25)(dense1)\n",
    "\n",
    "dense2 = Dense(64, activation='relu')(dense1)\n",
    "\n",
    "out_layer = Dense(17, activation='sigmoid')(dense2)\n",
    "\n",
    "model = Model(inputs=input_layer, outputs=out_layer)\n",
    "\n",
    "model.compile(loss='binary_crossentropy', optimizer='adam', metrics=['acc'])\n",
    "model.summary()"
   ]
  },
  {
   "cell_type": "code",
   "execution_count": 0,
   "metadata": {
    "colab": {},
    "colab_type": "code",
    "id": "oDfOybesaKWJ"
   },
   "outputs": [],
   "source": [
    "from keras.callbacks import EarlyStopping\n",
    "es = EarlyStopping(monitor='val_acc', patience=5, mode='max', baseline=None, restore_best_weights=True)"
   ]
  },
  {
   "cell_type": "code",
   "execution_count": 17,
   "metadata": {
    "colab": {
     "base_uri": "https://localhost:8080/",
     "height": 904
    },
    "colab_type": "code",
    "id": "cqLRcNE2aKEK",
    "outputId": "f61e9359-da8d-4baf-ebd0-68da966a896c"
   },
   "outputs": [
    {
     "name": "stdout",
     "output_type": "stream",
     "text": [
      "WARNING:tensorflow:From /usr/local/lib/python3.6/dist-packages/keras/backend/tensorflow_backend.py:1033: The name tf.assign_add is deprecated. Please use tf.compat.v1.assign_add instead.\n",
      "\n",
      "WARNING:tensorflow:From /usr/local/lib/python3.6/dist-packages/keras/backend/tensorflow_backend.py:1020: The name tf.assign is deprecated. Please use tf.compat.v1.assign instead.\n",
      "\n",
      "Train on 14072 samples, validate on 3519 samples\n",
      "Epoch 1/30\n",
      "14072/14072 [==============================] - 210s 15ms/step - loss: 0.3570 - acc: 0.8642 - val_loss: 0.3190 - val_acc: 0.8742\n",
      "Epoch 2/30\n",
      "14072/14072 [==============================] - 192s 14ms/step - loss: 0.3106 - acc: 0.8812 - val_loss: 0.2927 - val_acc: 0.8840\n",
      "Epoch 3/30\n",
      "14072/14072 [==============================] - 188s 13ms/step - loss: 0.2957 - acc: 0.8830 - val_loss: 0.2880 - val_acc: 0.8843\n",
      "Epoch 4/30\n",
      "14072/14072 [==============================] - 191s 14ms/step - loss: 0.2890 - acc: 0.8837 - val_loss: 0.2767 - val_acc: 0.8845\n",
      "Epoch 5/30\n",
      "14072/14072 [==============================] - 194s 14ms/step - loss: 0.2769 - acc: 0.8849 - val_loss: 0.2655 - val_acc: 0.8895\n",
      "Epoch 6/30\n",
      "14072/14072 [==============================] - 200s 14ms/step - loss: 0.2636 - acc: 0.8905 - val_loss: 0.2521 - val_acc: 0.8949\n",
      "Epoch 7/30\n",
      "14072/14072 [==============================] - 190s 14ms/step - loss: 0.2540 - acc: 0.8945 - val_loss: 0.2480 - val_acc: 0.8973\n",
      "Epoch 8/30\n",
      "14072/14072 [==============================] - 189s 13ms/step - loss: 0.2429 - acc: 0.8992 - val_loss: 0.2392 - val_acc: 0.9008\n",
      "Epoch 9/30\n",
      "14072/14072 [==============================] - 191s 14ms/step - loss: 0.2358 - acc: 0.9020 - val_loss: 0.2313 - val_acc: 0.9038\n",
      "Epoch 10/30\n",
      "14072/14072 [==============================] - 194s 14ms/step - loss: 0.2272 - acc: 0.9059 - val_loss: 0.2282 - val_acc: 0.9058\n",
      "Epoch 11/30\n",
      "14072/14072 [==============================] - 201s 14ms/step - loss: 0.2202 - acc: 0.9086 - val_loss: 0.2268 - val_acc: 0.9072\n",
      "Epoch 12/30\n",
      "14072/14072 [==============================] - 191s 14ms/step - loss: 0.2155 - acc: 0.9111 - val_loss: 0.2258 - val_acc: 0.9065\n",
      "Epoch 13/30\n",
      "14072/14072 [==============================] - 187s 13ms/step - loss: 0.2084 - acc: 0.9142 - val_loss: 0.2265 - val_acc: 0.9065\n",
      "Epoch 14/30\n",
      "14072/14072 [==============================] - 191s 14ms/step - loss: 0.2031 - acc: 0.9166 - val_loss: 0.2236 - val_acc: 0.9087\n",
      "Epoch 15/30\n",
      "14072/14072 [==============================] - 191s 14ms/step - loss: 0.1954 - acc: 0.9192 - val_loss: 0.2250 - val_acc: 0.9082\n",
      "Epoch 16/30\n",
      "14072/14072 [==============================] - 196s 14ms/step - loss: 0.1897 - acc: 0.9222 - val_loss: 0.2306 - val_acc: 0.9085\n",
      "Epoch 17/30\n",
      "14072/14072 [==============================] - 198s 14ms/step - loss: 0.1840 - acc: 0.9242 - val_loss: 0.2304 - val_acc: 0.9090\n",
      "Epoch 18/30\n",
      "14072/14072 [==============================] - 190s 13ms/step - loss: 0.1752 - acc: 0.9273 - val_loss: 0.2375 - val_acc: 0.9092\n",
      "Epoch 19/30\n",
      "14072/14072 [==============================] - 188s 13ms/step - loss: 0.1681 - acc: 0.9299 - val_loss: 0.2390 - val_acc: 0.9065\n",
      "Epoch 20/30\n",
      "14072/14072 [==============================] - 191s 14ms/step - loss: 0.1639 - acc: 0.9317 - val_loss: 0.2467 - val_acc: 0.9089\n",
      "Epoch 21/30\n",
      "14072/14072 [==============================] - 195s 14ms/step - loss: 0.1547 - acc: 0.9353 - val_loss: 0.2526 - val_acc: 0.9064\n",
      "Epoch 22/30\n",
      "14072/14072 [==============================] - 196s 14ms/step - loss: 0.1471 - acc: 0.9380 - val_loss: 0.2563 - val_acc: 0.9066\n",
      "Epoch 23/30\n",
      "14072/14072 [==============================] - 187s 13ms/step - loss: 0.1430 - acc: 0.9399 - val_loss: 0.2701 - val_acc: 0.9035\n"
     ]
    }
   ],
   "source": [
    "history = model.fit(X_train, y_train, batch_size=256, epochs=30, verbose=1,validation_data=(X_test,y_test),callbacks=[es])"
   ]
  },
  {
   "cell_type": "code",
   "execution_count": 18,
   "metadata": {
    "colab": {
     "base_uri": "https://localhost:8080/",
     "height": 51
    },
    "colab_type": "code",
    "id": "aaBe4PQla9dn",
    "outputId": "12736316-f5ce-483c-88a5-28a5186549e4"
   },
   "outputs": [
    {
     "name": "stdout",
     "output_type": "stream",
     "text": [
      "3519/3519 [==============================] - 121s 34ms/step\n"
     ]
    },
    {
     "data": {
      "text/plain": [
       "[0.23748767006698743, 0.9092155281844956]"
      ]
     },
     "execution_count": 18,
     "metadata": {
      "tags": []
     },
     "output_type": "execute_result"
    }
   ],
   "source": [
    "model.evaluate(X_test, y_test, verbose=1)"
   ]
  },
  {
   "cell_type": "code",
   "execution_count": 19,
   "metadata": {
    "colab": {
     "base_uri": "https://localhost:8080/",
     "height": 88
    },
    "colab_type": "code",
    "id": "BIxkHulQbIih",
    "outputId": "a34cc91e-8d5d-4349-be61-386ceb3e66b6"
   },
   "outputs": [
    {
     "name": "stderr",
     "output_type": "stream",
     "text": [
      "/usr/local/lib/python3.6/dist-packages/sklearn/externals/joblib/__init__.py:15: DeprecationWarning: sklearn.externals.joblib is deprecated in 0.21 and will be removed in 0.23. Please import this functionality directly from joblib, which can be installed with: pip install joblib. If this warning is raised when loading pickled models, you may need to re-serialize those models with scikit-learn 0.21+.\n",
      "  warnings.warn(msg, category=DeprecationWarning)\n"
     ]
    },
    {
     "data": {
      "text/plain": [
       "['/content/drive/My Drive/conv-lstm-glove.sav']"
      ]
     },
     "execution_count": 19,
     "metadata": {
      "tags": []
     },
     "output_type": "execute_result"
    }
   ],
   "source": [
    "from sklearn.externals import joblib\n",
    "# save the model to disk\n",
    "filename = 'conv-lstm-glove.sav'\n",
    "joblib.dump(model, filename)"
   ]
  },
  {
   "cell_type": "code",
   "execution_count": 0,
   "metadata": {
    "colab": {},
    "colab_type": "code",
    "id": "RRJtep8IIiLL"
   },
   "outputs": [],
   "source": [
    "model = joblib.load('conv-lstm-glove.sav')"
   ]
  },
  {
   "cell_type": "code",
   "execution_count": 0,
   "metadata": {
    "colab": {},
    "colab_type": "code",
    "id": "uZrmfiKqsRMg"
   },
   "outputs": [],
   "source": [
    "out_arr = model.predict(X_test)"
   ]
  },
  {
   "cell_type": "code",
   "execution_count": 0,
   "metadata": {
    "colab": {},
    "colab_type": "code",
    "id": "dQQvubQTsULY"
   },
   "outputs": [],
   "source": [
    "def get_prediction(k):\n",
    "  pred_arr = []\n",
    "  for i in out_arr[k]:\n",
    "    if(i>0.5):\n",
    "      pred_arr.append(1)\n",
    "    else:\n",
    "      pred_arr.append(0)\n",
    "  return pred_arr"
   ]
  },
  {
   "cell_type": "code",
   "execution_count": 0,
   "metadata": {
    "colab": {},
    "colab_type": "code",
    "id": "_dyvULNTsWeD"
   },
   "outputs": [],
   "source": [
    "def retrieve_genre(arr):\n",
    "  plot_str = ''\n",
    "  for i in range(len(arr)):\n",
    "    if(arr[i]==1):\n",
    "      plot_str = plot_str+' | '+y_df.columns[i]\n",
    "  return plot_str.lstrip(' | ')"
   ]
  },
  {
   "cell_type": "code",
   "execution_count": 90,
   "metadata": {
    "colab": {
     "base_uri": "https://localhost:8080/",
     "height": 1000
    },
    "colab_type": "code",
    "id": "3mmltaMDIglM",
    "outputId": "9084d7aa-d9dc-4faa-9694-7070ba0122e0"
   },
   "outputs": [
    {
     "data": {
      "text/html": [
       "<div>\n",
       "<style scoped>\n",
       "    .dataframe tbody tr th:only-of-type {\n",
       "        vertical-align: middle;\n",
       "    }\n",
       "\n",
       "    .dataframe tbody tr th {\n",
       "        vertical-align: top;\n",
       "    }\n",
       "\n",
       "    .dataframe thead th {\n",
       "        text-align: right;\n",
       "    }\n",
       "</style>\n",
       "<table border=\"1\" class=\"dataframe\">\n",
       "  <thead>\n",
       "    <tr style=\"text-align: right;\">\n",
       "      <th></th>\n",
       "      <th>Original Genre</th>\n",
       "      <th>Predicted Genre</th>\n",
       "      <th>title</th>\n",
       "    </tr>\n",
       "  </thead>\n",
       "  <tbody>\n",
       "    <tr>\n",
       "      <th>0</th>\n",
       "      <td>Comedy</td>\n",
       "      <td>Adventure | Comedy | Action</td>\n",
       "      <td>First Beautiful Thing, The (La prima cosa bell...</td>\n",
       "    </tr>\n",
       "    <tr>\n",
       "      <th>1</th>\n",
       "      <td>Drama</td>\n",
       "      <td>Fantasy | Drama</td>\n",
       "      <td>Terms of Endearment (1983)</td>\n",
       "    </tr>\n",
       "    <tr>\n",
       "      <th>2</th>\n",
       "      <td>Romance</td>\n",
       "      <td>Drama</td>\n",
       "      <td>Skeleton Crew (2009)</td>\n",
       "    </tr>\n",
       "    <tr>\n",
       "      <th>3</th>\n",
       "      <td>Comedy</td>\n",
       "      <td>Comedy | Romance | Drama</td>\n",
       "      <td>Easy Come, Easy Go (1967)</td>\n",
       "    </tr>\n",
       "    <tr>\n",
       "      <th>4</th>\n",
       "      <td>Drama</td>\n",
       "      <td>Comedy | Romance</td>\n",
       "      <td>Head-On (Gegen die Wand) (2004)</td>\n",
       "    </tr>\n",
       "    <tr>\n",
       "      <th>5</th>\n",
       "      <td>Romance | Sci-Fi</td>\n",
       "      <td>Action | Sci-Fi</td>\n",
       "      <td>Day of Wrath (Vredens dag) (1943)</td>\n",
       "    </tr>\n",
       "    <tr>\n",
       "      <th>6</th>\n",
       "      <td>Animation | Sci-Fi</td>\n",
       "      <td>Adventure | Fantasy | Action | Sci-Fi</td>\n",
       "      <td>Fanny and Alexander (Fanny och Alexander) (1982)</td>\n",
       "    </tr>\n",
       "    <tr>\n",
       "      <th>7</th>\n",
       "      <td>Drama</td>\n",
       "      <td>Drama</td>\n",
       "      <td>Little Engine That Could, The (1991)</td>\n",
       "    </tr>\n",
       "    <tr>\n",
       "      <th>8</th>\n",
       "      <td>Adventure | Children | Drama</td>\n",
       "      <td>Drama</td>\n",
       "      <td>Slaves of New York (1989)</td>\n",
       "    </tr>\n",
       "    <tr>\n",
       "      <th>9</th>\n",
       "      <td>Children | Comedy</td>\n",
       "      <td>Comedy</td>\n",
       "      <td>Sadist, The (1963)</td>\n",
       "    </tr>\n",
       "    <tr>\n",
       "      <th>10</th>\n",
       "      <td>Action | Thriller | Sci-Fi</td>\n",
       "      <td>Adventure | Action | Sci-Fi</td>\n",
       "      <td>Knight Without Armor (1937)</td>\n",
       "    </tr>\n",
       "    <tr>\n",
       "      <th>11</th>\n",
       "      <td>Drama</td>\n",
       "      <td>Drama | Thriller</td>\n",
       "      <td>As Good as It Gets (1997)</td>\n",
       "    </tr>\n",
       "    <tr>\n",
       "      <th>12</th>\n",
       "      <td>Comedy | Drama</td>\n",
       "      <td>Comedy | Drama</td>\n",
       "      <td>Fiorile (1993)</td>\n",
       "    </tr>\n",
       "    <tr>\n",
       "      <th>13</th>\n",
       "      <td>Crime</td>\n",
       "      <td>Drama | Crime</td>\n",
       "      <td>Brassed Off (1996)</td>\n",
       "    </tr>\n",
       "    <tr>\n",
       "      <th>14</th>\n",
       "      <td>Thriller | Horror | Mystery</td>\n",
       "      <td>Drama</td>\n",
       "      <td>Kid Cannabis (2014)</td>\n",
       "    </tr>\n",
       "    <tr>\n",
       "      <th>15</th>\n",
       "      <td>Adventure | Romance | Drama</td>\n",
       "      <td>Drama</td>\n",
       "      <td>100 Girls (2000)</td>\n",
       "    </tr>\n",
       "    <tr>\n",
       "      <th>16</th>\n",
       "      <td>Drama | Horror</td>\n",
       "      <td>Drama</td>\n",
       "      <td>Art of War III: Retribution, The (2009)</td>\n",
       "    </tr>\n",
       "    <tr>\n",
       "      <th>17</th>\n",
       "      <td>Drama</td>\n",
       "      <td>Comedy | Drama</td>\n",
       "      <td>Dollman (1991)</td>\n",
       "    </tr>\n",
       "    <tr>\n",
       "      <th>18</th>\n",
       "      <td>Comedy | Drama</td>\n",
       "      <td>Comedy</td>\n",
       "      <td>Love &amp; Sex (2000)</td>\n",
       "    </tr>\n",
       "    <tr>\n",
       "      <th>19</th>\n",
       "      <td>Romance | Drama | Action | Thriller</td>\n",
       "      <td>Drama | Action</td>\n",
       "      <td>Eye of the Needle (1981)</td>\n",
       "    </tr>\n",
       "    <tr>\n",
       "      <th>20</th>\n",
       "      <td>Comedy</td>\n",
       "      <td>Comedy</td>\n",
       "      <td>Marrying Man, The (Too Hot to Handle) (1991)</td>\n",
       "    </tr>\n",
       "    <tr>\n",
       "      <th>21</th>\n",
       "      <td>Drama | War</td>\n",
       "      <td>Drama</td>\n",
       "      <td>The Forbidden Room (2015)</td>\n",
       "    </tr>\n",
       "    <tr>\n",
       "      <th>22</th>\n",
       "      <td>Comedy | Musical</td>\n",
       "      <td>Comedy | Romance</td>\n",
       "      <td>Waiting Women (Kvinnors väntan) (1952)</td>\n",
       "    </tr>\n",
       "    <tr>\n",
       "      <th>23</th>\n",
       "      <td>Adventure | Children | Fantasy | Thriller | Sc...</td>\n",
       "      <td>Adventure | Action | Sci-Fi</td>\n",
       "      <td>Falling in Love (1984)</td>\n",
       "    </tr>\n",
       "    <tr>\n",
       "      <th>24</th>\n",
       "      <td>Adventure | Drama</td>\n",
       "      <td>Drama</td>\n",
       "      <td>Set-Up, The (1949)</td>\n",
       "    </tr>\n",
       "    <tr>\n",
       "      <th>25</th>\n",
       "      <td>Comedy | Musical</td>\n",
       "      <td>Comedy</td>\n",
       "      <td>Sheena (1984)</td>\n",
       "    </tr>\n",
       "    <tr>\n",
       "      <th>26</th>\n",
       "      <td>Action</td>\n",
       "      <td>Action | Thriller</td>\n",
       "      <td>Elle: A Modern Cinderella Tale (2011)</td>\n",
       "    </tr>\n",
       "    <tr>\n",
       "      <th>27</th>\n",
       "      <td>Adventure | Children | Comedy | Musical</td>\n",
       "      <td>Children | Comedy</td>\n",
       "      <td>William Shakespeare's Romeo + Juliet (1996)</td>\n",
       "    </tr>\n",
       "    <tr>\n",
       "      <th>28</th>\n",
       "      <td>Comedy | Drama</td>\n",
       "      <td>Drama</td>\n",
       "      <td>Not with My Wife, You Don't! (1966)</td>\n",
       "    </tr>\n",
       "    <tr>\n",
       "      <th>29</th>\n",
       "      <td>Action | Thriller</td>\n",
       "      <td>Adventure | Comedy</td>\n",
       "      <td>Captain Kidd (1945)</td>\n",
       "    </tr>\n",
       "    <tr>\n",
       "      <th>30</th>\n",
       "      <td>Thriller | Horror</td>\n",
       "      <td>Thriller</td>\n",
       "      <td>Dirty Dancing: Havana Nights (2004)</td>\n",
       "    </tr>\n",
       "    <tr>\n",
       "      <th>31</th>\n",
       "      <td>Drama</td>\n",
       "      <td>Drama</td>\n",
       "      <td>Restless (2011)</td>\n",
       "    </tr>\n",
       "    <tr>\n",
       "      <th>32</th>\n",
       "      <td>Drama | Action</td>\n",
       "      <td>Drama</td>\n",
       "      <td>Operation Endgame (2010)</td>\n",
       "    </tr>\n",
       "    <tr>\n",
       "      <th>33</th>\n",
       "      <td>Drama | Crime</td>\n",
       "      <td>Drama</td>\n",
       "      <td>Bran Nue Dae (2009)</td>\n",
       "    </tr>\n",
       "    <tr>\n",
       "      <th>34</th>\n",
       "      <td>Comedy</td>\n",
       "      <td>Comedy</td>\n",
       "      <td>Black Dawn (2005)</td>\n",
       "    </tr>\n",
       "    <tr>\n",
       "      <th>35</th>\n",
       "      <td>Animation | Drama | Action | War</td>\n",
       "      <td>Action | Sci-Fi</td>\n",
       "      <td>Paris When It Sizzles (1964)</td>\n",
       "    </tr>\n",
       "    <tr>\n",
       "      <th>36</th>\n",
       "      <td>Adventure | Action | Sci-Fi</td>\n",
       "      <td>Adventure | Action</td>\n",
       "      <td>Seven (a.k.a. Se7en) (1995)</td>\n",
       "    </tr>\n",
       "    <tr>\n",
       "      <th>37</th>\n",
       "      <td>Romance | Drama</td>\n",
       "      <td>Drama</td>\n",
       "      <td>Malaya (1949)</td>\n",
       "    </tr>\n",
       "    <tr>\n",
       "      <th>38</th>\n",
       "      <td>Sci-Fi</td>\n",
       "      <td>Drama | Thriller</td>\n",
       "      <td>Devil, The (Diabel) (1972)</td>\n",
       "    </tr>\n",
       "    <tr>\n",
       "      <th>39</th>\n",
       "      <td>Adventure | Comedy</td>\n",
       "      <td>Comedy</td>\n",
       "      <td>Not on the Lips (Pas sur la bouche) (2003)</td>\n",
       "    </tr>\n",
       "    <tr>\n",
       "      <th>40</th>\n",
       "      <td>Crime | Thriller | Mystery | Film-Noir</td>\n",
       "      <td>Drama | Crime | Thriller</td>\n",
       "      <td>Night of the Lepus (1972)</td>\n",
       "    </tr>\n",
       "    <tr>\n",
       "      <th>41</th>\n",
       "      <td>Adventure | Comedy | Romance | Horror</td>\n",
       "      <td>Horror | Sci-Fi</td>\n",
       "      <td>Pyaar Ka Punchnama (2011)</td>\n",
       "    </tr>\n",
       "    <tr>\n",
       "      <th>42</th>\n",
       "      <td>Children | Comedy | Musical</td>\n",
       "      <td>Comedy | Drama</td>\n",
       "      <td>Shrek 2 (2004)</td>\n",
       "    </tr>\n",
       "    <tr>\n",
       "      <th>43</th>\n",
       "      <td>Comedy</td>\n",
       "      <td>Drama</td>\n",
       "      <td>Legal Eagles (1986)</td>\n",
       "    </tr>\n",
       "    <tr>\n",
       "      <th>44</th>\n",
       "      <td>Adventure | Comedy | Action | Crime</td>\n",
       "      <td>Comedy</td>\n",
       "      <td>Peculiarities of the National Hunt (Osobennost...</td>\n",
       "    </tr>\n",
       "    <tr>\n",
       "      <th>45</th>\n",
       "      <td>Drama</td>\n",
       "      <td>Drama</td>\n",
       "      <td>Turks &amp; Caicos (2014)</td>\n",
       "    </tr>\n",
       "    <tr>\n",
       "      <th>46</th>\n",
       "      <td>Drama | Action | Crime | Thriller</td>\n",
       "      <td>Action | Crime</td>\n",
       "      <td>Baxter, The (2005)</td>\n",
       "    </tr>\n",
       "    <tr>\n",
       "      <th>47</th>\n",
       "      <td>Action</td>\n",
       "      <td>Action</td>\n",
       "      <td>Pitfall (Otoshiana) (1962)</td>\n",
       "    </tr>\n",
       "    <tr>\n",
       "      <th>48</th>\n",
       "      <td>Drama</td>\n",
       "      <td>Drama</td>\n",
       "      <td>Mr. &amp; Mrs. Smith (1941)</td>\n",
       "    </tr>\n",
       "    <tr>\n",
       "      <th>49</th>\n",
       "      <td>Animation | Children | Comedy</td>\n",
       "      <td>Animation | Children | Comedy</td>\n",
       "      <td>5,000 Fingers of Dr. T, The (1953)</td>\n",
       "    </tr>\n",
       "  </tbody>\n",
       "</table>\n",
       "</div>"
      ],
      "text/plain": [
       "                                       Original Genre  ...                                              title\n",
       "0                                              Comedy  ...  First Beautiful Thing, The (La prima cosa bell...\n",
       "1                                               Drama  ...                         Terms of Endearment (1983)\n",
       "2                                             Romance  ...                               Skeleton Crew (2009)\n",
       "3                                              Comedy  ...                          Easy Come, Easy Go (1967)\n",
       "4                                               Drama  ...                    Head-On (Gegen die Wand) (2004)\n",
       "5                                    Romance | Sci-Fi  ...                  Day of Wrath (Vredens dag) (1943)\n",
       "6                                  Animation | Sci-Fi  ...   Fanny and Alexander (Fanny och Alexander) (1982)\n",
       "7                                               Drama  ...               Little Engine That Could, The (1991)\n",
       "8                        Adventure | Children | Drama  ...                          Slaves of New York (1989)\n",
       "9                                   Children | Comedy  ...                                 Sadist, The (1963)\n",
       "10                         Action | Thriller | Sci-Fi  ...                        Knight Without Armor (1937)\n",
       "11                                              Drama  ...                          As Good as It Gets (1997)\n",
       "12                                     Comedy | Drama  ...                                     Fiorile (1993)\n",
       "13                                              Crime  ...                                 Brassed Off (1996)\n",
       "14                        Thriller | Horror | Mystery  ...                                Kid Cannabis (2014)\n",
       "15                        Adventure | Romance | Drama  ...                                   100 Girls (2000)\n",
       "16                                     Drama | Horror  ...            Art of War III: Retribution, The (2009)\n",
       "17                                              Drama  ...                                     Dollman (1991)\n",
       "18                                     Comedy | Drama  ...                                  Love & Sex (2000)\n",
       "19                Romance | Drama | Action | Thriller  ...                           Eye of the Needle (1981)\n",
       "20                                             Comedy  ...       Marrying Man, The (Too Hot to Handle) (1991)\n",
       "21                                        Drama | War  ...                          The Forbidden Room (2015)\n",
       "22                                   Comedy | Musical  ...             Waiting Women (Kvinnors väntan) (1952)\n",
       "23  Adventure | Children | Fantasy | Thriller | Sc...  ...                             Falling in Love (1984)\n",
       "24                                  Adventure | Drama  ...                                 Set-Up, The (1949)\n",
       "25                                   Comedy | Musical  ...                                      Sheena (1984)\n",
       "26                                             Action  ...              Elle: A Modern Cinderella Tale (2011)\n",
       "27            Adventure | Children | Comedy | Musical  ...        William Shakespeare's Romeo + Juliet (1996)\n",
       "28                                     Comedy | Drama  ...                Not with My Wife, You Don't! (1966)\n",
       "29                                  Action | Thriller  ...                                Captain Kidd (1945)\n",
       "30                                  Thriller | Horror  ...                Dirty Dancing: Havana Nights (2004)\n",
       "31                                              Drama  ...                                    Restless (2011)\n",
       "32                                     Drama | Action  ...                           Operation Endgame (2010)\n",
       "33                                      Drama | Crime  ...                                Bran Nue Dae (2009)\n",
       "34                                             Comedy  ...                                  Black Dawn (2005)\n",
       "35                   Animation | Drama | Action | War  ...                       Paris When It Sizzles (1964)\n",
       "36                        Adventure | Action | Sci-Fi  ...                        Seven (a.k.a. Se7en) (1995)\n",
       "37                                    Romance | Drama  ...                                      Malaya (1949)\n",
       "38                                             Sci-Fi  ...                         Devil, The (Diabel) (1972)\n",
       "39                                 Adventure | Comedy  ...         Not on the Lips (Pas sur la bouche) (2003)\n",
       "40             Crime | Thriller | Mystery | Film-Noir  ...                          Night of the Lepus (1972)\n",
       "41              Adventure | Comedy | Romance | Horror  ...                          Pyaar Ka Punchnama (2011)\n",
       "42                        Children | Comedy | Musical  ...                                     Shrek 2 (2004)\n",
       "43                                             Comedy  ...                                Legal Eagles (1986)\n",
       "44                Adventure | Comedy | Action | Crime  ...  Peculiarities of the National Hunt (Osobennost...\n",
       "45                                              Drama  ...                              Turks & Caicos (2014)\n",
       "46                  Drama | Action | Crime | Thriller  ...                                 Baxter, The (2005)\n",
       "47                                             Action  ...                         Pitfall (Otoshiana) (1962)\n",
       "48                                              Drama  ...                            Mr. & Mrs. Smith (1941)\n",
       "49                      Animation | Children | Comedy  ...                 5,000 Fingers of Dr. T, The (1953)\n",
       "\n",
       "[50 rows x 3 columns]"
      ]
     },
     "execution_count": 90,
     "metadata": {
      "tags": []
     },
     "output_type": "execute_result"
    }
   ],
   "source": [
    "df = pd.DataFrame(columns=['Original Genre','Predicted Genre'])\n",
    "\n",
    "for i in range(50):\n",
    "  ori_gen = retrieve_genre(y_test[i])\n",
    "  pred_gen = get_prediction(i)\n",
    "  pred_gen = retrieve_genre(pred_gen)\n",
    "  df.loc[i] = [ori_gen,pred_gen]\n",
    "titl = list(X_train1['title'].head(50).values)\n",
    "df['title'] = list(titl)\n",
    "df"
   ]
  },
  {
   "cell_type": "markdown",
   "metadata": {},
   "source": [
    "# Conclusion"
   ]
  },
  {
   "cell_type": "code",
   "execution_count": 4,
   "metadata": {},
   "outputs": [
    {
     "name": "stdout",
     "output_type": "stream",
     "text": [
      "+----------------+-------------------+----------+\n",
      "| Word Embedding |       Model       | Accuracy |\n",
      "+----------------+-------------------+----------+\n",
      "|    Word2Vec    |   One-Dir. LSTM   |  0.9073  |\n",
      "|    Word2Vec    |    Bi-Dir. LSTM   | 0.90707  |\n",
      "|    Word2Vec    | Conv-1D with LSTM |  0.9016  |\n",
      "|     Glove      |   One-Dir. LSTM   |  0.9115  |\n",
      "|     Glove      |    Bi-Dir. LSTM   |  0.9101  |\n",
      "|     Glove      | Conv-1D with LSTM |  0.9092  |\n",
      "+----------------+-------------------+----------+\n"
     ]
    }
   ],
   "source": [
    "from prettytable import PrettyTable\n",
    "x = PrettyTable()\n",
    "\n",
    "x.field_names = [\"Word Embedding\", \"Model\", \"Accuracy\"]\n",
    "x.add_row([\"Word2Vec\", \"One-Dir. LSTM\", 0.9073])\n",
    "x.add_row([\"Word2Vec\", \"Bi-Dir. LSTM\", 0.90707])\n",
    "x.add_row([\"Word2Vec\", \"Conv-1D with LSTM\", 0.9016])\n",
    "\n",
    "x.add_row([\"Glove\", \"One-Dir. LSTM\", 0.91150])\n",
    "x.add_row([\"Glove\", \"Bi-Dir. LSTM\", 0.9101])\n",
    "x.add_row([\"Glove\", \"Conv-1D with LSTM\", 0.9092])\n",
    "\n",
    "\n",
    "print(x)"
   ]
  },
  {
   "cell_type": "markdown",
   "metadata": {},
   "source": [
    "- Glove Vectors Produce better accuracy then Word2vec for same models.\n",
    "\n",
    "- As it can be observed, it was not able to predict 100% all the genres belonging to the model, However still the results are more than decent. Atleast one of the genre has been correctly predicted by the models.\n",
    "\n",
    "- However using Hyperparameter tuning, further the results could be improved.\n"
   ]
  }
 ],
 "metadata": {
  "accelerator": "GPU",
  "colab": {
   "collapsed_sections": [],
   "name": "movie_genre_classification.ipynb",
   "provenance": [],
   "toc_visible": true
  },
  "kernelspec": {
   "display_name": "Python 3",
   "language": "python",
   "name": "python3"
  },
  "language_info": {
   "codemirror_mode": {
    "name": "ipython",
    "version": 3
   },
   "file_extension": ".py",
   "mimetype": "text/x-python",
   "name": "python",
   "nbconvert_exporter": "python",
   "pygments_lexer": "ipython3",
   "version": "3.6.5"
  }
 },
 "nbformat": 4,
 "nbformat_minor": 1
}
